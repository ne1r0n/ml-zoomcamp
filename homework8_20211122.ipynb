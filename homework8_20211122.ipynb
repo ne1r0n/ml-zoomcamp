{
 "cells": [
  {
   "cell_type": "markdown",
   "id": "ab417ddf",
   "metadata": {},
   "source": [
    "## Dataset\n",
    "\n",
    "In this homework, we'll build a model for predicting if we have an image of a dog or a cat. For this, we will use the \"Dogs & Cats\" dataset that can be downloaded from Kaggle.\n",
    "\n",
    "You need to download the train.zip file.\n",
    "\n",
    "If you have troubles downloading from Kaggle, use this link instead:\n",
    "\n",
    "wget https://github.com/alexeygrigorev/large-datasets/releases/download/dogs-cats/train.zip\n",
    "In the lectures we saw how to use a pre-trained neural network. In the homework, we'll train a much smaller model from scratch.\n",
    "\n",
    "Note: You don't need a computer with a GPU for this homework. A laptop or any personal computer should be sufficient.\n",
    "\n",
    "## Data Preparation\n",
    "\n",
    "The dataset contains 12,500 images of cats and 12,500 images of dogs.\n",
    "\n",
    "Now we need to split this data into train and validation\n",
    "\n",
    "Create a train and validation folders\n",
    "In each folder, create cats and dogs folders\n",
    "Move the first 10,000 images to the train folder (from 0 to 9999) for boths cats and dogs - and put them in respective folders\n",
    "Move the remaining 2,500 images to the validation folder (from 10000 to 12499)\n",
    "You can do this manually or with Python (check os and shutil packages).\n",
    "\n",
    "## Model\n",
    "\n",
    "For this homework we will use Convolutional Neural Network (CNN. Like in the lectures, we'll use Keras.\n",
    "\n",
    "You need to develop the model with following structure:\n",
    "\n",
    "The shape for input should be (150, 150, 3)\n",
    "Next, create a covolutional layer (Conv2D):\n",
    "Use 32 filters\n",
    "Kernel size should be (3, 3) (that's the size of the filter)\n",
    "Use 'relu' as activation\n",
    "Reduce the size of the feature map with max pooling (MaxPooling2D)\n",
    "Set the pooling size to (2, 2)\n",
    "Turn the multi-dimensional result into vectors using a Flatten layer\n",
    "Next, add a Dense layer with 64 neurons and 'relu' activation\n",
    "Finally, create the Dense layer with 1 neuron - this will be the output\n",
    "The output layer should have an activation - use the appropriate activation for the binary classification case\n",
    "As optimizer use SGD with the following parameters:\n",
    "\n",
    "SGD(lr=0.002, momentum=0.8)\n",
    "For clarification about kernel size and max pooling, check Week #11 Office Hours.\n",
    "\n"
   ]
  },
  {
   "cell_type": "code",
   "execution_count": 1,
   "id": "3dda70bb",
   "metadata": {},
   "outputs": [],
   "source": [
    "import numpy as np\n",
    "import matplotlib.pyplot as plt"
   ]
  },
  {
   "cell_type": "code",
   "execution_count": 2,
   "id": "bf185e3d",
   "metadata": {},
   "outputs": [],
   "source": [
    "import tensorflow as tf\n",
    "from tensorflow import keras"
   ]
  },
  {
   "cell_type": "code",
   "execution_count": 3,
   "id": "628c5332",
   "metadata": {},
   "outputs": [],
   "source": [
    "from tensorflow.keras.preprocessing.image import load_img\n",
    "from tensorflow.keras.applications.xception import Xception\n",
    "from tensorflow.keras.applications.xception import preprocess_input\n",
    "from tensorflow.keras.applications.xception import decode_predictions\n",
    "from tensorflow.keras.preprocessing.image import ImageDataGenerator"
   ]
  },
  {
   "cell_type": "code",
   "execution_count": 4,
   "id": "49eb5352",
   "metadata": {},
   "outputs": [],
   "source": [
    "from tensorflow.keras.models import Sequential\n",
    "from tensorflow.keras.layers import Dense, Flatten, Conv2D, MaxPooling2D\n",
    "from tensorflow.keras.losses import sparse_categorical_crossentropy\n",
    "from tensorflow.keras.optimizers import SGD"
   ]
  },
  {
   "cell_type": "markdown",
   "id": "d7f96ffb",
   "metadata": {},
   "source": [
    "## Question 1\n",
    "\n",
    "Since we have a binary classification problem, what is the best loss function for us?\n",
    "\n",
    "Note: since we specify an activation for the output layer, we don't need to set from_logits=True\n",
    "\n",
    "Answer: BinaryCrossEntropy"
   ]
  },
  {
   "cell_type": "markdown",
   "id": "90150f59",
   "metadata": {},
   "source": [
    "## Question 2\n",
    "\n",
    "What's the total number of parameters of the model? You can use the summary method for that.\n",
    "\n",
    "Answer: 11,215,873"
   ]
  },
  {
   "cell_type": "code",
   "execution_count": 5,
   "id": "fcdf2eb7",
   "metadata": {},
   "outputs": [
    {
     "name": "stdout",
     "output_type": "stream",
     "text": [
      "Model: \"model\"\n",
      "_________________________________________________________________\n",
      " Layer (type)                Output Shape              Param #   \n",
      "=================================================================\n",
      " input_1 (InputLayer)        [(None, 150, 150, 3)]     0         \n",
      "                                                                 \n",
      " conv_1 (Conv2D)             (None, 148, 148, 32)      896       \n",
      "                                                                 \n",
      " max_1 (MaxPooling2D)        (None, 74, 74, 32)        0         \n",
      "                                                                 \n",
      " flatten (Flatten)           (None, 175232)            0         \n",
      "                                                                 \n",
      " dense_1 (Dense)             (None, 64)                11214912  \n",
      "                                                                 \n",
      " output (Dense)              (None, 1)                 65        \n",
      "                                                                 \n",
      "=================================================================\n",
      "Total params: 11,215,873\n",
      "Trainable params: 11,215,873\n",
      "Non-trainable params: 0\n",
      "_________________________________________________________________\n"
     ]
    }
   ],
   "source": [
    "def create_model():\n",
    "    inputs = keras.Input(shape=(150,150,3))\n",
    "\n",
    "    x = Conv2D(32, kernel_size=(3,3), activation='relu', name='conv_1')(inputs)\n",
    "    x = MaxPooling2D(pool_size=(2,2), name='max_1')(x)\n",
    "    flatten = Flatten(name='flatten')(x)\n",
    "    x = Dense(64, activation='relu', name='dense_1')(flatten)\n",
    "\n",
    "    outputs = Dense(1, activation='sigmoid', name='output')(x)\n",
    "    model = keras.Model(inputs, outputs)\n",
    "    return model\n",
    "\n",
    "model = create_model()\n",
    "model.summary()\n",
    "\n",
    "\n"
   ]
  },
  {
   "cell_type": "markdown",
   "id": "1e5792dc",
   "metadata": {},
   "source": [
    "## Generators and Training\n",
    "\n",
    "For the next two questions, use the following data generator for both train and validation:\n",
    "\n",
    "ImageDataGenerator(rescale=1./255)\n",
    "We don't need to do any additional pre-processing for the images.\n",
    "When reading the data from train/val directories, check the class_mode parameter. Which value should it be for a binary classification problem?\n",
    "Use batch_size=20\n",
    "Use shuffle=True for both training and validaition\n",
    "For training use .fit() with the following params:\n",
    "\n",
    "model.fit(\n",
    "    train_generator,\n",
    "    steps_per_epoch=100,\n",
    "    epochs=10,\n",
    "    validation_data=validation_generator,\n",
    "    validation_steps=50\n",
    ")\n",
    "Note validation_steps=50 - this parameter says \"run only 50 steps on the validation data for evaluating the results\". This way we iterate a bit faster, but don't use the entire validation dataset. That's why it's important to shuffle the validation dataset as well."
   ]
  },
  {
   "cell_type": "code",
   "execution_count": 6,
   "id": "0b8ff341",
   "metadata": {},
   "outputs": [],
   "source": [
    "opt = SGD(learning_rate=0.002, momentum=0.8)\n",
    "loss = keras.losses.BinaryCrossentropy()\n",
    "\n",
    "# Compile the model\n",
    "model.compile(optimizer=opt,\n",
    "              loss=loss,\n",
    "              metrics=['accuracy'])"
   ]
  },
  {
   "cell_type": "code",
   "execution_count": 7,
   "id": "f1fb3bb3",
   "metadata": {},
   "outputs": [
    {
     "name": "stdout",
     "output_type": "stream",
     "text": [
      "Found 19995 images belonging to 2 classes.\n"
     ]
    }
   ],
   "source": [
    "train_gen = ImageDataGenerator(rescale=1./255)\n",
    "\n",
    "train_ds = train_gen.flow_from_directory(\n",
    "    '/Users/tonygunawan/Downloads/train/',\n",
    "    class_mode = 'binary',\n",
    "    target_size = (150, 150),\n",
    "    batch_size = 20,\n",
    "    shuffle = True)"
   ]
  },
  {
   "cell_type": "code",
   "execution_count": 8,
   "id": "819a6444",
   "metadata": {},
   "outputs": [
    {
     "data": {
      "text/plain": [
       "{'cats': 0, 'dogs': 1}"
      ]
     },
     "execution_count": 8,
     "metadata": {},
     "output_type": "execute_result"
    }
   ],
   "source": [
    "train_ds.class_indices"
   ]
  },
  {
   "cell_type": "code",
   "execution_count": 9,
   "id": "5c852b51",
   "metadata": {},
   "outputs": [],
   "source": [
    "X, y = next(train_ds)"
   ]
  },
  {
   "cell_type": "code",
   "execution_count": 10,
   "id": "4b4df09e",
   "metadata": {},
   "outputs": [
    {
     "data": {
      "text/plain": [
       "array([[[[0.41960788, 0.42352945, 0.4431373 ],\n",
       "         [0.43137258, 0.43529415, 0.454902  ],\n",
       "         [0.40784317, 0.41176474, 0.43137258],\n",
       "         ...,\n",
       "         [0.38823533, 0.38431376, 0.40784317],\n",
       "         [0.38431376, 0.3803922 , 0.40000004],\n",
       "         [0.38431376, 0.38431376, 0.3921569 ]],\n",
       "\n",
       "        [[0.4039216 , 0.40784317, 0.427451  ],\n",
       "         [0.40000004, 0.4039216 , 0.42352945],\n",
       "         [0.38823533, 0.3921569 , 0.41176474],\n",
       "         ...,\n",
       "         [0.3921569 , 0.3921569 , 0.40000004],\n",
       "         [0.3921569 , 0.3921569 , 0.3921569 ],\n",
       "         [0.38823533, 0.38823533, 0.3803922 ]],\n",
       "\n",
       "        [[0.38823533, 0.3921569 , 0.41176474],\n",
       "         [0.40000004, 0.4039216 , 0.42352945],\n",
       "         [0.40784317, 0.41176474, 0.43137258],\n",
       "         ...,\n",
       "         [0.3921569 , 0.3921569 , 0.38431376],\n",
       "         [0.40000004, 0.4039216 , 0.38431376],\n",
       "         [0.3803922 , 0.38431376, 0.36078432]],\n",
       "\n",
       "        ...,\n",
       "\n",
       "        [[0.44705886, 0.45098042, 0.47058827],\n",
       "         [0.4431373 , 0.44705886, 0.4666667 ],\n",
       "         [0.43921572, 0.4431373 , 0.46274513],\n",
       "         ...,\n",
       "         [0.40784317, 0.35686275, 0.32156864],\n",
       "         [0.41176474, 0.36078432, 0.3254902 ],\n",
       "         [0.4039216 , 0.3529412 , 0.31764707]],\n",
       "\n",
       "        [[0.45882356, 0.46274513, 0.48235297],\n",
       "         [0.4431373 , 0.44705886, 0.4666667 ],\n",
       "         [0.45098042, 0.454902  , 0.47450984],\n",
       "         ...,\n",
       "         [0.37647063, 0.3372549 , 0.29803923],\n",
       "         [0.37254903, 0.33333334, 0.29411766],\n",
       "         [0.38431376, 0.34509805, 0.30588236]],\n",
       "\n",
       "        [[0.47058827, 0.47450984, 0.48235297],\n",
       "         [0.45882356, 0.46274513, 0.47058827],\n",
       "         [0.454902  , 0.45882356, 0.4666667 ],\n",
       "         ...,\n",
       "         [0.40784317, 0.3529412 , 0.31764707],\n",
       "         [0.40000004, 0.34509805, 0.30980393],\n",
       "         [0.39607847, 0.34117648, 0.30588236]]],\n",
       "\n",
       "\n",
       "       [[[0.8117648 , 0.7803922 , 0.7725491 ],\n",
       "         [0.30588236, 0.27450982, 0.26666668],\n",
       "         [0.2392157 , 0.20784315, 0.20000002],\n",
       "         ...,\n",
       "         [0.4431373 , 0.49803925, 0.50980395],\n",
       "         [0.6745098 , 0.7294118 , 0.7411765 ],\n",
       "         [0.82745105, 0.882353  , 0.8941177 ]],\n",
       "\n",
       "        [[0.96470594, 0.9333334 , 0.92549026],\n",
       "         [0.35686275, 0.3254902 , 0.31764707],\n",
       "         [0.36862746, 0.3372549 , 0.32941177],\n",
       "         ...,\n",
       "         [0.6627451 , 0.7137255 , 0.7372549 ],\n",
       "         [0.5019608 , 0.5529412 , 0.5764706 ],\n",
       "         [0.7372549 , 0.78823537, 0.8117648 ]],\n",
       "\n",
       "        [[0.9333334 , 0.91372555, 0.90196085],\n",
       "         [0.29803923, 0.2784314 , 0.26666668],\n",
       "         [0.33333334, 0.3137255 , 0.3019608 ],\n",
       "         ...,\n",
       "         [0.6313726 , 0.68235296, 0.7137255 ],\n",
       "         [0.45098042, 0.5019608 , 0.53333336],\n",
       "         [0.7411765 , 0.79215693, 0.8235295 ]],\n",
       "\n",
       "        ...,\n",
       "\n",
       "        [[0.92549026, 0.9215687 , 0.9058824 ],\n",
       "         [0.32941177, 0.3254902 , 0.30980393],\n",
       "         [0.31764707, 0.3137255 , 0.29803923],\n",
       "         ...,\n",
       "         [0.85098046, 0.8000001 , 0.7372549 ],\n",
       "         [0.8235295 , 0.7725491 , 0.70980394],\n",
       "         [0.86666673, 0.81568635, 0.75294125]],\n",
       "\n",
       "        [[0.909804  , 0.9058824 , 0.89019614],\n",
       "         [0.32156864, 0.31764707, 0.3019608 ],\n",
       "         [0.31764707, 0.3137255 , 0.29803923],\n",
       "         ...,\n",
       "         [0.86666673, 0.81568635, 0.75294125],\n",
       "         [0.86274517, 0.8117648 , 0.7490196 ],\n",
       "         [0.78823537, 0.7372549 , 0.6745098 ]],\n",
       "\n",
       "        [[0.90196085, 0.9333334 , 0.89019614],\n",
       "         [0.32156864, 0.34117648, 0.3137255 ],\n",
       "         [0.31764707, 0.3372549 , 0.3137255 ],\n",
       "         ...,\n",
       "         [0.8352942 , 0.7803922 , 0.7294118 ],\n",
       "         [0.8705883 , 0.81568635, 0.76470596],\n",
       "         [0.85098046, 0.7960785 , 0.74509805]]],\n",
       "\n",
       "\n",
       "       [[[0.12156864, 0.1254902 , 0.14509805],\n",
       "         [0.10196079, 0.10588236, 0.1254902 ],\n",
       "         [0.12156864, 0.1254902 , 0.14509805],\n",
       "         ...,\n",
       "         [0.227451  , 0.21960786, 0.22352943],\n",
       "         [0.21176472, 0.20392159, 0.20784315],\n",
       "         [0.21568629, 0.20784315, 0.21176472]],\n",
       "\n",
       "        [[0.1137255 , 0.11764707, 0.13725491],\n",
       "         [0.13725491, 0.14117648, 0.16078432],\n",
       "         [0.15686275, 0.16078432, 0.18039216],\n",
       "         ...,\n",
       "         [0.21568629, 0.20784315, 0.21176472],\n",
       "         [0.18823531, 0.18039216, 0.18431373],\n",
       "         [0.19215688, 0.18431373, 0.18823531]],\n",
       "\n",
       "        [[0.15294118, 0.16470589, 0.18431373],\n",
       "         [0.14901961, 0.16078432, 0.18039216],\n",
       "         [0.14901961, 0.16078432, 0.18039216],\n",
       "         ...,\n",
       "         [0.20784315, 0.20000002, 0.20392159],\n",
       "         [0.19215688, 0.18431373, 0.18823531],\n",
       "         [0.20000002, 0.19215688, 0.19607845]],\n",
       "\n",
       "        ...,\n",
       "\n",
       "        [[0.7490196 , 0.7411765 , 0.5882353 ],\n",
       "         [0.59607846, 0.56078434, 0.5254902 ],\n",
       "         [0.9725491 , 0.9215687 , 0.9607844 ],\n",
       "         ...,\n",
       "         [0.41960788, 0.42352945, 0.4039216 ],\n",
       "         [0.37254903, 0.37647063, 0.3529412 ],\n",
       "         [0.37647063, 0.37254903, 0.3529412 ]],\n",
       "\n",
       "        [[0.7254902 , 0.7137255 , 0.5529412 ],\n",
       "         [0.9333334 , 0.8941177 , 0.78823537],\n",
       "         [1.        , 0.9294118 , 0.882353  ],\n",
       "         ...,\n",
       "         [0.40000004, 0.4039216 , 0.38431376],\n",
       "         [0.3647059 , 0.36862746, 0.34509805],\n",
       "         [0.4784314 , 0.47450984, 0.454902  ]],\n",
       "\n",
       "        [[0.78823537, 0.7254902 , 0.627451  ],\n",
       "         [0.7137255 , 0.6431373 , 0.5019608 ],\n",
       "         [0.7607844 , 0.6627451 , 0.5411765 ],\n",
       "         ...,\n",
       "         [0.5372549 , 0.5411765 , 0.52156866],\n",
       "         [0.21176472, 0.21568629, 0.19215688],\n",
       "         [0.24705884, 0.24313727, 0.22352943]]],\n",
       "\n",
       "\n",
       "       ...,\n",
       "\n",
       "\n",
       "       [[[0.14117648, 0.12156864, 0.10980393],\n",
       "         [0.14509805, 0.1254902 , 0.1137255 ],\n",
       "         [0.15686275, 0.13725491, 0.1254902 ],\n",
       "         ...,\n",
       "         [0.6156863 , 0.43529415, 0.12941177],\n",
       "         [0.5372549 , 0.38823533, 0.10196079],\n",
       "         [0.50980395, 0.40000004, 0.14509805]],\n",
       "\n",
       "        [[0.13725491, 0.11764707, 0.10588236],\n",
       "         [0.13333334, 0.1137255 , 0.10196079],\n",
       "         [0.13725491, 0.11764707, 0.10588236],\n",
       "         ...,\n",
       "         [0.6627451 , 0.4784314 , 0.17254902],\n",
       "         [0.6156863 , 0.46274513, 0.16862746],\n",
       "         [0.627451  , 0.5058824 , 0.2509804 ]],\n",
       "\n",
       "        [[0.15686275, 0.13333334, 0.13333334],\n",
       "         [0.14901961, 0.1254902 , 0.1254902 ],\n",
       "         [0.14509805, 0.12156864, 0.12156864],\n",
       "         ...,\n",
       "         [0.6117647 , 0.41960788, 0.10980393],\n",
       "         [0.5882353 , 0.40784317, 0.10588236],\n",
       "         [0.56078434, 0.4156863 , 0.14117648]],\n",
       "\n",
       "        ...,\n",
       "\n",
       "        [[0.6039216 , 0.45882356, 0.24313727],\n",
       "         [0.6901961 , 0.54509807, 0.32941177],\n",
       "         [0.6862745 , 0.54901963, 0.32941177],\n",
       "         ...,\n",
       "         [0.654902  , 0.4784314 , 0.31764707],\n",
       "         [0.6431373 , 0.4666667 , 0.3019608 ],\n",
       "         [0.627451  , 0.454902  , 0.2784314 ]],\n",
       "\n",
       "        [[0.6431373 , 0.49803925, 0.28235295],\n",
       "         [0.6509804 , 0.5058824 , 0.2901961 ],\n",
       "         [0.6509804 , 0.5137255 , 0.29411766],\n",
       "         ...,\n",
       "         [0.6666667 , 0.4901961 , 0.32941177],\n",
       "         [0.64705884, 0.47058827, 0.30588236],\n",
       "         [0.61960787, 0.44705886, 0.27058825]],\n",
       "\n",
       "        [[0.6313726 , 0.48627454, 0.27058825],\n",
       "         [0.6392157 , 0.49411768, 0.2784314 ],\n",
       "         [0.6509804 , 0.5137255 , 0.29411766],\n",
       "         ...,\n",
       "         [0.6745098 , 0.49803925, 0.3372549 ],\n",
       "         [0.6431373 , 0.4666667 , 0.3019608 ],\n",
       "         [0.6039216 , 0.43137258, 0.25490198]]],\n",
       "\n",
       "\n",
       "       [[[0.77647066, 0.7803922 , 0.78823537],\n",
       "         [0.76470596, 0.7686275 , 0.77647066],\n",
       "         [0.7607844 , 0.76470596, 0.7725491 ],\n",
       "         ...,\n",
       "         [0.57254905, 0.5372549 , 0.5568628 ],\n",
       "         [0.38431376, 0.38431376, 0.3921569 ],\n",
       "         [0.32156864, 0.3137255 , 0.2627451 ]],\n",
       "\n",
       "        [[0.74509805, 0.7490196 , 0.7568628 ],\n",
       "         [0.7490196 , 0.75294125, 0.7607844 ],\n",
       "         [0.7607844 , 0.76470596, 0.7725491 ],\n",
       "         ...,\n",
       "         [0.6392157 , 0.6039216 , 0.62352943],\n",
       "         [0.34901962, 0.34901962, 0.35686275],\n",
       "         [0.33333334, 0.32941177, 0.30980393]],\n",
       "\n",
       "        [[0.7372549 , 0.7411765 , 0.7568628 ],\n",
       "         [0.7411765 , 0.74509805, 0.7607844 ],\n",
       "         [0.7411765 , 0.74509805, 0.7607844 ],\n",
       "         ...,\n",
       "         [0.8431373 , 0.8078432 , 0.82745105],\n",
       "         [0.48627454, 0.48235297, 0.5019608 ],\n",
       "         [0.34901962, 0.34509805, 0.3372549 ]],\n",
       "\n",
       "        ...,\n",
       "\n",
       "        [[0.5176471 , 0.5568628 , 0.46274513],\n",
       "         [0.44705886, 0.46274513, 0.35686275],\n",
       "         [0.38823533, 0.38431376, 0.2627451 ],\n",
       "         ...,\n",
       "         [0.5686275 , 0.6431373 , 0.5647059 ],\n",
       "         [0.5372549 , 0.5647059 , 0.4431373 ],\n",
       "         [0.8235295 , 0.8470589 , 0.74509805]],\n",
       "\n",
       "        [[0.36862746, 0.41960788, 0.3529412 ],\n",
       "         [0.50980395, 0.5411765 , 0.44705886],\n",
       "         [0.62352943, 0.627451  , 0.5058824 ],\n",
       "         ...,\n",
       "         [0.37647063, 0.45882356, 0.40000004],\n",
       "         [0.30980393, 0.31764707, 0.23137257],\n",
       "         [0.5764706 , 0.59607846, 0.5176471 ]],\n",
       "\n",
       "        [[0.3137255 , 0.39607847, 0.227451  ],\n",
       "         [0.62352943, 0.6666667 , 0.5411765 ],\n",
       "         [0.43137258, 0.43137258, 0.32941177],\n",
       "         ...,\n",
       "         [0.67058825, 0.69411767, 0.5921569 ],\n",
       "         [0.50980395, 0.5529412 , 0.48627454],\n",
       "         [0.28235295, 0.29803923, 0.3019608 ]]],\n",
       "\n",
       "\n",
       "       [[[0.7686275 , 0.62352943, 0.44705886],\n",
       "         [0.7686275 , 0.62352943, 0.45098042],\n",
       "         [0.73333335, 0.5882353 , 0.42352945],\n",
       "         ...,\n",
       "         [0.54509807, 0.5176471 , 0.4784314 ],\n",
       "         [0.54509807, 0.5176471 , 0.4784314 ],\n",
       "         [0.54509807, 0.5176471 , 0.4784314 ]],\n",
       "\n",
       "        [[0.74509805, 0.6117647 , 0.43529415],\n",
       "         [0.7294118 , 0.59607846, 0.41960788],\n",
       "         [0.73333335, 0.59607846, 0.43137258],\n",
       "         ...,\n",
       "         [0.54509807, 0.5176471 , 0.4784314 ],\n",
       "         [0.54509807, 0.5176471 , 0.4784314 ],\n",
       "         [0.54509807, 0.5176471 , 0.4784314 ]],\n",
       "\n",
       "        [[0.7294118 , 0.5921569 , 0.427451  ],\n",
       "         [0.7137255 , 0.5764706 , 0.41176474],\n",
       "         [0.7176471 , 0.5803922 , 0.42352945],\n",
       "         ...,\n",
       "         [0.54509807, 0.5176471 , 0.4784314 ],\n",
       "         [0.54509807, 0.5176471 , 0.4784314 ],\n",
       "         [0.54509807, 0.5176471 , 0.4784314 ]],\n",
       "\n",
       "        ...,\n",
       "\n",
       "        [[0.1764706 , 0.27450982, 0.3019608 ],\n",
       "         [0.16470589, 0.3019608 , 0.31764707],\n",
       "         [0.15294118, 0.3647059 , 0.3647059 ],\n",
       "         ...,\n",
       "         [0.3019608 , 0.44705886, 0.48235297],\n",
       "         [0.38431376, 0.53333336, 0.5686275 ],\n",
       "         [0.4039216 , 0.56078434, 0.5921569 ]],\n",
       "\n",
       "        [[0.14509805, 0.29803923, 0.28627452],\n",
       "         [0.15686275, 0.3137255 , 0.30980393],\n",
       "         [0.19607845, 0.36078432, 0.35686275],\n",
       "         ...,\n",
       "         [0.28627452, 0.43137258, 0.4666667 ],\n",
       "         [0.36862746, 0.5254902 , 0.5568628 ],\n",
       "         [0.39607847, 0.57254905, 0.59607846]],\n",
       "\n",
       "        [[0.13725491, 0.34117648, 0.25490198],\n",
       "         [0.17254902, 0.34509805, 0.2784314 ],\n",
       "         [0.2392157 , 0.36862746, 0.3254902 ],\n",
       "         ...,\n",
       "         [0.31764707, 0.45098042, 0.4901961 ],\n",
       "         [0.3647059 , 0.53333336, 0.56078434],\n",
       "         [0.3921569 , 0.5764706 , 0.6       ]]]], dtype=float32)"
      ]
     },
     "execution_count": 10,
     "metadata": {},
     "output_type": "execute_result"
    }
   ],
   "source": [
    "X"
   ]
  },
  {
   "cell_type": "code",
   "execution_count": 11,
   "id": "ac268342",
   "metadata": {},
   "outputs": [
    {
     "data": {
      "text/plain": [
       "(20, 150, 150, 3)"
      ]
     },
     "execution_count": 11,
     "metadata": {},
     "output_type": "execute_result"
    }
   ],
   "source": [
    "X.shape"
   ]
  },
  {
   "cell_type": "code",
   "execution_count": 12,
   "id": "cada4193",
   "metadata": {},
   "outputs": [
    {
     "name": "stdout",
     "output_type": "stream",
     "text": [
      "Found 5000 images belonging to 2 classes.\n"
     ]
    }
   ],
   "source": [
    "val_gen = ImageDataGenerator(rescale=1./255)\n",
    "\n",
    "val_ds = val_gen.flow_from_directory(\n",
    "    '/Users/tonygunawan/Downloads/validation/',\n",
    "    class_mode = 'binary',\n",
    "    target_size = (150, 150),\n",
    "    batch_size = 20,\n",
    "    shuffle = True)"
   ]
  },
  {
   "cell_type": "code",
   "execution_count": 13,
   "id": "f239bd3f",
   "metadata": {},
   "outputs": [],
   "source": [
    "Y, z = next(val_ds)"
   ]
  },
  {
   "cell_type": "code",
   "execution_count": 14,
   "id": "23e7d098",
   "metadata": {},
   "outputs": [
    {
     "data": {
      "text/plain": [
       "(20, 150, 150, 3)"
      ]
     },
     "execution_count": 14,
     "metadata": {},
     "output_type": "execute_result"
    }
   ],
   "source": [
    "Y.shape"
   ]
  },
  {
   "cell_type": "code",
   "execution_count": 15,
   "id": "522323ce",
   "metadata": {},
   "outputs": [
    {
     "name": "stdout",
     "output_type": "stream",
     "text": [
      "Epoch 1/10\n",
      "100/100 [==============================] - 30s 288ms/step - loss: 0.7012 - accuracy: 0.5190 - val_loss: 0.6848 - val_accuracy: 0.5890\n",
      "Epoch 2/10\n",
      "100/100 [==============================] - 30s 302ms/step - loss: 0.6816 - accuracy: 0.5590 - val_loss: 0.6710 - val_accuracy: 0.6140\n",
      "Epoch 3/10\n",
      "100/100 [==============================] - 50s 496ms/step - loss: 0.6724 - accuracy: 0.5775 - val_loss: 0.6671 - val_accuracy: 0.5860\n",
      "Epoch 4/10\n",
      "100/100 [==============================] - 32s 319ms/step - loss: 0.6645 - accuracy: 0.5910 - val_loss: 0.6462 - val_accuracy: 0.6200\n",
      "Epoch 5/10\n",
      "100/100 [==============================] - 38s 373ms/step - loss: 0.6519 - accuracy: 0.6075 - val_loss: 0.6764 - val_accuracy: 0.5780\n",
      "Epoch 6/10\n",
      "100/100 [==============================] - 38s 379ms/step - loss: 0.6494 - accuracy: 0.6180 - val_loss: 0.6431 - val_accuracy: 0.6110\n",
      "Epoch 7/10\n",
      "100/100 [==============================] - 45s 449ms/step - loss: 0.6472 - accuracy: 0.6190 - val_loss: 0.6361 - val_accuracy: 0.6320\n",
      "Epoch 8/10\n",
      "100/100 [==============================] - 39s 390ms/step - loss: 0.6412 - accuracy: 0.6185 - val_loss: 0.6263 - val_accuracy: 0.6440\n",
      "Epoch 9/10\n",
      "100/100 [==============================] - 37s 370ms/step - loss: 0.6398 - accuracy: 0.6180 - val_loss: 0.6203 - val_accuracy: 0.6270\n",
      "Epoch 10/10\n",
      "100/100 [==============================] - 37s 368ms/step - loss: 0.6192 - accuracy: 0.6470 - val_loss: 0.6231 - val_accuracy: 0.6330\n"
     ]
    }
   ],
   "source": [
    "history = model.fit(\n",
    "    train_ds,\n",
    "    steps_per_epoch=100,\n",
    "    epochs=10,\n",
    "    validation_data=val_ds,\n",
    "    validation_steps=50\n",
    ")"
   ]
  },
  {
   "cell_type": "code",
   "execution_count": 16,
   "id": "72a5e2eb",
   "metadata": {},
   "outputs": [
    {
     "data": {
      "text/plain": [
       "<matplotlib.legend.Legend at 0x7fef28888df0>"
      ]
     },
     "execution_count": 16,
     "metadata": {},
     "output_type": "execute_result"
    },
    {
     "data": {
      "image/png": "[encoded data removed]",
      "text/plain": [
       "<Figure size 432x288 with 1 Axes>"
      ]
     },
     "metadata": {
      "needs_background": "light"
     },
     "output_type": "display_data"
    }
   ],
   "source": [
    "plt.plot(history.history['accuracy'], label='train')\n",
    "plt.plot(history.history['val_accuracy'], label='val')\n",
    "plt.xticks(np.arange(10))\n",
    "plt.legend()"
   ]
  },
  {
   "cell_type": "markdown",
   "id": "1662eacd",
   "metadata": {},
   "source": [
    "## Question 3\n",
    "\n",
    "What is the median of training accuracy for this model?"
   ]
  },
  {
   "cell_type": "code",
   "execution_count": 17,
   "id": "e110d816",
   "metadata": {},
   "outputs": [
    {
     "data": {
      "text/plain": [
       "0.6127499938011169"
      ]
     },
     "execution_count": 17,
     "metadata": {},
     "output_type": "execute_result"
    }
   ],
   "source": [
    "np.median(history.history['accuracy'])"
   ]
  },
  {
   "cell_type": "markdown",
   "id": "98b94808",
   "metadata": {},
   "source": [
    "## Question 4\n",
    "\n",
    "What is the standard deviation of training loss for this model?"
   ]
  },
  {
   "cell_type": "code",
   "execution_count": 18,
   "id": "b1e4c56d",
   "metadata": {},
   "outputs": [
    {
     "data": {
      "text/plain": [
       "0.022373124303165993"
      ]
     },
     "execution_count": 18,
     "metadata": {},
     "output_type": "execute_result"
    }
   ],
   "source": [
    "np.std(history.history['loss'])"
   ]
  },
  {
   "cell_type": "markdown",
   "id": "7e7355be",
   "metadata": {},
   "source": [
    "## Data Augmentation\n",
    "\n",
    "For the next two questions, we'll generate more data using data augmentations.\n",
    "\n",
    "Add the following augmentations to your training data generator:\n",
    "\n",
    "rotation_range=40,\n",
    "width_shift_range=0.2,\n",
    "height_shift_range=0.2,\n",
    "shear_range=0.2,\n",
    "zoom_range=0.2,\n",
    "horizontal_flip=True,\n",
    "fill_mode='nearest'"
   ]
  },
  {
   "cell_type": "code",
   "execution_count": 19,
   "id": "685adab0",
   "metadata": {},
   "outputs": [
    {
     "name": "stdout",
     "output_type": "stream",
     "text": [
      "Found 19995 images belonging to 2 classes.\n"
     ]
    }
   ],
   "source": [
    "train_gen = ImageDataGenerator(\n",
    "    rescale=1./255,\n",
    "    rotation_range=40,\n",
    "    width_shift_range=0.2,\n",
    "    height_shift_range=0.2,\n",
    "    shear_range=0.2,\n",
    "    zoom_range=0.2,\n",
    "    horizontal_flip=True,\n",
    "    fill_mode='nearest'\n",
    ")\n",
    "\n",
    "train_ds = train_gen.flow_from_directory(\n",
    "    '/Users/tonygunawan/Downloads/train/',\n",
    "    class_mode = 'binary',\n",
    "    target_size = (150, 150),\n",
    "    batch_size = 20,\n",
    "    shuffle = True\n",
    "    \n",
    ")"
   ]
  },
  {
   "cell_type": "code",
   "execution_count": 20,
   "id": "3f4325a1",
   "metadata": {},
   "outputs": [
    {
     "name": "stdout",
     "output_type": "stream",
     "text": [
      "Found 5000 images belonging to 2 classes.\n"
     ]
    }
   ],
   "source": [
    "val_gen = ImageDataGenerator(rescale=1./255)\n",
    "\n",
    "val_ds = val_gen.flow_from_directory(\n",
    "    '/Users/tonygunawan/Downloads/validation/',\n",
    "    class_mode = 'binary',\n",
    "    target_size = (150, 150),\n",
    "    batch_size = 20,\n",
    "    shuffle = True)"
   ]
  },
  {
   "cell_type": "code",
   "execution_count": 21,
   "id": "9eac7778",
   "metadata": {},
   "outputs": [
    {
     "name": "stdout",
     "output_type": "stream",
     "text": [
      "Epoch 1/20\n",
      "100/100 [==============================] - 38s 377ms/step - loss: 0.6525 - accuracy: 0.6085 - val_loss: 0.6306 - val_accuracy: 0.6370\n",
      "Epoch 2/20\n",
      "100/100 [==============================] - 41s 413ms/step - loss: 0.6419 - accuracy: 0.6220 - val_loss: 0.6170 - val_accuracy: 0.6540\n",
      "Epoch 3/20\n",
      "100/100 [==============================] - 39s 391ms/step - loss: 0.6489 - accuracy: 0.6090 - val_loss: 0.6213 - val_accuracy: 0.6350\n",
      "Epoch 4/20\n",
      "100/100 [==============================] - 52s 523ms/step - loss: 0.6387 - accuracy: 0.6135 - val_loss: 0.6543 - val_accuracy: 0.6060\n",
      "Epoch 5/20\n",
      "100/100 [==============================] - 50s 502ms/step - loss: 0.6395 - accuracy: 0.6185 - val_loss: 0.6396 - val_accuracy: 0.6070\n",
      "Epoch 6/20\n",
      "100/100 [==============================] - 47s 470ms/step - loss: 0.6422 - accuracy: 0.6266 - val_loss: 0.6056 - val_accuracy: 0.6690\n",
      "Epoch 7/20\n",
      "100/100 [==============================] - 45s 449ms/step - loss: 0.6514 - accuracy: 0.6135 - val_loss: 0.6169 - val_accuracy: 0.6700\n",
      "Epoch 8/20\n",
      "100/100 [==============================] - 43s 424ms/step - loss: 0.6502 - accuracy: 0.6080 - val_loss: 0.6223 - val_accuracy: 0.6130\n",
      "Epoch 9/20\n",
      "100/100 [==============================] - 44s 437ms/step - loss: 0.6407 - accuracy: 0.6220 - val_loss: 0.6181 - val_accuracy: 0.6350\n",
      "Epoch 10/20\n",
      "100/100 [==============================] - 50s 502ms/step - loss: 0.6347 - accuracy: 0.6340 - val_loss: 0.6445 - val_accuracy: 0.6210\n",
      "Epoch 11/20\n",
      "100/100 [==============================] - 44s 438ms/step - loss: 0.6415 - accuracy: 0.6300 - val_loss: 0.6233 - val_accuracy: 0.6300\n",
      "Epoch 12/20\n",
      "100/100 [==============================] - 48s 484ms/step - loss: 0.6516 - accuracy: 0.6125 - val_loss: 0.6506 - val_accuracy: 0.5870\n",
      "Epoch 13/20\n",
      "100/100 [==============================] - 50s 503ms/step - loss: 0.6397 - accuracy: 0.6310 - val_loss: 0.6249 - val_accuracy: 0.6460\n",
      "Epoch 14/20\n",
      "100/100 [==============================] - 51s 510ms/step - loss: 0.6404 - accuracy: 0.6325 - val_loss: 0.5960 - val_accuracy: 0.6790\n",
      "Epoch 15/20\n",
      "100/100 [==============================] - 51s 502ms/step - loss: 0.6315 - accuracy: 0.6480 - val_loss: 0.6031 - val_accuracy: 0.6770\n",
      "Epoch 16/20\n",
      "100/100 [==============================] - 44s 440ms/step - loss: 0.6418 - accuracy: 0.6330 - val_loss: 0.6025 - val_accuracy: 0.6800\n",
      "Epoch 17/20\n",
      "100/100 [==============================] - 41s 410ms/step - loss: 0.6327 - accuracy: 0.6505 - val_loss: 0.7253 - val_accuracy: 0.5590\n",
      "Epoch 18/20\n",
      "100/100 [==============================] - 42s 414ms/step - loss: 0.6401 - accuracy: 0.6290 - val_loss: 0.5980 - val_accuracy: 0.6740\n",
      "Epoch 19/20\n",
      "100/100 [==============================] - 45s 447ms/step - loss: 0.6169 - accuracy: 0.6655 - val_loss: 0.7600 - val_accuracy: 0.5300\n",
      "Epoch 20/20\n",
      "100/100 [==============================] - 43s 432ms/step - loss: 0.6324 - accuracy: 0.6380 - val_loss: 0.5923 - val_accuracy: 0.6770\n"
     ]
    }
   ],
   "source": [
    "history2 = model.fit(\n",
    "    train_ds,\n",
    "    steps_per_epoch=100,\n",
    "    epochs=20,\n",
    "    validation_data=val_ds,\n",
    "    validation_steps=50\n",
    ")"
   ]
  },
  {
   "cell_type": "code",
   "execution_count": 33,
   "id": "f9f850fa",
   "metadata": {},
   "outputs": [
    {
     "data": {
      "text/plain": [
       "<matplotlib.legend.Legend at 0x7fef2887a220>"
      ]
     },
     "execution_count": 33,
     "metadata": {},
     "output_type": "execute_result"
    },
    {
     "data": {
      "image/png": "[encoded data removed]",
      "text/plain": [
       "<Figure size 432x288 with 1 Axes>"
      ]
     },
     "metadata": {
      "needs_background": "light"
     },
     "output_type": "display_data"
    }
   ],
   "source": [
    "plt.plot(history2.history['accuracy'], label='train')\n",
    "plt.plot(history2.history['val_accuracy'], label='val')\n",
    "plt.xticks(np.arange(20))\n",
    "plt.legend()"
   ]
  },
  {
   "cell_type": "markdown",
   "id": "93724597",
   "metadata": {},
   "source": [
    "## Question 5\n",
    "\n",
    "Let's train our model for 10 more epochs using the same code as previously. Make sure you don't re-create the model - we want to continue training the model we already started training.\n",
    "\n",
    "What is the mean of validation loss for the model trained with augmentations?"
   ]
  },
  {
   "cell_type": "code",
   "execution_count": 29,
   "id": "dfedf262",
   "metadata": {},
   "outputs": [
    {
     "data": {
      "text/plain": [
       "0.6323038458824157"
      ]
     },
     "execution_count": 29,
     "metadata": {},
     "output_type": "execute_result"
    }
   ],
   "source": [
    "np.mean(history2.history['val_loss'])"
   ]
  },
  {
   "cell_type": "markdown",
   "id": "362280a9",
   "metadata": {},
   "source": [
    "## Question 6\n",
    "\n",
    "What's the average of validation accuracy for the last 5 epochs (from 6 to 10) for the model trained with augmentations?"
   ]
  },
  {
   "cell_type": "code",
   "execution_count": 27,
   "id": "46b2bd0f",
   "metadata": {},
   "outputs": [
    {
     "data": {
      "text/plain": [
       "0.6416"
      ]
     },
     "execution_count": 27,
     "metadata": {},
     "output_type": "execute_result"
    }
   ],
   "source": [
    "data = [0.6690, 0.6700, 0.6130, 0.6350, 0.6210]\n",
    "\n",
    "np.average(data)"
   ]
  },
  {
   "cell_type": "code",
   "execution_count": 31,
   "id": "5b09d3b1",
   "metadata": {},
   "outputs": [
    {
     "data": {
      "text/plain": [
       "0.6343000024557114"
      ]
     },
     "execution_count": 31,
     "metadata": {},
     "output_type": "execute_result"
    }
   ],
   "source": [
    "np.average(history2.history['val_accuracy'])"
   ]
  },
  {
   "cell_type": "code",
   "execution_count": null,
   "id": "f9ae8c2f",
   "metadata": {},
   "outputs": [],
   "source": []
  }
 ],
 "metadata": {
  "kernelspec": {
   "display_name": "Python 3",
   "language": "python",
   "name": "python3"
  },
  "language_info": {
   "codemirror_mode": {
    "name": "ipython",
    "version": 3
   },
   "file_extension": ".py",
   "mimetype": "text/x-python",
   "name": "python",
   "nbconvert_exporter": "python",
   "pygments_lexer": "ipython3",
   "version": "3.8.8"
  }
 },
 "nbformat": 4,
 "nbformat_minor": 5
}
