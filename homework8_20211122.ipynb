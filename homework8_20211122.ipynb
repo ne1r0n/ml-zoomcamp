{
 "cells": [
  {
   "cell_type": "markdown",
   "id": "11842944",
   "metadata": {},
   "source": [
    "## Dataset\n",
    "\n",
    "In this homework, we'll build a model for predicting if we have an image of a dog or a cat. For this, we will use the \"Dogs & Cats\" dataset that can be downloaded from Kaggle.\n",
    "\n",
    "You need to download the train.zip file.\n",
    "\n",
    "If you have troubles downloading from Kaggle, use this link instead:\n",
    "\n",
    "wget https://github.com/alexeygrigorev/large-datasets/releases/download/dogs-cats/train.zip\n",
    "In the lectures we saw how to use a pre-trained neural network. In the homework, we'll train a much smaller model from scratch.\n",
    "\n",
    "Note: You don't need a computer with a GPU for this homework. A laptop or any personal computer should be sufficient.\n",
    "\n",
    "## Data Preparation\n",
    "\n",
    "The dataset contains 12,500 images of cats and 12,500 images of dogs.\n",
    "\n",
    "Now we need to split this data into train and validation\n",
    "\n",
    "Create a train and validation folders\n",
    "In each folder, create cats and dogs folders\n",
    "Move the first 10,000 images to the train folder (from 0 to 9999) for boths cats and dogs - and put them in respective folders\n",
    "Move the remaining 2,500 images to the validation folder (from 10000 to 12499)\n",
    "You can do this manually or with Python (check os and shutil packages).\n",
    "\n",
    "## Model\n",
    "\n",
    "For this homework we will use Convolutional Neural Network (CNN. Like in the lectures, we'll use Keras.\n",
    "\n",
    "You need to develop the model with following structure:\n",
    "\n",
    "The shape for input should be (150, 150, 3)\n",
    "Next, create a covolutional layer (Conv2D):\n",
    "Use 32 filters\n",
    "Kernel size should be (3, 3) (that's the size of the filter)\n",
    "Use 'relu' as activation\n",
    "Reduce the size of the feature map with max pooling (MaxPooling2D)\n",
    "Set the pooling size to (2, 2)\n",
    "Turn the multi-dimensional result into vectors using a Flatten layer\n",
    "Next, add a Dense layer with 64 neurons and 'relu' activation\n",
    "Finally, create the Dense layer with 1 neuron - this will be the output\n",
    "The output layer should have an activation - use the appropriate activation for the binary classification case\n",
    "As optimizer use SGD with the following parameters:\n",
    "\n",
    "SGD(lr=0.002, momentum=0.8)\n",
    "For clarification about kernel size and max pooling, check Week #11 Office Hours.\n",
    "\n"
   ]
  },
  {
   "cell_type": "code",
   "execution_count": 1,
   "id": "6e2f87cb",
   "metadata": {},
   "outputs": [],
   "source": [
    "import numpy as np\n",
    "import matplotlib.pyplot as plt"
   ]
  },
  {
   "cell_type": "code",
   "execution_count": 2,
   "id": "2e5222c7",
   "metadata": {},
   "outputs": [],
   "source": [
    "import tensorflow as tf\n",
    "from tensorflow import keras"
   ]
  },
  {
   "cell_type": "code",
   "execution_count": 3,
   "id": "46a678fe",
   "metadata": {},
   "outputs": [],
   "source": [
    "from tensorflow.keras.preprocessing.image import load_img\n",
    "from tensorflow.keras.applications.xception import Xception\n",
    "from tensorflow.keras.applications.xception import preprocess_input\n",
    "from tensorflow.keras.applications.xception import decode_predictions\n",
    "from tensorflow.keras.preprocessing.image import ImageDataGenerator"
   ]
  },
  {
   "cell_type": "code",
   "execution_count": 4,
   "id": "0eb54a15",
   "metadata": {},
   "outputs": [],
   "source": [
    "from tensorflow.keras.models import Sequential\n",
    "from tensorflow.keras.layers import Dense, Flatten, Conv2D, MaxPooling2D\n",
    "from tensorflow.keras.losses import sparse_categorical_crossentropy\n",
    "from tensorflow.keras.optimizers import SGD"
   ]
  },
  {
   "cell_type": "markdown",
   "id": "ffa872bb",
   "metadata": {},
   "source": [
    "## Question 1\n",
    "\n",
    "Since we have a binary classification problem, what is the best loss function for us?\n",
    "\n",
    "Note: since we specify an activation for the output layer, we don't need to set from_logits=True\n",
    "\n",
    "Answer: BinaryCrossEntropy"
   ]
  },
  {
   "cell_type": "markdown",
   "id": "30267531",
   "metadata": {},
   "source": [
    "## Question 2\n",
    "\n",
    "What's the total number of parameters of the model? You can use the summary method for that.\n",
    "\n",
    "Answer: 11,215,873"
   ]
  },
  {
   "cell_type": "code",
   "execution_count": 5,
   "id": "7485485e",
   "metadata": {},
   "outputs": [
    {
     "name": "stdout",
     "output_type": "stream",
     "text": [
      "Model: \"model\"\n",
      "_________________________________________________________________\n",
      " Layer (type)                Output Shape              Param #   \n",
      "=================================================================\n",
      " input_1 (InputLayer)        [(None, 150, 150, 3)]     0         \n",
      "                                                                 \n",
      " conv_1 (Conv2D)             (None, 148, 148, 32)      896       \n",
      "                                                                 \n",
      " max_1 (MaxPooling2D)        (None, 74, 74, 32)        0         \n",
      "                                                                 \n",
      " flatten (Flatten)           (None, 175232)            0         \n",
      "                                                                 \n",
      " dense_1 (Dense)             (None, 64)                11214912  \n",
      "                                                                 \n",
      " output (Dense)              (None, 1)                 65        \n",
      "                                                                 \n",
      "=================================================================\n",
      "Total params: 11,215,873\n",
      "Trainable params: 11,215,873\n",
      "Non-trainable params: 0\n",
      "_________________________________________________________________\n"
     ]
    }
   ],
   "source": [
    "def create_model():\n",
    "    inputs = keras.Input(shape=(150,150,3))\n",
    "\n",
    "    x = Conv2D(32, kernel_size=(3,3), activation='relu', name='conv_1')(inputs)\n",
    "    x = MaxPooling2D(pool_size=(2,2), name='max_1')(x)\n",
    "    flatten = Flatten(name='flatten')(x)\n",
    "    x = Dense(64, activation='relu', name='dense_1')(flatten)\n",
    "\n",
    "    outputs = Dense(1, activation='sigmoid', name='output')(x)\n",
    "    model = keras.Model(inputs, outputs)\n",
    "    return model\n",
    "\n",
    "model = create_model()\n",
    "model.summary()\n",
    "\n",
    "\n"
   ]
  },
  {
   "cell_type": "markdown",
   "id": "eff675ee",
   "metadata": {},
   "source": [
    "## Generators and Training\n",
    "\n",
    "For the next two questions, use the following data generator for both train and validation:\n",
    "\n",
    "ImageDataGenerator(rescale=1./255)\n",
    "We don't need to do any additional pre-processing for the images.\n",
    "When reading the data from train/val directories, check the class_mode parameter. Which value should it be for a binary classification problem?\n",
    "Use batch_size=20\n",
    "Use shuffle=True for both training and validaition\n",
    "For training use .fit() with the following params:\n",
    "\n",
    "model.fit(\n",
    "    train_generator,\n",
    "    steps_per_epoch=100,\n",
    "    epochs=10,\n",
    "    validation_data=validation_generator,\n",
    "    validation_steps=50\n",
    ")\n",
    "Note validation_steps=50 - this parameter says \"run only 50 steps on the validation data for evaluating the results\". This way we iterate a bit faster, but don't use the entire validation dataset. That's why it's important to shuffle the validation dataset as well."
   ]
  },
  {
   "cell_type": "code",
   "execution_count": 6,
   "id": "da5b2847",
   "metadata": {},
   "outputs": [],
   "source": [
    "opt = SGD(learning_rate=0.002, momentum=0.8)\n",
    "loss = keras.losses.BinaryCrossentropy()\n",
    "\n",
    "# Compile the model\n",
    "model.compile(optimizer=opt,\n",
    "              loss=loss,\n",
    "              metrics=['accuracy'])"
   ]
  },
  {
   "cell_type": "code",
   "execution_count": 7,
   "id": "ed6fbec8",
   "metadata": {},
   "outputs": [
    {
     "name": "stdout",
     "output_type": "stream",
     "text": [
      "Found 19995 images belonging to 2 classes.\n"
     ]
    }
   ],
   "source": [
    "train_gen = ImageDataGenerator(rescale=1./255)\n",
    "\n",
    "train_ds = train_gen.flow_from_directory(\n",
    "    '/Users/tonygunawan/Downloads/train/',\n",
    "    class_mode = 'binary',\n",
    "    target_size = (150, 150),\n",
    "    batch_size = 20,\n",
    "    shuffle = True)"
   ]
  },
  {
   "cell_type": "code",
   "execution_count": 8,
   "id": "79c8d728",
   "metadata": {},
   "outputs": [
    {
     "data": {
      "text/plain": [
       "{'cats': 0, 'dogs': 1}"
      ]
     },
     "execution_count": 8,
     "metadata": {},
     "output_type": "execute_result"
    }
   ],
   "source": [
    "train_ds.class_indices"
   ]
  },
  {
   "cell_type": "code",
   "execution_count": 9,
   "id": "d54f4fd2",
   "metadata": {},
   "outputs": [],
   "source": [
    "X, y = next(train_ds)"
   ]
  },
  {
   "cell_type": "code",
   "execution_count": 10,
   "id": "fd073de5",
   "metadata": {},
   "outputs": [
    {
     "data": {
      "text/plain": [
       "array([[[[0.62352943, 0.7019608 , 0.65882355],\n",
       "         [0.61960787, 0.69803923, 0.6509804 ],\n",
       "         [0.6431373 , 0.70980394, 0.64705884],\n",
       "         ...,\n",
       "         [0.23137257, 0.27450982, 0.25882354],\n",
       "         [0.26666668, 0.3254902 , 0.2509804 ],\n",
       "         [0.3137255 , 0.38431376, 0.28235295]],\n",
       "\n",
       "        [[0.60784316, 0.6901961 , 0.6313726 ],\n",
       "         [0.6117647 , 0.69411767, 0.63529414],\n",
       "         [0.6431373 , 0.70980394, 0.64705884],\n",
       "         ...,\n",
       "         [0.21960786, 0.2627451 , 0.24705884],\n",
       "         [0.26666668, 0.3254902 , 0.2509804 ],\n",
       "         [0.31764707, 0.37647063, 0.29411766]],\n",
       "\n",
       "        [[0.6039216 , 0.6901961 , 0.6       ],\n",
       "         [0.6156863 , 0.7019608 , 0.61960787],\n",
       "         [0.64705884, 0.7137255 , 0.6509804 ],\n",
       "         ...,\n",
       "         [0.2392157 , 0.28235295, 0.26666668],\n",
       "         [0.3019608 , 0.35686275, 0.2901961 ],\n",
       "         [0.30980393, 0.3647059 , 0.30588236]],\n",
       "\n",
       "        ...,\n",
       "\n",
       "        [[0.15294118, 0.16078432, 0.11764707],\n",
       "         [0.20000002, 0.14901961, 0.11764707],\n",
       "         [0.14509805, 0.13725491, 0.08627451],\n",
       "         ...,\n",
       "         [0.2509804 , 0.27058825, 0.18431373],\n",
       "         [0.23529413, 0.2392157 , 0.25490198],\n",
       "         [0.2784314 , 0.28627452, 0.26666668]],\n",
       "\n",
       "        [[0.1254902 , 0.1137255 , 0.09411766],\n",
       "         [0.21568629, 0.13725491, 0.14117648],\n",
       "         [0.14901961, 0.12156864, 0.09019608],\n",
       "         ...,\n",
       "         [0.21960786, 0.2392157 , 0.15294118],\n",
       "         [0.24705884, 0.2509804 , 0.26666668],\n",
       "         [0.25882354, 0.26666668, 0.24705884]],\n",
       "\n",
       "        [[0.18431373, 0.14117648, 0.15686275],\n",
       "         [0.20000002, 0.10196079, 0.1254902 ],\n",
       "         [0.19215688, 0.13725491, 0.13725491],\n",
       "         ...,\n",
       "         [0.2627451 , 0.28235295, 0.19607845],\n",
       "         [0.23137257, 0.23529413, 0.2509804 ],\n",
       "         [0.2392157 , 0.2509804 , 0.22352943]]],\n",
       "\n",
       "\n",
       "       [[[0.77647066, 0.7960785 , 0.7803922 ],\n",
       "         [0.7725491 , 0.79215693, 0.77647066],\n",
       "         [0.75294125, 0.7725491 , 0.7568628 ],\n",
       "         ...,\n",
       "         [0.7294118 , 0.73333335, 0.7137255 ],\n",
       "         [0.7294118 , 0.73333335, 0.7137255 ],\n",
       "         [0.7176471 , 0.72156864, 0.7019608 ]],\n",
       "\n",
       "        [[0.7568628 , 0.77647066, 0.7607844 ],\n",
       "         [0.7607844 , 0.7803922 , 0.76470596],\n",
       "         [0.7607844 , 0.7803922 , 0.76470596],\n",
       "         ...,\n",
       "         [0.74509805, 0.7490196 , 0.7294118 ],\n",
       "         [0.7686275 , 0.7725491 , 0.75294125],\n",
       "         [0.7725491 , 0.77647066, 0.7568628 ]],\n",
       "\n",
       "        [[0.7686275 , 0.78823537, 0.7725491 ],\n",
       "         [0.7725491 , 0.79215693, 0.77647066],\n",
       "         [0.7725491 , 0.79215693, 0.77647066],\n",
       "         ...,\n",
       "         [0.78823537, 0.79215693, 0.7725491 ],\n",
       "         [0.7568628 , 0.7607844 , 0.7411765 ],\n",
       "         [0.73333335, 0.7372549 , 0.7176471 ]],\n",
       "\n",
       "        ...,\n",
       "\n",
       "        [[0.09803922, 0.09803922, 0.09019608],\n",
       "         [0.09411766, 0.09411766, 0.08627451],\n",
       "         [0.1137255 , 0.1137255 , 0.10588236],\n",
       "         ...,\n",
       "         [0.69411767, 0.67058825, 0.6784314 ],\n",
       "         [0.6901961 , 0.6666667 , 0.6745098 ],\n",
       "         [0.6784314 , 0.654902  , 0.654902  ]],\n",
       "\n",
       "        [[0.11764707, 0.11764707, 0.10980393],\n",
       "         [0.10196079, 0.10196079, 0.09411766],\n",
       "         [0.09803922, 0.09803922, 0.09019608],\n",
       "         ...,\n",
       "         [0.64705884, 0.62352943, 0.6313726 ],\n",
       "         [0.654902  , 0.6313726 , 0.6392157 ],\n",
       "         [0.67058825, 0.64705884, 0.64705884]],\n",
       "\n",
       "        [[0.1137255 , 0.1137255 , 0.10588236],\n",
       "         [0.09803922, 0.09803922, 0.09019608],\n",
       "         [0.10980393, 0.10980393, 0.10196079],\n",
       "         ...,\n",
       "         [0.62352943, 0.6       , 0.60784316],\n",
       "         [0.62352943, 0.6       , 0.60784316],\n",
       "         [0.6156863 , 0.5921569 , 0.5921569 ]]],\n",
       "\n",
       "\n",
       "       [[[0.5411765 , 0.6431373 , 0.6313726 ],\n",
       "         [0.6431373 , 0.74509805, 0.73333335],\n",
       "         [0.627451  , 0.7294118 , 0.7176471 ],\n",
       "         ...,\n",
       "         [0.8078432 , 0.9568628 , 0.9686275 ],\n",
       "         [0.74509805, 0.8941177 , 0.9058824 ],\n",
       "         [0.77647066, 0.93725497, 0.9450981 ]],\n",
       "\n",
       "        [[0.627451  , 0.7254902 , 0.7137255 ],\n",
       "         [0.63529414, 0.73333335, 0.72156864],\n",
       "         [0.6745098 , 0.7725491 , 0.7607844 ],\n",
       "         ...,\n",
       "         [0.81568635, 0.9725491 , 0.9803922 ],\n",
       "         [0.77647066, 0.9333334 , 0.94117653],\n",
       "         [0.8000001 , 0.9607844 , 0.9686275 ]],\n",
       "\n",
       "        [[0.6039216 , 0.6745098 , 0.6745098 ],\n",
       "         [0.6117647 , 0.68235296, 0.68235296],\n",
       "         [0.6431373 , 0.7137255 , 0.7137255 ],\n",
       "         ...,\n",
       "         [0.75294125, 0.91372555, 0.9215687 ],\n",
       "         [0.7294118 , 0.89019614, 0.8980393 ],\n",
       "         [0.77647066, 0.9490197 , 0.95294124]],\n",
       "\n",
       "        ...,\n",
       "\n",
       "        [[0.08627451, 0.05490196, 0.04705883],\n",
       "         [0.07058824, 0.05490196, 0.04313726],\n",
       "         [0.10196079, 0.10588236, 0.08627451],\n",
       "         ...,\n",
       "         [0.8313726 , 0.97647065, 0.9490197 ],\n",
       "         [0.7411765 , 0.87843144, 0.854902  ],\n",
       "         [0.75294125, 0.89019614, 0.86666673]],\n",
       "\n",
       "        [[0.08235294, 0.0509804 , 0.04313726],\n",
       "         [0.08627451, 0.07058824, 0.05882353],\n",
       "         [0.05490196, 0.05882353, 0.03921569],\n",
       "         ...,\n",
       "         [0.7490196 , 0.8941177 , 0.86666673],\n",
       "         [0.79215693, 0.9294118 , 0.9058824 ],\n",
       "         [0.75294125, 0.89019614, 0.86666673]],\n",
       "\n",
       "        [[0.0509804 , 0.01960784, 0.01176471],\n",
       "         [0.07058824, 0.05490196, 0.04313726],\n",
       "         [0.04705883, 0.0509804 , 0.03137255],\n",
       "         ...,\n",
       "         [0.7568628 , 0.90196085, 0.8745099 ],\n",
       "         [0.74509805, 0.882353  , 0.8588236 ],\n",
       "         [0.72156864, 0.8588236 , 0.8352942 ]]],\n",
       "\n",
       "\n",
       "       ...,\n",
       "\n",
       "\n",
       "       [[[0.04313726, 0.06666667, 0.20784315],\n",
       "         [0.15294118, 0.1764706 , 0.3019608 ],\n",
       "         [0.15686275, 0.18431373, 0.29803923],\n",
       "         ...,\n",
       "         [0.56078434, 0.5647059 , 0.6862745 ],\n",
       "         [0.56078434, 0.57254905, 0.6313726 ],\n",
       "         [0.21176472, 0.27450982, 0.33333334]],\n",
       "\n",
       "        [[0.0509804 , 0.07450981, 0.20000002],\n",
       "         [0.08235294, 0.10980393, 0.21960786],\n",
       "         [0.11764707, 0.14509805, 0.24705884],\n",
       "         ...,\n",
       "         [0.60784316, 0.6431373 , 0.7725491 ],\n",
       "         [0.40784317, 0.4431373 , 0.50980395],\n",
       "         [0.24313727, 0.30588236, 0.4039216 ]],\n",
       "\n",
       "        [[0.04705883, 0.07843138, 0.16862746],\n",
       "         [0.0509804 , 0.08235294, 0.16470589],\n",
       "         [0.07450981, 0.10588236, 0.18823531],\n",
       "         ...,\n",
       "         [0.48235297, 0.5058824 , 0.6       ],\n",
       "         [0.6392157 , 0.6627451 , 0.70980394],\n",
       "         [0.20784315, 0.27450982, 0.37647063]],\n",
       "\n",
       "        ...,\n",
       "\n",
       "        [[0.7058824 , 0.62352943, 0.4156863 ],\n",
       "         [0.6313726 , 0.5254902 , 0.41176474],\n",
       "         [0.70980394, 0.6039216 , 0.56078434],\n",
       "         ...,\n",
       "         [0.3647059 , 0.3921569 , 0.42352945],\n",
       "         [0.3372549 , 0.3647059 , 0.38823533],\n",
       "         [0.3372549 , 0.31764707, 0.39607847]],\n",
       "\n",
       "        [[0.59607846, 0.5372549 , 0.46274513],\n",
       "         [0.57254905, 0.5019608 , 0.44705886],\n",
       "         [0.6039216 , 0.54901963, 0.5058824 ],\n",
       "         ...,\n",
       "         [0.3254902 , 0.32156864, 0.3529412 ],\n",
       "         [0.37254903, 0.3647059 , 0.4156863 ],\n",
       "         [0.38823533, 0.40000004, 0.43529415]],\n",
       "\n",
       "        [[0.63529414, 0.6       , 0.5647059 ],\n",
       "         [0.5019608 , 0.45098042, 0.427451  ],\n",
       "         [0.45882356, 0.41960788, 0.4156863 ],\n",
       "         ...,\n",
       "         [0.3372549 , 0.33333334, 0.35686275],\n",
       "         [0.2627451 , 0.25490198, 0.30588236],\n",
       "         [0.49803925, 0.50980395, 0.54509807]]],\n",
       "\n",
       "\n",
       "       [[[0.43137258, 0.28627452, 0.17254902],\n",
       "         [0.46274513, 0.3254902 , 0.20784315],\n",
       "         [0.33333334, 0.20392159, 0.08235294],\n",
       "         ...,\n",
       "         [0.43529415, 0.4431373 , 0.5254902 ],\n",
       "         [0.37254903, 0.38431376, 0.4431373 ],\n",
       "         [0.45882356, 0.47450984, 0.52156866]],\n",
       "\n",
       "        [[0.43529415, 0.2901961 , 0.1764706 ],\n",
       "         [0.45098042, 0.3137255 , 0.19607845],\n",
       "         [0.33333334, 0.20392159, 0.08235294],\n",
       "         ...,\n",
       "         [0.58431375, 0.59607846, 0.6627451 ],\n",
       "         [0.28235295, 0.29803923, 0.34509805],\n",
       "         [0.0509804 , 0.06666667, 0.10196079]],\n",
       "\n",
       "        [[0.44705886, 0.3019608 , 0.18823531],\n",
       "         [0.44705886, 0.30980393, 0.19215688],\n",
       "         [0.33333334, 0.20392159, 0.08235294],\n",
       "         ...,\n",
       "         [0.16078432, 0.16862746, 0.21568629],\n",
       "         [0.08627451, 0.09803922, 0.1254902 ],\n",
       "         [0.05882353, 0.07058824, 0.09019608]],\n",
       "\n",
       "        ...,\n",
       "\n",
       "        [[0.427451  , 0.4039216 , 0.41176474],\n",
       "         [0.38431376, 0.36078432, 0.36862746],\n",
       "         [0.37254903, 0.34901962, 0.35686275],\n",
       "         ...,\n",
       "         [0.01960784, 0.01176471, 0.01568628],\n",
       "         [0.01176471, 0.00392157, 0.00784314],\n",
       "         [0.01176471, 0.00392157, 0.00784314]],\n",
       "\n",
       "        [[0.3803922 , 0.35686275, 0.3647059 ],\n",
       "         [0.37647063, 0.3529412 , 0.36078432],\n",
       "         [0.3803922 , 0.35686275, 0.3647059 ],\n",
       "         ...,\n",
       "         [0.01568628, 0.00784314, 0.01176471],\n",
       "         [0.01960784, 0.01176471, 0.01568628],\n",
       "         [0.01960784, 0.01176471, 0.01568628]],\n",
       "\n",
       "        [[0.39607847, 0.37254903, 0.3803922 ],\n",
       "         [0.44705886, 0.42352945, 0.43137258],\n",
       "         [0.427451  , 0.4039216 , 0.41176474],\n",
       "         ...,\n",
       "         [0.01568628, 0.00784314, 0.01176471],\n",
       "         [0.01960784, 0.01176471, 0.01568628],\n",
       "         [0.01960784, 0.01176471, 0.01568628]]],\n",
       "\n",
       "\n",
       "       [[[0.5568628 , 0.50980395, 0.3137255 ],\n",
       "         [0.54509807, 0.49803925, 0.3019608 ],\n",
       "         [0.6039216 , 0.5568628 , 0.36078432],\n",
       "         ...,\n",
       "         [0.5686275 , 0.5176471 , 0.34509805],\n",
       "         [0.60784316, 0.5529412 , 0.40000004],\n",
       "         [0.57254905, 0.52156866, 0.34901962]],\n",
       "\n",
       "        [[0.56078434, 0.5137255 , 0.3254902 ],\n",
       "         [0.5647059 , 0.5176471 , 0.32941177],\n",
       "         [0.53333336, 0.48627454, 0.29803923],\n",
       "         ...,\n",
       "         [0.5882353 , 0.5372549 , 0.3647059 ],\n",
       "         [0.5647059 , 0.5137255 , 0.34901962],\n",
       "         [0.5764706 , 0.5294118 , 0.33333334]],\n",
       "\n",
       "        [[0.56078434, 0.5137255 , 0.3254902 ],\n",
       "         [0.5411765 , 0.49411768, 0.30588236],\n",
       "         [0.5764706 , 0.5294118 , 0.34117648],\n",
       "         ...,\n",
       "         [0.58431375, 0.53333336, 0.35686275],\n",
       "         [0.5764706 , 0.5254902 , 0.3529412 ],\n",
       "         [0.5921569 , 0.54901963, 0.3372549 ]],\n",
       "\n",
       "        ...,\n",
       "\n",
       "        [[0.5647059 , 0.5372549 , 0.427451  ],\n",
       "         [0.5647059 , 0.5372549 , 0.427451  ],\n",
       "         [0.5568628 , 0.5294118 , 0.41960788],\n",
       "         ...,\n",
       "         [0.39607847, 0.34509805, 0.2784314 ],\n",
       "         [0.39607847, 0.33333334, 0.27058825],\n",
       "         [0.4039216 , 0.3529412 , 0.28627452]],\n",
       "\n",
       "        [[0.5529412 , 0.5137255 , 0.40784317],\n",
       "         [0.56078434, 0.52156866, 0.4156863 ],\n",
       "         [0.5529412 , 0.5137255 , 0.40784317],\n",
       "         ...,\n",
       "         [0.6       , 0.5529412 , 0.4901961 ],\n",
       "         [0.5568628 , 0.49411768, 0.43529415],\n",
       "         [0.5019608 , 0.45882356, 0.38823533]],\n",
       "\n",
       "        [[0.5686275 , 0.52156866, 0.43529415],\n",
       "         [0.5803922 , 0.53333336, 0.44705886],\n",
       "         [0.5803922 , 0.53333336, 0.44705886],\n",
       "         ...,\n",
       "         [0.50980395, 0.47450984, 0.40784317],\n",
       "         [0.5372549 , 0.48627454, 0.42352945],\n",
       "         [0.5882353 , 0.56078434, 0.48627454]]]], dtype=float32)"
      ]
     },
     "execution_count": 10,
     "metadata": {},
     "output_type": "execute_result"
    }
   ],
   "source": [
    "X"
   ]
  },
  {
   "cell_type": "code",
   "execution_count": 11,
   "id": "0bebd10e",
   "metadata": {},
   "outputs": [
    {
     "data": {
      "text/plain": [
       "(20, 150, 150, 3)"
      ]
     },
     "execution_count": 11,
     "metadata": {},
     "output_type": "execute_result"
    }
   ],
   "source": [
    "X.shape"
   ]
  },
  {
   "cell_type": "code",
   "execution_count": 12,
   "id": "6038c751",
   "metadata": {},
   "outputs": [
    {
     "name": "stdout",
     "output_type": "stream",
     "text": [
      "Found 5000 images belonging to 2 classes.\n"
     ]
    }
   ],
   "source": [
    "val_gen = ImageDataGenerator(rescale=1./255)\n",
    "\n",
    "val_ds = val_gen.flow_from_directory(\n",
    "    '/Users/tonygunawan/Downloads/validation/',\n",
    "    class_mode = 'binary',\n",
    "    target_size = (150, 150),\n",
    "    batch_size = 20,\n",
    "    shuffle = True)"
   ]
  },
  {
   "cell_type": "code",
   "execution_count": 13,
   "id": "047472e1",
   "metadata": {},
   "outputs": [],
   "source": [
    "Y, z = next(val_ds)"
   ]
  },
  {
   "cell_type": "code",
   "execution_count": 14,
   "id": "8e56336c",
   "metadata": {},
   "outputs": [
    {
     "data": {
      "text/plain": [
       "(20, 150, 150, 3)"
      ]
     },
     "execution_count": 14,
     "metadata": {},
     "output_type": "execute_result"
    }
   ],
   "source": [
    "Y.shape"
   ]
  },
  {
   "cell_type": "code",
   "execution_count": 15,
   "id": "601b6851",
   "metadata": {},
   "outputs": [
    {
     "name": "stdout",
     "output_type": "stream",
     "text": [
      "Epoch 1/10\n",
      "100/100 [==============================] - 29s 284ms/step - loss: 0.7009 - accuracy: 0.5123 - val_loss: 0.6962 - val_accuracy: 0.4930\n",
      "Epoch 2/10\n",
      "100/100 [==============================] - 28s 279ms/step - loss: 0.6927 - accuracy: 0.5090 - val_loss: 0.6934 - val_accuracy: 0.4730\n",
      "Epoch 3/10\n",
      "100/100 [==============================] - 30s 296ms/step - loss: 0.6922 - accuracy: 0.5165 - val_loss: 0.6914 - val_accuracy: 0.5750\n",
      "Epoch 4/10\n",
      "100/100 [==============================] - 32s 323ms/step - loss: 0.6899 - accuracy: 0.5535 - val_loss: 0.6865 - val_accuracy: 0.5600\n",
      "Epoch 5/10\n",
      "100/100 [==============================] - 31s 309ms/step - loss: 0.6810 - accuracy: 0.5555 - val_loss: 0.6819 - val_accuracy: 0.5490\n",
      "Epoch 6/10\n",
      "100/100 [==============================] - 31s 307ms/step - loss: 0.6755 - accuracy: 0.5645 - val_loss: 0.6839 - val_accuracy: 0.5440\n",
      "Epoch 7/10\n",
      "100/100 [==============================] - 31s 311ms/step - loss: 0.6709 - accuracy: 0.5935 - val_loss: 0.6664 - val_accuracy: 0.6050\n",
      "Epoch 8/10\n",
      "100/100 [==============================] - 33s 335ms/step - loss: 0.6664 - accuracy: 0.5955 - val_loss: 0.6572 - val_accuracy: 0.6080\n",
      "Epoch 9/10\n",
      "100/100 [==============================] - 34s 335ms/step - loss: 0.6551 - accuracy: 0.6225 - val_loss: 0.6502 - val_accuracy: 0.6100\n",
      "Epoch 10/10\n",
      "100/100 [==============================] - 31s 306ms/step - loss: 0.6420 - accuracy: 0.6245 - val_loss: 0.6652 - val_accuracy: 0.6030\n"
     ]
    }
   ],
   "source": [
    "history = model.fit(\n",
    "    train_ds,\n",
    "    steps_per_epoch=100,\n",
    "    epochs=10,\n",
    "    validation_data=val_ds,\n",
    "    validation_steps=50\n",
    ")"
   ]
  },
  {
   "cell_type": "code",
   "execution_count": 16,
   "id": "552b5a55",
   "metadata": {},
   "outputs": [
    {
     "data": {
      "text/plain": [
       "<matplotlib.legend.Legend at 0x7fcdfc925910>"
      ]
     },
     "execution_count": 16,
     "metadata": {},
     "output_type": "execute_result"
    },
    {
     "data": {
      "image/png": "[encoded data removed]",
      "text/plain": [
       "<Figure size 432x288 with 1 Axes>"
      ]
     },
     "metadata": {
      "needs_background": "light"
     },
     "output_type": "display_data"
    }
   ],
   "source": [
    "plt.plot(history.history['accuracy'], label='train')\n",
    "plt.plot(history.history['val_accuracy'], label='val')\n",
    "plt.xticks(np.arange(10))\n",
    "plt.legend()"
   ]
  },
  {
   "cell_type": "markdown",
   "id": "d085bc8d",
   "metadata": {},
   "source": [
    "## Question 3\n",
    "\n",
    "What is the median of training accuracy for this model?"
   ]
  },
  {
   "cell_type": "code",
   "execution_count": 17,
   "id": "679aac54",
   "metadata": {},
   "outputs": [
    {
     "data": {
      "text/plain": [
       "0.5599999725818634"
      ]
     },
     "execution_count": 17,
     "metadata": {},
     "output_type": "execute_result"
    }
   ],
   "source": [
    "np.median(history.history['accuracy'])"
   ]
  },
  {
   "cell_type": "markdown",
   "id": "d0e62fda",
   "metadata": {},
   "source": [
    "## Question 4\n",
    "\n",
    "What is the standard deviation of training loss for this model?"
   ]
  },
  {
   "cell_type": "code",
   "execution_count": 18,
   "id": "e3743634",
   "metadata": {},
   "outputs": [
    {
     "data": {
      "text/plain": [
       "0.017573880369525282"
      ]
     },
     "execution_count": 18,
     "metadata": {},
     "output_type": "execute_result"
    }
   ],
   "source": [
    "np.std(history.history['loss'])"
   ]
  },
  {
   "cell_type": "markdown",
   "id": "fe70e606",
   "metadata": {},
   "source": [
    "## Data Augmentation\n",
    "\n",
    "For the next two questions, we'll generate more data using data augmentations.\n",
    "\n",
    "Add the following augmentations to your training data generator:\n",
    "\n",
    "rotation_range=40,\n",
    "width_shift_range=0.2,\n",
    "height_shift_range=0.2,\n",
    "shear_range=0.2,\n",
    "zoom_range=0.2,\n",
    "horizontal_flip=True,\n",
    "fill_mode='nearest'"
   ]
  },
  {
   "cell_type": "code",
   "execution_count": 19,
   "id": "53d40db1",
   "metadata": {},
   "outputs": [
    {
     "name": "stdout",
     "output_type": "stream",
     "text": [
      "Found 19995 images belonging to 2 classes.\n"
     ]
    }
   ],
   "source": [
    "train_gen = ImageDataGenerator(\n",
    "    rescale=1./255,\n",
    "    rotation_range=40,\n",
    "    width_shift_range=0.2,\n",
    "    height_shift_range=0.2,\n",
    "    shear_range=0.2,\n",
    "    zoom_range=0.2,\n",
    "    horizontal_flip=True,\n",
    "    fill_mode='nearest'\n",
    ")\n",
    "\n",
    "train_ds = train_gen.flow_from_directory(\n",
    "    '/Users/tonygunawan/Downloads/train/',\n",
    "    class_mode = 'binary',\n",
    "    target_size = (150, 150),\n",
    "    batch_size = 20,\n",
    "    shuffle = True\n",
    "    \n",
    ")"
   ]
  },
  {
   "cell_type": "code",
   "execution_count": 20,
   "id": "45466792",
   "metadata": {},
   "outputs": [
    {
     "name": "stdout",
     "output_type": "stream",
     "text": [
      "Found 5000 images belonging to 2 classes.\n"
     ]
    }
   ],
   "source": [
    "val_gen = ImageDataGenerator(rescale=1./255)\n",
    "\n",
    "val_ds = val_gen.flow_from_directory(\n",
    "    '/Users/tonygunawan/Downloads/validation/',\n",
    "    class_mode = 'binary',\n",
    "    target_size = (150, 150),\n",
    "    batch_size = 20,\n",
    "    shuffle = True)"
   ]
  },
  {
   "cell_type": "code",
   "execution_count": 21,
   "id": "b0c45f8a",
   "metadata": {},
   "outputs": [
    {
     "name": "stdout",
     "output_type": "stream",
     "text": [
      "Epoch 1/10\n",
      "100/100 [==============================] - 50s 497ms/step - loss: 0.6751 - accuracy: 0.5810 - val_loss: 0.6785 - val_accuracy: 0.5600\n",
      "Epoch 2/10\n",
      "100/100 [==============================] - 48s 481ms/step - loss: 0.6653 - accuracy: 0.5890 - val_loss: 0.6495 - val_accuracy: 0.6150\n",
      "Epoch 3/10\n",
      "100/100 [==============================] - 46s 454ms/step - loss: 0.6682 - accuracy: 0.5870 - val_loss: 0.6587 - val_accuracy: 0.6010\n",
      "Epoch 4/10\n",
      "100/100 [==============================] - 42s 419ms/step - loss: 0.6583 - accuracy: 0.6080 - val_loss: 0.6292 - val_accuracy: 0.6410\n",
      "Epoch 5/10\n",
      "100/100 [==============================] - 45s 448ms/step - loss: 0.6683 - accuracy: 0.5785 - val_loss: 0.6630 - val_accuracy: 0.5770\n",
      "Epoch 6/10\n",
      "100/100 [==============================] - 40s 400ms/step - loss: 0.6533 - accuracy: 0.6070 - val_loss: 0.6300 - val_accuracy: 0.6460\n",
      "Epoch 7/10\n",
      "100/100 [==============================] - 49s 491ms/step - loss: 0.6624 - accuracy: 0.5875 - val_loss: 0.6311 - val_accuracy: 0.6310\n",
      "Epoch 8/10\n",
      "100/100 [==============================] - 44s 436ms/step - loss: 0.6507 - accuracy: 0.6160 - val_loss: 0.6257 - val_accuracy: 0.6600\n",
      "Epoch 9/10\n",
      "100/100 [==============================] - 45s 449ms/step - loss: 0.6559 - accuracy: 0.5965 - val_loss: 0.6310 - val_accuracy: 0.6470\n",
      "Epoch 10/10\n",
      "100/100 [==============================] - 45s 454ms/step - loss: 0.6527 - accuracy: 0.6025 - val_loss: 0.6541 - val_accuracy: 0.5940\n"
     ]
    }
   ],
   "source": [
    "history2 = model.fit(\n",
    "    train_ds,\n",
    "    steps_per_epoch=100,\n",
    "    epochs=10,\n",
    "    validation_data=val_ds,\n",
    "    validation_steps=50\n",
    ")"
   ]
  },
  {
   "cell_type": "code",
   "execution_count": 26,
   "id": "7bfcb5a5",
   "metadata": {},
   "outputs": [
    {
     "data": {
      "text/plain": [
       "<matplotlib.legend.Legend at 0x7fcdfc9252b0>"
      ]
     },
     "execution_count": 26,
     "metadata": {},
     "output_type": "execute_result"
    },
    {
     "data": {
      "image/png": "[encoded data removed]",
      "text/plain": [
       "<Figure size 432x288 with 1 Axes>"
      ]
     },
     "metadata": {
      "needs_background": "light"
     },
     "output_type": "display_data"
    }
   ],
   "source": [
    "plt.plot(history2.history['accuracy'], label='train')\n",
    "plt.plot(history2.history['val_accuracy'], label='val')\n",
    "plt.xticks(np.arange(10))\n",
    "plt.legend()"
   ]
  },
  {
   "cell_type": "markdown",
   "id": "f3826398",
   "metadata": {},
   "source": [
    "## Question 5\n",
    "\n",
    "Let's train our model for 10 more epochs using the same code as previously. Make sure you don't re-create the model - we want to continue training the model we already started training.\n",
    "\n",
    "What is the mean of validation loss for the model trained with augmentations?"
   ]
  },
  {
   "cell_type": "code",
   "execution_count": 23,
   "id": "d8917e18",
   "metadata": {},
   "outputs": [
    {
     "data": {
      "text/plain": [
       "0.6450831890106201"
      ]
     },
     "execution_count": 23,
     "metadata": {},
     "output_type": "execute_result"
    }
   ],
   "source": [
    "np.mean(history2.history['val_loss'])"
   ]
  },
  {
   "cell_type": "markdown",
   "id": "056d180d",
   "metadata": {},
   "source": [
    "## Question 6\n",
    "\n",
    "What's the average of validation accuracy for the last 5 epochs (from 6 to 10) for the model trained with augmentations?"
   ]
  },
  {
   "cell_type": "code",
   "execution_count": 24,
   "id": "358b954c",
   "metadata": {},
   "outputs": [
    {
     "data": {
      "text/plain": [
       "0.6416"
      ]
     },
     "execution_count": 24,
     "metadata": {},
     "output_type": "execute_result"
    }
   ],
   "source": [
    "data = [0.6690, 0.6700, 0.6130, 0.6350, 0.6210]\n",
    "\n",
    "np.average(data)"
   ]
  },
  {
   "cell_type": "code",
   "execution_count": 25,
   "id": "17690d9d",
   "metadata": {},
   "outputs": [
    {
     "data": {
      "text/plain": [
       "0.6172000050544739"
      ]
     },
     "execution_count": 25,
     "metadata": {},
     "output_type": "execute_result"
    }
   ],
   "source": [
    "np.average(history2.history['val_accuracy'])"
   ]
  },
  {
   "cell_type": "code",
   "execution_count": null,
   "id": "bd77a5f8",
   "metadata": {},
   "outputs": [],
   "source": []
  }
 ],
 "metadata": {
  "kernelspec": {
   "display_name": "Python 3",
   "language": "python",
   "name": "python3"
  },
  "language_info": {
   "codemirror_mode": {
    "name": "ipython",
    "version": 3
   },
   "file_extension": ".py",
   "mimetype": "text/x-python",
   "name": "python",
   "nbconvert_exporter": "python",
   "pygments_lexer": "ipython3",
   "version": "3.8.8"
  }
 },
 "nbformat": 4,
 "nbformat_minor": 5
}
