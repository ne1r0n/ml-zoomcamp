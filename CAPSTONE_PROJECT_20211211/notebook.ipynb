{
 "cells": [
  {
   "cell_type": "markdown",
   "id": "28e8feff",
   "metadata": {},
   "source": [
    "## EDA"
   ]
  },
  {
   "cell_type": "code",
   "execution_count": 1,
   "id": "bce3afa2",
   "metadata": {},
   "outputs": [],
   "source": [
    "import pandas as pd\n",
    "import numpy as np"
   ]
  },
  {
   "cell_type": "code",
   "execution_count": 2,
   "id": "19e814d6",
   "metadata": {},
   "outputs": [],
   "source": [
    "df = pd.read_csv('php0iVrYT.csv')"
   ]
  },
  {
   "cell_type": "code",
   "execution_count": 3,
   "id": "bb98946f",
   "metadata": {},
   "outputs": [],
   "source": [
    "df.columns = ['recency', 'frequency', 'total_donated', 'months_since_beginning', 'class']"
   ]
  },
  {
   "cell_type": "code",
   "execution_count": 5,
   "id": "133b87d9",
   "metadata": {},
   "outputs": [],
   "source": [
    "df['class'] = np.where(df['class'] == 2, 1, 0)"
   ]
  },
  {
   "cell_type": "code",
   "execution_count": 79,
   "id": "2b325476",
   "metadata": {
    "scrolled": true
   },
   "outputs": [
    {
     "data": {
      "text/html": [
       "<div>\n",
       "<style scoped>\n",
       "    .dataframe tbody tr th:only-of-type {\n",
       "        vertical-align: middle;\n",
       "    }\n",
       "\n",
       "    .dataframe tbody tr th {\n",
       "        vertical-align: top;\n",
       "    }\n",
       "\n",
       "    .dataframe thead th {\n",
       "        text-align: right;\n",
       "    }\n",
       "</style>\n",
       "<table border=\"1\" class=\"dataframe\">\n",
       "  <thead>\n",
       "    <tr style=\"text-align: right;\">\n",
       "      <th></th>\n",
       "      <th>recency</th>\n",
       "      <th>frequency</th>\n",
       "      <th>total_donated</th>\n",
       "      <th>months_since_beginning</th>\n",
       "      <th>class</th>\n",
       "    </tr>\n",
       "  </thead>\n",
       "  <tbody>\n",
       "    <tr>\n",
       "      <th>0</th>\n",
       "      <td>2</td>\n",
       "      <td>50</td>\n",
       "      <td>12500</td>\n",
       "      <td>98</td>\n",
       "      <td>1</td>\n",
       "    </tr>\n",
       "    <tr>\n",
       "      <th>1</th>\n",
       "      <td>0</td>\n",
       "      <td>13</td>\n",
       "      <td>3250</td>\n",
       "      <td>28</td>\n",
       "      <td>1</td>\n",
       "    </tr>\n",
       "    <tr>\n",
       "      <th>2</th>\n",
       "      <td>1</td>\n",
       "      <td>16</td>\n",
       "      <td>4000</td>\n",
       "      <td>35</td>\n",
       "      <td>1</td>\n",
       "    </tr>\n",
       "    <tr>\n",
       "      <th>3</th>\n",
       "      <td>2</td>\n",
       "      <td>20</td>\n",
       "      <td>5000</td>\n",
       "      <td>45</td>\n",
       "      <td>1</td>\n",
       "    </tr>\n",
       "    <tr>\n",
       "      <th>4</th>\n",
       "      <td>1</td>\n",
       "      <td>24</td>\n",
       "      <td>6000</td>\n",
       "      <td>77</td>\n",
       "      <td>0</td>\n",
       "    </tr>\n",
       "    <tr>\n",
       "      <th>...</th>\n",
       "      <td>...</td>\n",
       "      <td>...</td>\n",
       "      <td>...</td>\n",
       "      <td>...</td>\n",
       "      <td>...</td>\n",
       "    </tr>\n",
       "    <tr>\n",
       "      <th>743</th>\n",
       "      <td>23</td>\n",
       "      <td>2</td>\n",
       "      <td>500</td>\n",
       "      <td>38</td>\n",
       "      <td>0</td>\n",
       "    </tr>\n",
       "    <tr>\n",
       "      <th>744</th>\n",
       "      <td>21</td>\n",
       "      <td>2</td>\n",
       "      <td>500</td>\n",
       "      <td>52</td>\n",
       "      <td>0</td>\n",
       "    </tr>\n",
       "    <tr>\n",
       "      <th>745</th>\n",
       "      <td>23</td>\n",
       "      <td>3</td>\n",
       "      <td>750</td>\n",
       "      <td>62</td>\n",
       "      <td>0</td>\n",
       "    </tr>\n",
       "    <tr>\n",
       "      <th>746</th>\n",
       "      <td>39</td>\n",
       "      <td>1</td>\n",
       "      <td>250</td>\n",
       "      <td>39</td>\n",
       "      <td>0</td>\n",
       "    </tr>\n",
       "    <tr>\n",
       "      <th>747</th>\n",
       "      <td>72</td>\n",
       "      <td>1</td>\n",
       "      <td>250</td>\n",
       "      <td>72</td>\n",
       "      <td>0</td>\n",
       "    </tr>\n",
       "  </tbody>\n",
       "</table>\n",
       "<p>748 rows × 5 columns</p>\n",
       "</div>"
      ],
      "text/plain": [
       "     recency  frequency  total_donated  months_since_beginning  class\n",
       "0          2         50          12500                      98      1\n",
       "1          0         13           3250                      28      1\n",
       "2          1         16           4000                      35      1\n",
       "3          2         20           5000                      45      1\n",
       "4          1         24           6000                      77      0\n",
       "..       ...        ...            ...                     ...    ...\n",
       "743       23          2            500                      38      0\n",
       "744       21          2            500                      52      0\n",
       "745       23          3            750                      62      0\n",
       "746       39          1            250                      39      0\n",
       "747       72          1            250                      72      0\n",
       "\n",
       "[748 rows x 5 columns]"
      ]
     },
     "execution_count": 79,
     "metadata": {},
     "output_type": "execute_result"
    }
   ],
   "source": [
    "df"
   ]
  },
  {
   "cell_type": "code",
   "execution_count": 6,
   "id": "cf5211c3",
   "metadata": {},
   "outputs": [
    {
     "data": {
      "text/html": [
       "<div>\n",
       "<style scoped>\n",
       "    .dataframe tbody tr th:only-of-type {\n",
       "        vertical-align: middle;\n",
       "    }\n",
       "\n",
       "    .dataframe tbody tr th {\n",
       "        vertical-align: top;\n",
       "    }\n",
       "\n",
       "    .dataframe thead th {\n",
       "        text-align: right;\n",
       "    }\n",
       "</style>\n",
       "<table border=\"1\" class=\"dataframe\">\n",
       "  <thead>\n",
       "    <tr style=\"text-align: right;\">\n",
       "      <th></th>\n",
       "      <th>recency</th>\n",
       "      <th>frequency</th>\n",
       "      <th>total_donated</th>\n",
       "      <th>months_since_beginning</th>\n",
       "      <th>class</th>\n",
       "    </tr>\n",
       "  </thead>\n",
       "  <tbody>\n",
       "    <tr>\n",
       "      <th>count</th>\n",
       "      <td>748.000000</td>\n",
       "      <td>748.000000</td>\n",
       "      <td>748.000000</td>\n",
       "      <td>748.000000</td>\n",
       "      <td>748.000000</td>\n",
       "    </tr>\n",
       "    <tr>\n",
       "      <th>mean</th>\n",
       "      <td>9.506684</td>\n",
       "      <td>5.514706</td>\n",
       "      <td>1378.676471</td>\n",
       "      <td>34.282086</td>\n",
       "      <td>0.237968</td>\n",
       "    </tr>\n",
       "    <tr>\n",
       "      <th>std</th>\n",
       "      <td>8.095396</td>\n",
       "      <td>5.839307</td>\n",
       "      <td>1459.826781</td>\n",
       "      <td>24.376714</td>\n",
       "      <td>0.426124</td>\n",
       "    </tr>\n",
       "    <tr>\n",
       "      <th>min</th>\n",
       "      <td>0.000000</td>\n",
       "      <td>1.000000</td>\n",
       "      <td>250.000000</td>\n",
       "      <td>2.000000</td>\n",
       "      <td>0.000000</td>\n",
       "    </tr>\n",
       "    <tr>\n",
       "      <th>25%</th>\n",
       "      <td>2.750000</td>\n",
       "      <td>2.000000</td>\n",
       "      <td>500.000000</td>\n",
       "      <td>16.000000</td>\n",
       "      <td>0.000000</td>\n",
       "    </tr>\n",
       "    <tr>\n",
       "      <th>50%</th>\n",
       "      <td>7.000000</td>\n",
       "      <td>4.000000</td>\n",
       "      <td>1000.000000</td>\n",
       "      <td>28.000000</td>\n",
       "      <td>0.000000</td>\n",
       "    </tr>\n",
       "    <tr>\n",
       "      <th>75%</th>\n",
       "      <td>14.000000</td>\n",
       "      <td>7.000000</td>\n",
       "      <td>1750.000000</td>\n",
       "      <td>50.000000</td>\n",
       "      <td>0.000000</td>\n",
       "    </tr>\n",
       "    <tr>\n",
       "      <th>max</th>\n",
       "      <td>74.000000</td>\n",
       "      <td>50.000000</td>\n",
       "      <td>12500.000000</td>\n",
       "      <td>98.000000</td>\n",
       "      <td>1.000000</td>\n",
       "    </tr>\n",
       "  </tbody>\n",
       "</table>\n",
       "</div>"
      ],
      "text/plain": [
       "          recency   frequency  total_donated  months_since_beginning  \\\n",
       "count  748.000000  748.000000     748.000000              748.000000   \n",
       "mean     9.506684    5.514706    1378.676471               34.282086   \n",
       "std      8.095396    5.839307    1459.826781               24.376714   \n",
       "min      0.000000    1.000000     250.000000                2.000000   \n",
       "25%      2.750000    2.000000     500.000000               16.000000   \n",
       "50%      7.000000    4.000000    1000.000000               28.000000   \n",
       "75%     14.000000    7.000000    1750.000000               50.000000   \n",
       "max     74.000000   50.000000   12500.000000               98.000000   \n",
       "\n",
       "            class  \n",
       "count  748.000000  \n",
       "mean     0.237968  \n",
       "std      0.426124  \n",
       "min      0.000000  \n",
       "25%      0.000000  \n",
       "50%      0.000000  \n",
       "75%      0.000000  \n",
       "max      1.000000  "
      ]
     },
     "execution_count": 6,
     "metadata": {},
     "output_type": "execute_result"
    }
   ],
   "source": [
    "df.describe()"
   ]
  },
  {
   "cell_type": "code",
   "execution_count": 7,
   "id": "4a042e5d",
   "metadata": {},
   "outputs": [
    {
     "data": {
      "text/plain": [
       "recency                   int64\n",
       "frequency                 int64\n",
       "total_donated             int64\n",
       "months_since_beginning    int64\n",
       "class                     int64\n",
       "dtype: object"
      ]
     },
     "execution_count": 7,
     "metadata": {},
     "output_type": "execute_result"
    }
   ],
   "source": [
    "df.dtypes"
   ]
  },
  {
   "cell_type": "code",
   "execution_count": 8,
   "id": "a02d0bf3",
   "metadata": {},
   "outputs": [
    {
     "data": {
      "text/plain": [
       "0    570\n",
       "1    178\n",
       "Name: class, dtype: int64"
      ]
     },
     "execution_count": 8,
     "metadata": {},
     "output_type": "execute_result"
    }
   ],
   "source": [
    "df['class'].value_counts()"
   ]
  },
  {
   "cell_type": "code",
   "execution_count": 9,
   "id": "39d3fee5",
   "metadata": {},
   "outputs": [],
   "source": [
    "import seaborn as sns\n",
    "from matplotlib import pyplot as plt\n",
    "%matplotlib inline"
   ]
  },
  {
   "cell_type": "code",
   "execution_count": 10,
   "id": "acebf5f9",
   "metadata": {},
   "outputs": [
    {
     "data": {
      "image/png": "[encoded data removed]",
      "text/plain": [
       "<Figure size 432x288 with 1 Axes>"
      ]
     },
     "metadata": {
      "needs_background": "light"
     },
     "output_type": "display_data"
    }
   ],
   "source": [
    "plt.figure(figsize=(6, 4))\n",
    "\n",
    "sns.histplot(df.recency, bins=40, color='black', alpha=1)\n",
    "plt.ylabel('Frequency')\n",
    "plt.xlabel('Recency')\n",
    "plt.title('Distribution of recency')\n",
    "\n",
    "plt.show()"
   ]
  },
  {
   "cell_type": "code",
   "execution_count": 11,
   "id": "fc46c7ef",
   "metadata": {},
   "outputs": [
    {
     "data": {
      "image/png": "[encoded data removed]",
      "text/plain": [
       "<Figure size 432x288 with 1 Axes>"
      ]
     },
     "metadata": {
      "needs_background": "light"
     },
     "output_type": "display_data"
    }
   ],
   "source": [
    "plt.figure(figsize=(6, 4))\n",
    "\n",
    "sns.histplot(df.frequency, bins=40, color='black', alpha=1)\n",
    "plt.ylabel('Frequency_Distribution')\n",
    "plt.xlabel('Frequency')\n",
    "plt.title('Distribution of Frequency')\n",
    "\n",
    "plt.show()"
   ]
  },
  {
   "cell_type": "code",
   "execution_count": 12,
   "id": "ef7eca00",
   "metadata": {},
   "outputs": [
    {
     "data": {
      "image/png": "[encoded data removed]",
      "text/plain": [
       "<Figure size 432x288 with 1 Axes>"
      ]
     },
     "metadata": {
      "needs_background": "light"
     },
     "output_type": "display_data"
    }
   ],
   "source": [
    "plt.figure(figsize=(6, 4))\n",
    "\n",
    "sns.histplot(df.total_donated, bins=40, color='black', alpha=1)\n",
    "plt.ylabel('Frequency')\n",
    "plt.xlabel('Total Donated')\n",
    "plt.title('Distribution of Total Donated in cc')\n",
    "\n",
    "plt.show()"
   ]
  },
  {
   "cell_type": "code",
   "execution_count": 13,
   "id": "7e1d1872",
   "metadata": {},
   "outputs": [
    {
     "data": {
      "image/png": "[encoded data removed]",
      "text/plain": [
       "<Figure size 432x288 with 1 Axes>"
      ]
     },
     "metadata": {
      "needs_background": "light"
     },
     "output_type": "display_data"
    }
   ],
   "source": [
    "plt.figure(figsize=(6, 4))\n",
    "\n",
    "sns.histplot(df.months_since_beginning, bins=40, color='black', alpha=1)\n",
    "plt.ylabel('Frequency')\n",
    "plt.xlabel('Months Since Beginning')\n",
    "plt.title('Distribution of Frequency')\n",
    "\n",
    "plt.show()"
   ]
  },
  {
   "cell_type": "code",
   "execution_count": 14,
   "id": "f2b82339",
   "metadata": {},
   "outputs": [
    {
     "data": {
      "image/png": "[encoded data removed]",
      "text/plain": [
       "<Figure size 432x288 with 1 Axes>"
      ]
     },
     "metadata": {
      "needs_background": "light"
     },
     "output_type": "display_data"
    }
   ],
   "source": [
    "plt.figure(figsize=(6, 4))\n",
    "\n",
    "sns.histplot(df['class'], bins=40, color='black', alpha=1)\n",
    "plt.ylabel('Frequency')\n",
    "plt.xlabel('Class')\n",
    "plt.title('Distribution of Frequency')\n",
    "\n",
    "plt.show()"
   ]
  },
  {
   "cell_type": "code",
   "execution_count": 15,
   "id": "2aba3ef8",
   "metadata": {},
   "outputs": [
    {
     "data": {
      "text/plain": [
       "recency                   0\n",
       "frequency                 0\n",
       "total_donated             0\n",
       "months_since_beginning    0\n",
       "class                     0\n",
       "dtype: int64"
      ]
     },
     "execution_count": 15,
     "metadata": {},
     "output_type": "execute_result"
    }
   ],
   "source": [
    "df.isnull().sum()"
   ]
  },
  {
   "cell_type": "code",
   "execution_count": 16,
   "id": "e381d6b4",
   "metadata": {},
   "outputs": [],
   "source": [
    "numerical = ['recency', 'frequency', 'total_donated', 'months_since_beginning']"
   ]
  },
  {
   "cell_type": "markdown",
   "id": "1d94fafe",
   "metadata": {},
   "source": [
    "## Setting Up The Validation Framework"
   ]
  },
  {
   "cell_type": "code",
   "execution_count": 17,
   "id": "6ce41994",
   "metadata": {},
   "outputs": [],
   "source": [
    "from sklearn.model_selection import train_test_split\n",
    "\n",
    "\n",
    "df_full_train, df_test = train_test_split(df, test_size=0.2, random_state=1212)\n",
    "df_train, df_val = train_test_split(df_full_train, test_size=0.25, random_state=1212)"
   ]
  },
  {
   "cell_type": "code",
   "execution_count": 18,
   "id": "6f64c32b",
   "metadata": {},
   "outputs": [],
   "source": [
    "df_train = df_train.reset_index(drop=True)\n",
    "df_val = df_val.reset_index(drop=True)\n",
    "df_test = df_test.reset_index(drop=True)"
   ]
  },
  {
   "cell_type": "code",
   "execution_count": 19,
   "id": "2ff17ba1",
   "metadata": {},
   "outputs": [],
   "source": [
    "y_train = (df_train['class'] == 1).astype('int').values\n",
    "y_val = (df_val['class'] == 1).astype('int').values\n",
    "y_test = (df_test['class'] == 1).astype('int').values"
   ]
  },
  {
   "cell_type": "code",
   "execution_count": 20,
   "id": "fe9eca8f",
   "metadata": {},
   "outputs": [
    {
     "data": {
      "text/plain": [
       "0.23883928571428573"
      ]
     },
     "execution_count": 20,
     "metadata": {},
     "output_type": "execute_result"
    }
   ],
   "source": [
    "y_train.mean()"
   ]
  },
  {
   "cell_type": "code",
   "execution_count": 21,
   "id": "d0259a3e",
   "metadata": {},
   "outputs": [
    {
     "data": {
      "text/plain": [
       "0.24666666666666667"
      ]
     },
     "execution_count": 21,
     "metadata": {},
     "output_type": "execute_result"
    }
   ],
   "source": [
    "y_val.mean()"
   ]
  },
  {
   "cell_type": "code",
   "execution_count": 22,
   "id": "d8991db5",
   "metadata": {},
   "outputs": [
    {
     "data": {
      "text/plain": [
       "0.22666666666666666"
      ]
     },
     "execution_count": 22,
     "metadata": {},
     "output_type": "execute_result"
    }
   ],
   "source": [
    "y_test.mean()"
   ]
  },
  {
   "cell_type": "code",
   "execution_count": 23,
   "id": "37a26693",
   "metadata": {},
   "outputs": [],
   "source": [
    "del df_train['class']\n",
    "del df_val['class']\n",
    "del df_test['class']"
   ]
  },
  {
   "cell_type": "code",
   "execution_count": 24,
   "id": "49f1ba24",
   "metadata": {},
   "outputs": [
    {
     "data": {
      "text/plain": [
       "0    454\n",
       "1    144\n",
       "Name: class, dtype: int64"
      ]
     },
     "execution_count": 24,
     "metadata": {},
     "output_type": "execute_result"
    }
   ],
   "source": [
    "df_full_train['class'].value_counts()"
   ]
  },
  {
   "cell_type": "code",
   "execution_count": 25,
   "id": "9f5a2c6a",
   "metadata": {},
   "outputs": [],
   "source": [
    "from sklearn.feature_extraction import DictVectorizer\n",
    "\n",
    "train_dicts = df_train.to_dict(orient = 'records')"
   ]
  },
  {
   "cell_type": "code",
   "execution_count": 26,
   "id": "b04b5b12",
   "metadata": {},
   "outputs": [
    {
     "data": {
      "text/plain": [
       "[{'recency': 2,\n",
       "  'frequency': 4,\n",
       "  'total_donated': 1000,\n",
       "  'months_since_beginning': 16},\n",
       " {'recency': 2,\n",
       "  'frequency': 1,\n",
       "  'total_donated': 250,\n",
       "  'months_since_beginning': 2},\n",
       " {'recency': 4,\n",
       "  'frequency': 2,\n",
       "  'total_donated': 500,\n",
       "  'months_since_beginning': 4},\n",
       " {'recency': 14,\n",
       "  'frequency': 3,\n",
       "  'total_donated': 750,\n",
       "  'months_since_beginning': 52},\n",
       " {'recency': 11,\n",
       "  'frequency': 6,\n",
       "  'total_donated': 1500,\n",
       "  'months_since_beginning': 26},\n",
       " {'recency': 16,\n",
       "  'frequency': 7,\n",
       "  'total_donated': 1750,\n",
       "  'months_since_beginning': 93},\n",
       " {'recency': 4,\n",
       "  'frequency': 1,\n",
       "  'total_donated': 250,\n",
       "  'months_since_beginning': 4},\n",
       " {'recency': 4,\n",
       "  'frequency': 5,\n",
       "  'total_donated': 1250,\n",
       "  'months_since_beginning': 34},\n",
       " {'recency': 21,\n",
       "  'frequency': 3,\n",
       "  'total_donated': 750,\n",
       "  'months_since_beginning': 35},\n",
       " {'recency': 2,\n",
       "  'frequency': 2,\n",
       "  'total_donated': 500,\n",
       "  'months_since_beginning': 11},\n",
       " {'recency': 13,\n",
       "  'frequency': 8,\n",
       "  'total_donated': 2000,\n",
       "  'months_since_beginning': 26},\n",
       " {'recency': 13,\n",
       "  'frequency': 3,\n",
       "  'total_donated': 750,\n",
       "  'months_since_beginning': 16},\n",
       " {'recency': 4,\n",
       "  'frequency': 2,\n",
       "  'total_donated': 500,\n",
       "  'months_since_beginning': 23},\n",
       " {'recency': 23,\n",
       "  'frequency': 3,\n",
       "  'total_donated': 750,\n",
       "  'months_since_beginning': 39},\n",
       " {'recency': 21,\n",
       "  'frequency': 4,\n",
       "  'total_donated': 1000,\n",
       "  'months_since_beginning': 52},\n",
       " {'recency': 4,\n",
       "  'frequency': 8,\n",
       "  'total_donated': 2000,\n",
       "  'months_since_beginning': 40},\n",
       " {'recency': 2,\n",
       "  'frequency': 1,\n",
       "  'total_donated': 250,\n",
       "  'months_since_beginning': 2},\n",
       " {'recency': 2,\n",
       "  'frequency': 2,\n",
       "  'total_donated': 500,\n",
       "  'months_since_beginning': 33},\n",
       " {'recency': 11,\n",
       "  'frequency': 1,\n",
       "  'total_donated': 250,\n",
       "  'months_since_beginning': 11},\n",
       " {'recency': 11,\n",
       "  'frequency': 22,\n",
       "  'total_donated': 5500,\n",
       "  'months_since_beginning': 98},\n",
       " {'recency': 4,\n",
       "  'frequency': 5,\n",
       "  'total_donated': 1250,\n",
       "  'months_since_beginning': 74},\n",
       " {'recency': 11,\n",
       "  'frequency': 3,\n",
       "  'total_donated': 750,\n",
       "  'months_since_beginning': 40},\n",
       " {'recency': 16,\n",
       "  'frequency': 7,\n",
       "  'total_donated': 1750,\n",
       "  'months_since_beginning': 39},\n",
       " {'recency': 2,\n",
       "  'frequency': 13,\n",
       "  'total_donated': 3250,\n",
       "  'months_since_beginning': 53},\n",
       " {'recency': 4,\n",
       "  'frequency': 5,\n",
       "  'total_donated': 1250,\n",
       "  'months_since_beginning': 28},\n",
       " {'recency': 2,\n",
       "  'frequency': 1,\n",
       "  'total_donated': 250,\n",
       "  'months_since_beginning': 2},\n",
       " {'recency': 14,\n",
       "  'frequency': 4,\n",
       "  'total_donated': 1000,\n",
       "  'months_since_beginning': 38},\n",
       " {'recency': 14,\n",
       "  'frequency': 1,\n",
       "  'total_donated': 250,\n",
       "  'months_since_beginning': 14},\n",
       " {'recency': 23,\n",
       "  'frequency': 14,\n",
       "  'total_donated': 3500,\n",
       "  'months_since_beginning': 93},\n",
       " {'recency': 14,\n",
       "  'frequency': 16,\n",
       "  'total_donated': 4000,\n",
       "  'months_since_beginning': 70},\n",
       " {'recency': 4,\n",
       "  'frequency': 1,\n",
       "  'total_donated': 250,\n",
       "  'months_since_beginning': 4},\n",
       " {'recency': 40,\n",
       "  'frequency': 1,\n",
       "  'total_donated': 250,\n",
       "  'months_since_beginning': 40},\n",
       " {'recency': 4,\n",
       "  'frequency': 5,\n",
       "  'total_donated': 1250,\n",
       "  'months_since_beginning': 23},\n",
       " {'recency': 4,\n",
       "  'frequency': 1,\n",
       "  'total_donated': 250,\n",
       "  'months_since_beginning': 4},\n",
       " {'recency': 4,\n",
       "  'frequency': 2,\n",
       "  'total_donated': 500,\n",
       "  'months_since_beginning': 31},\n",
       " {'recency': 14,\n",
       "  'frequency': 3,\n",
       "  'total_donated': 750,\n",
       "  'months_since_beginning': 33},\n",
       " {'recency': 2,\n",
       "  'frequency': 1,\n",
       "  'total_donated': 250,\n",
       "  'months_since_beginning': 2},\n",
       " {'recency': 16,\n",
       "  'frequency': 5,\n",
       "  'total_donated': 1250,\n",
       "  'months_since_beginning': 60},\n",
       " {'recency': 14,\n",
       "  'frequency': 3,\n",
       "  'total_donated': 750,\n",
       "  'months_since_beginning': 26},\n",
       " {'recency': 2,\n",
       "  'frequency': 11,\n",
       "  'total_donated': 2750,\n",
       "  'months_since_beginning': 28},\n",
       " {'recency': 4,\n",
       "  'frequency': 7,\n",
       "  'total_donated': 1750,\n",
       "  'months_since_beginning': 58},\n",
       " {'recency': 11,\n",
       "  'frequency': 5,\n",
       "  'total_donated': 1250,\n",
       "  'months_since_beginning': 33},\n",
       " {'recency': 11,\n",
       "  'frequency': 2,\n",
       "  'total_donated': 500,\n",
       "  'months_since_beginning': 16},\n",
       " {'recency': 11,\n",
       "  'frequency': 14,\n",
       "  'total_donated': 3500,\n",
       "  'months_since_beginning': 73},\n",
       " {'recency': 11,\n",
       "  'frequency': 3,\n",
       "  'total_donated': 750,\n",
       "  'months_since_beginning': 37},\n",
       " {'recency': 4,\n",
       "  'frequency': 1,\n",
       "  'total_donated': 250,\n",
       "  'months_since_beginning': 4},\n",
       " {'recency': 4,\n",
       "  'frequency': 6,\n",
       "  'total_donated': 1500,\n",
       "  'months_since_beginning': 35},\n",
       " {'recency': 4,\n",
       "  'frequency': 5,\n",
       "  'total_donated': 1250,\n",
       "  'months_since_beginning': 14},\n",
       " {'recency': 4,\n",
       "  'frequency': 1,\n",
       "  'total_donated': 250,\n",
       "  'months_since_beginning': 4},\n",
       " {'recency': 2,\n",
       "  'frequency': 1,\n",
       "  'total_donated': 250,\n",
       "  'months_since_beginning': 2},\n",
       " {'recency': 4,\n",
       "  'frequency': 2,\n",
       "  'total_donated': 500,\n",
       "  'months_since_beginning': 4},\n",
       " {'recency': 2,\n",
       "  'frequency': 2,\n",
       "  'total_donated': 500,\n",
       "  'months_since_beginning': 4},\n",
       " {'recency': 4,\n",
       "  'frequency': 20,\n",
       "  'total_donated': 5000,\n",
       "  'months_since_beginning': 69},\n",
       " {'recency': 14,\n",
       "  'frequency': 1,\n",
       "  'total_donated': 250,\n",
       "  'months_since_beginning': 14},\n",
       " {'recency': 11,\n",
       "  'frequency': 24,\n",
       "  'total_donated': 6000,\n",
       "  'months_since_beginning': 64},\n",
       " {'recency': 4,\n",
       "  'frequency': 10,\n",
       "  'total_donated': 2500,\n",
       "  'months_since_beginning': 28},\n",
       " {'recency': 2,\n",
       "  'frequency': 3,\n",
       "  'total_donated': 750,\n",
       "  'months_since_beginning': 22},\n",
       " {'recency': 21,\n",
       "  'frequency': 2,\n",
       "  'total_donated': 500,\n",
       "  'months_since_beginning': 33},\n",
       " {'recency': 4,\n",
       "  'frequency': 3,\n",
       "  'total_donated': 750,\n",
       "  'months_since_beginning': 71},\n",
       " {'recency': 21,\n",
       "  'frequency': 1,\n",
       "  'total_donated': 250,\n",
       "  'months_since_beginning': 21},\n",
       " {'recency': 4,\n",
       "  'frequency': 5,\n",
       "  'total_donated': 1250,\n",
       "  'months_since_beginning': 16},\n",
       " {'recency': 2,\n",
       "  'frequency': 11,\n",
       "  'total_donated': 2750,\n",
       "  'months_since_beginning': 46},\n",
       " {'recency': 2,\n",
       "  'frequency': 2,\n",
       "  'total_donated': 500,\n",
       "  'months_since_beginning': 14},\n",
       " {'recency': 2,\n",
       "  'frequency': 1,\n",
       "  'total_donated': 250,\n",
       "  'months_since_beginning': 2},\n",
       " {'recency': 25,\n",
       "  'frequency': 6,\n",
       "  'total_donated': 1500,\n",
       "  'months_since_beginning': 50},\n",
       " {'recency': 14,\n",
       "  'frequency': 5,\n",
       "  'total_donated': 1250,\n",
       "  'months_since_beginning': 74},\n",
       " {'recency': 16,\n",
       "  'frequency': 7,\n",
       "  'total_donated': 1750,\n",
       "  'months_since_beginning': 28},\n",
       " {'recency': 4,\n",
       "  'frequency': 1,\n",
       "  'total_donated': 250,\n",
       "  'months_since_beginning': 4},\n",
       " {'recency': 16,\n",
       "  'frequency': 10,\n",
       "  'total_donated': 2500,\n",
       "  'months_since_beginning': 62},\n",
       " {'recency': 4,\n",
       "  'frequency': 1,\n",
       "  'total_donated': 250,\n",
       "  'months_since_beginning': 4},\n",
       " {'recency': 4,\n",
       "  'frequency': 2,\n",
       "  'total_donated': 500,\n",
       "  'months_since_beginning': 4},\n",
       " {'recency': 2,\n",
       "  'frequency': 4,\n",
       "  'total_donated': 1000,\n",
       "  'months_since_beginning': 16},\n",
       " {'recency': 11,\n",
       "  'frequency': 1,\n",
       "  'total_donated': 250,\n",
       "  'months_since_beginning': 11},\n",
       " {'recency': 16,\n",
       "  'frequency': 14,\n",
       "  'total_donated': 3500,\n",
       "  'months_since_beginning': 83},\n",
       " {'recency': 2,\n",
       "  'frequency': 2,\n",
       "  'total_donated': 500,\n",
       "  'months_since_beginning': 22},\n",
       " {'recency': 39,\n",
       "  'frequency': 1,\n",
       "  'total_donated': 250,\n",
       "  'months_since_beginning': 39},\n",
       " {'recency': 2,\n",
       "  'frequency': 12,\n",
       "  'total_donated': 3000,\n",
       "  'months_since_beginning': 98},\n",
       " {'recency': 14,\n",
       "  'frequency': 13,\n",
       "  'total_donated': 3250,\n",
       "  'months_since_beginning': 57},\n",
       " {'recency': 14,\n",
       "  'frequency': 1,\n",
       "  'total_donated': 250,\n",
       "  'months_since_beginning': 14},\n",
       " {'recency': 4,\n",
       "  'frequency': 2,\n",
       "  'total_donated': 500,\n",
       "  'months_since_beginning': 46},\n",
       " {'recency': 2,\n",
       "  'frequency': 4,\n",
       "  'total_donated': 1000,\n",
       "  'months_since_beginning': 14},\n",
       " {'recency': 16,\n",
       "  'frequency': 2,\n",
       "  'total_donated': 500,\n",
       "  'months_since_beginning': 27},\n",
       " {'recency': 23,\n",
       "  'frequency': 4,\n",
       "  'total_donated': 1000,\n",
       "  'months_since_beginning': 53},\n",
       " {'recency': 2,\n",
       "  'frequency': 4,\n",
       "  'total_donated': 1000,\n",
       "  'months_since_beginning': 16},\n",
       " {'recency': 11,\n",
       "  'frequency': 1,\n",
       "  'total_donated': 250,\n",
       "  'months_since_beginning': 11},\n",
       " {'recency': 2,\n",
       "  'frequency': 6,\n",
       "  'total_donated': 1500,\n",
       "  'months_since_beginning': 45},\n",
       " {'recency': 4,\n",
       "  'frequency': 1,\n",
       "  'total_donated': 250,\n",
       "  'months_since_beginning': 4},\n",
       " {'recency': 14,\n",
       "  'frequency': 5,\n",
       "  'total_donated': 1250,\n",
       "  'months_since_beginning': 28},\n",
       " {'recency': 6,\n",
       "  'frequency': 2,\n",
       "  'total_donated': 500,\n",
       "  'months_since_beginning': 11},\n",
       " {'recency': 11,\n",
       "  'frequency': 8,\n",
       "  'total_donated': 2000,\n",
       "  'months_since_beginning': 41},\n",
       " {'recency': 2,\n",
       "  'frequency': 3,\n",
       "  'total_donated': 750,\n",
       "  'months_since_beginning': 11},\n",
       " {'recency': 7,\n",
       "  'frequency': 14,\n",
       "  'total_donated': 3500,\n",
       "  'months_since_beginning': 48},\n",
       " {'recency': 3,\n",
       "  'frequency': 21,\n",
       "  'total_donated': 5250,\n",
       "  'months_since_beginning': 42},\n",
       " {'recency': 9,\n",
       "  'frequency': 1,\n",
       "  'total_donated': 250,\n",
       "  'months_since_beginning': 9},\n",
       " {'recency': 21,\n",
       "  'frequency': 1,\n",
       "  'total_donated': 250,\n",
       "  'months_since_beginning': 21},\n",
       " {'recency': 2,\n",
       "  'frequency': 2,\n",
       "  'total_donated': 500,\n",
       "  'months_since_beginning': 41},\n",
       " {'recency': 2,\n",
       "  'frequency': 6,\n",
       "  'total_donated': 1500,\n",
       "  'months_since_beginning': 26},\n",
       " {'recency': 21,\n",
       "  'frequency': 1,\n",
       "  'total_donated': 250,\n",
       "  'months_since_beginning': 21},\n",
       " {'recency': 16,\n",
       "  'frequency': 10,\n",
       "  'total_donated': 2500,\n",
       "  'months_since_beginning': 89},\n",
       " {'recency': 1,\n",
       "  'frequency': 7,\n",
       "  'total_donated': 1750,\n",
       "  'months_since_beginning': 57},\n",
       " {'recency': 21,\n",
       "  'frequency': 3,\n",
       "  'total_donated': 750,\n",
       "  'months_since_beginning': 26},\n",
       " {'recency': 7,\n",
       "  'frequency': 11,\n",
       "  'total_donated': 2750,\n",
       "  'months_since_beginning': 89},\n",
       " {'recency': 11,\n",
       "  'frequency': 5,\n",
       "  'total_donated': 1250,\n",
       "  'months_since_beginning': 50},\n",
       " {'recency': 23,\n",
       "  'frequency': 5,\n",
       "  'total_donated': 1250,\n",
       "  'months_since_beginning': 33},\n",
       " {'recency': 23,\n",
       "  'frequency': 1,\n",
       "  'total_donated': 250,\n",
       "  'months_since_beginning': 23},\n",
       " {'recency': 14,\n",
       "  'frequency': 3,\n",
       "  'total_donated': 750,\n",
       "  'months_since_beginning': 35},\n",
       " {'recency': 9,\n",
       "  'frequency': 2,\n",
       "  'total_donated': 500,\n",
       "  'months_since_beginning': 52},\n",
       " {'recency': 14,\n",
       "  'frequency': 5,\n",
       "  'total_donated': 1250,\n",
       "  'months_since_beginning': 50},\n",
       " {'recency': 14,\n",
       "  'frequency': 7,\n",
       "  'total_donated': 1750,\n",
       "  'months_since_beginning': 73},\n",
       " {'recency': 4,\n",
       "  'frequency': 5,\n",
       "  'total_donated': 1250,\n",
       "  'months_since_beginning': 58},\n",
       " {'recency': 21,\n",
       "  'frequency': 2,\n",
       "  'total_donated': 500,\n",
       "  'months_since_beginning': 23},\n",
       " {'recency': 2,\n",
       "  'frequency': 5,\n",
       "  'total_donated': 1250,\n",
       "  'months_since_beginning': 34},\n",
       " {'recency': 23,\n",
       "  'frequency': 4,\n",
       "  'total_donated': 1000,\n",
       "  'months_since_beginning': 45},\n",
       " {'recency': 11,\n",
       "  'frequency': 1,\n",
       "  'total_donated': 250,\n",
       "  'months_since_beginning': 11},\n",
       " {'recency': 23,\n",
       "  'frequency': 2,\n",
       "  'total_donated': 500,\n",
       "  'months_since_beginning': 28},\n",
       " {'recency': 11,\n",
       "  'frequency': 9,\n",
       "  'total_donated': 2250,\n",
       "  'months_since_beginning': 38},\n",
       " {'recency': 7,\n",
       "  'frequency': 9,\n",
       "  'total_donated': 2250,\n",
       "  'months_since_beginning': 89},\n",
       " {'recency': 2,\n",
       "  'frequency': 2,\n",
       "  'total_donated': 500,\n",
       "  'months_since_beginning': 2},\n",
       " {'recency': 16,\n",
       "  'frequency': 8,\n",
       "  'total_donated': 2000,\n",
       "  'months_since_beginning': 76},\n",
       " {'recency': 14,\n",
       "  'frequency': 2,\n",
       "  'total_donated': 500,\n",
       "  'months_since_beginning': 35},\n",
       " {'recency': 21,\n",
       "  'frequency': 1,\n",
       "  'total_donated': 250,\n",
       "  'months_since_beginning': 21},\n",
       " {'recency': 16,\n",
       "  'frequency': 2,\n",
       "  'total_donated': 500,\n",
       "  'months_since_beginning': 26},\n",
       " {'recency': 1,\n",
       "  'frequency': 24,\n",
       "  'total_donated': 6000,\n",
       "  'months_since_beginning': 77},\n",
       " {'recency': 11,\n",
       "  'frequency': 4,\n",
       "  'total_donated': 1000,\n",
       "  'months_since_beginning': 16},\n",
       " {'recency': 4,\n",
       "  'frequency': 5,\n",
       "  'total_donated': 1250,\n",
       "  'months_since_beginning': 46},\n",
       " {'recency': 23,\n",
       "  'frequency': 3,\n",
       "  'total_donated': 750,\n",
       "  'months_since_beginning': 40},\n",
       " {'recency': 4,\n",
       "  'frequency': 11,\n",
       "  'total_donated': 2750,\n",
       "  'months_since_beginning': 61},\n",
       " {'recency': 2,\n",
       "  'frequency': 1,\n",
       "  'total_donated': 250,\n",
       "  'months_since_beginning': 2},\n",
       " {'recency': 14,\n",
       "  'frequency': 8,\n",
       "  'total_donated': 2000,\n",
       "  'months_since_beginning': 50},\n",
       " {'recency': 16,\n",
       "  'frequency': 2,\n",
       "  'total_donated': 500,\n",
       "  'months_since_beginning': 70},\n",
       " {'recency': 14,\n",
       "  'frequency': 18,\n",
       "  'total_donated': 4500,\n",
       "  'months_since_beginning': 78},\n",
       " {'recency': 4,\n",
       "  'frequency': 1,\n",
       "  'total_donated': 250,\n",
       "  'months_since_beginning': 4},\n",
       " {'recency': 5,\n",
       "  'frequency': 6,\n",
       "  'total_donated': 1500,\n",
       "  'months_since_beginning': 28},\n",
       " {'recency': 14,\n",
       "  'frequency': 7,\n",
       "  'total_donated': 1750,\n",
       "  'months_since_beginning': 45},\n",
       " {'recency': 9,\n",
       "  'frequency': 2,\n",
       "  'total_donated': 500,\n",
       "  'months_since_beginning': 16},\n",
       " {'recency': 4,\n",
       "  'frequency': 2,\n",
       "  'total_donated': 500,\n",
       "  'months_since_beginning': 9},\n",
       " {'recency': 5,\n",
       "  'frequency': 24,\n",
       "  'total_donated': 6000,\n",
       "  'months_since_beginning': 79},\n",
       " {'recency': 16,\n",
       "  'frequency': 1,\n",
       "  'total_donated': 250,\n",
       "  'months_since_beginning': 16},\n",
       " {'recency': 23,\n",
       "  'frequency': 7,\n",
       "  'total_donated': 1750,\n",
       "  'months_since_beginning': 88},\n",
       " {'recency': 4,\n",
       "  'frequency': 7,\n",
       "  'total_donated': 1750,\n",
       "  'months_since_beginning': 58},\n",
       " {'recency': 2,\n",
       "  'frequency': 2,\n",
       "  'total_donated': 500,\n",
       "  'months_since_beginning': 4},\n",
       " {'recency': 4,\n",
       "  'frequency': 6,\n",
       "  'total_donated': 1500,\n",
       "  'months_since_beginning': 35},\n",
       " {'recency': 14,\n",
       "  'frequency': 5,\n",
       "  'total_donated': 1250,\n",
       "  'months_since_beginning': 28},\n",
       " {'recency': 16,\n",
       "  'frequency': 3,\n",
       "  'total_donated': 750,\n",
       "  'months_since_beginning': 23},\n",
       " {'recency': 2,\n",
       "  'frequency': 7,\n",
       "  'total_donated': 1750,\n",
       "  'months_since_beginning': 32},\n",
       " {'recency': 2,\n",
       "  'frequency': 3,\n",
       "  'total_donated': 750,\n",
       "  'months_since_beginning': 77},\n",
       " {'recency': 14,\n",
       "  'frequency': 2,\n",
       "  'total_donated': 500,\n",
       "  'months_since_beginning': 35},\n",
       " {'recency': 4,\n",
       "  'frequency': 33,\n",
       "  'total_donated': 8250,\n",
       "  'months_since_beginning': 98},\n",
       " {'recency': 23,\n",
       "  'frequency': 8,\n",
       "  'total_donated': 2000,\n",
       "  'months_since_beginning': 69},\n",
       " {'recency': 23,\n",
       "  'frequency': 4,\n",
       "  'total_donated': 1000,\n",
       "  'months_since_beginning': 87},\n",
       " {'recency': 4,\n",
       "  'frequency': 12,\n",
       "  'total_donated': 3000,\n",
       "  'months_since_beginning': 34},\n",
       " {'recency': 21,\n",
       "  'frequency': 16,\n",
       "  'total_donated': 4000,\n",
       "  'months_since_beginning': 64},\n",
       " {'recency': 21,\n",
       "  'frequency': 3,\n",
       "  'total_donated': 750,\n",
       "  'months_since_beginning': 38},\n",
       " {'recency': 5,\n",
       "  'frequency': 11,\n",
       "  'total_donated': 2750,\n",
       "  'months_since_beginning': 75},\n",
       " {'recency': 1,\n",
       "  'frequency': 14,\n",
       "  'total_donated': 3500,\n",
       "  'months_since_beginning': 58},\n",
       " {'recency': 23,\n",
       "  'frequency': 1,\n",
       "  'total_donated': 250,\n",
       "  'months_since_beginning': 23},\n",
       " {'recency': 14,\n",
       "  'frequency': 6,\n",
       "  'total_donated': 1500,\n",
       "  'months_since_beginning': 51},\n",
       " {'recency': 4,\n",
       "  'frequency': 16,\n",
       "  'total_donated': 4000,\n",
       "  'months_since_beginning': 38},\n",
       " {'recency': 4,\n",
       "  'frequency': 7,\n",
       "  'total_donated': 1750,\n",
       "  'months_since_beginning': 52},\n",
       " {'recency': 23,\n",
       "  'frequency': 3,\n",
       "  'total_donated': 750,\n",
       "  'months_since_beginning': 89},\n",
       " {'recency': 12,\n",
       "  'frequency': 12,\n",
       "  'total_donated': 3000,\n",
       "  'months_since_beginning': 58},\n",
       " {'recency': 4,\n",
       "  'frequency': 8,\n",
       "  'total_donated': 2000,\n",
       "  'months_since_beginning': 46},\n",
       " {'recency': 2,\n",
       "  'frequency': 2,\n",
       "  'total_donated': 500,\n",
       "  'months_since_beginning': 11},\n",
       " {'recency': 4,\n",
       "  'frequency': 4,\n",
       "  'total_donated': 1000,\n",
       "  'months_since_beginning': 18},\n",
       " {'recency': 1,\n",
       "  'frequency': 14,\n",
       "  'total_donated': 3500,\n",
       "  'months_since_beginning': 95},\n",
       " {'recency': 26,\n",
       "  'frequency': 5,\n",
       "  'total_donated': 1250,\n",
       "  'months_since_beginning': 49},\n",
       " {'recency': 7,\n",
       "  'frequency': 5,\n",
       "  'total_donated': 1250,\n",
       "  'months_since_beginning': 52},\n",
       " {'recency': 2,\n",
       "  'frequency': 1,\n",
       "  'total_donated': 250,\n",
       "  'months_since_beginning': 2},\n",
       " {'recency': 14,\n",
       "  'frequency': 8,\n",
       "  'total_donated': 2000,\n",
       "  'months_since_beginning': 26},\n",
       " {'recency': 38,\n",
       "  'frequency': 1,\n",
       "  'total_donated': 250,\n",
       "  'months_since_beginning': 38},\n",
       " {'recency': 9,\n",
       "  'frequency': 2,\n",
       "  'total_donated': 500,\n",
       "  'months_since_beginning': 52},\n",
       " {'recency': 4,\n",
       "  'frequency': 19,\n",
       "  'total_donated': 4750,\n",
       "  'months_since_beginning': 69},\n",
       " {'recency': 21,\n",
       "  'frequency': 7,\n",
       "  'total_donated': 1750,\n",
       "  'months_since_beginning': 38},\n",
       " {'recency': 2,\n",
       "  'frequency': 1,\n",
       "  'total_donated': 250,\n",
       "  'months_since_beginning': 2},\n",
       " {'recency': 3,\n",
       "  'frequency': 1,\n",
       "  'total_donated': 250,\n",
       "  'months_since_beginning': 3},\n",
       " {'recency': 4,\n",
       "  'frequency': 1,\n",
       "  'total_donated': 250,\n",
       "  'months_since_beginning': 4},\n",
       " {'recency': 10,\n",
       "  'frequency': 5,\n",
       "  'total_donated': 1250,\n",
       "  'months_since_beginning': 38},\n",
       " {'recency': 11,\n",
       "  'frequency': 6,\n",
       "  'total_donated': 1500,\n",
       "  'months_since_beginning': 41},\n",
       " {'recency': 2,\n",
       "  'frequency': 6,\n",
       "  'total_donated': 1500,\n",
       "  'months_since_beginning': 15},\n",
       " {'recency': 2,\n",
       "  'frequency': 4,\n",
       "  'total_donated': 1000,\n",
       "  'months_since_beginning': 70},\n",
       " {'recency': 11,\n",
       "  'frequency': 1,\n",
       "  'total_donated': 250,\n",
       "  'months_since_beginning': 11},\n",
       " {'recency': 10,\n",
       "  'frequency': 4,\n",
       "  'total_donated': 1000,\n",
       "  'months_since_beginning': 16},\n",
       " {'recency': 4,\n",
       "  'frequency': 10,\n",
       "  'total_donated': 2500,\n",
       "  'months_since_beginning': 28},\n",
       " {'recency': 23,\n",
       "  'frequency': 38,\n",
       "  'total_donated': 9500,\n",
       "  'months_since_beginning': 98},\n",
       " {'recency': 16,\n",
       "  'frequency': 1,\n",
       "  'total_donated': 250,\n",
       "  'months_since_beginning': 16},\n",
       " {'recency': 2,\n",
       "  'frequency': 5,\n",
       "  'total_donated': 1250,\n",
       "  'months_since_beginning': 37},\n",
       " {'recency': 1,\n",
       "  'frequency': 10,\n",
       "  'total_donated': 2500,\n",
       "  'months_since_beginning': 43},\n",
       " {'recency': 2,\n",
       "  'frequency': 4,\n",
       "  'total_donated': 1000,\n",
       "  'months_since_beginning': 43},\n",
       " {'recency': 23,\n",
       "  'frequency': 1,\n",
       "  'total_donated': 250,\n",
       "  'months_since_beginning': 23},\n",
       " {'recency': 21,\n",
       "  'frequency': 2,\n",
       "  'total_donated': 500,\n",
       "  'months_since_beginning': 21},\n",
       " {'recency': 23,\n",
       "  'frequency': 3,\n",
       "  'total_donated': 750,\n",
       "  'months_since_beginning': 41},\n",
       " {'recency': 74,\n",
       "  'frequency': 1,\n",
       "  'total_donated': 250,\n",
       "  'months_since_beginning': 74},\n",
       " {'recency': 2,\n",
       "  'frequency': 1,\n",
       "  'total_donated': 250,\n",
       "  'months_since_beginning': 2},\n",
       " {'recency': 4,\n",
       "  'frequency': 9,\n",
       "  'total_donated': 2250,\n",
       "  'months_since_beginning': 28},\n",
       " {'recency': 4,\n",
       "  'frequency': 2,\n",
       "  'total_donated': 500,\n",
       "  'months_since_beginning': 4},\n",
       " {'recency': 14,\n",
       "  'frequency': 1,\n",
       "  'total_donated': 250,\n",
       "  'months_since_beginning': 14},\n",
       " {'recency': 4,\n",
       "  'frequency': 5,\n",
       "  'total_donated': 1250,\n",
       "  'months_since_beginning': 58},\n",
       " {'recency': 11,\n",
       "  'frequency': 8,\n",
       "  'total_donated': 2000,\n",
       "  'months_since_beginning': 48},\n",
       " {'recency': 16,\n",
       "  'frequency': 1,\n",
       "  'total_donated': 250,\n",
       "  'months_since_beginning': 16},\n",
       " {'recency': 8,\n",
       "  'frequency': 8,\n",
       "  'total_donated': 2000,\n",
       "  'months_since_beginning': 52},\n",
       " {'recency': 2,\n",
       "  'frequency': 12,\n",
       "  'total_donated': 3000,\n",
       "  'months_since_beginning': 82},\n",
       " {'recency': 2,\n",
       "  'frequency': 43,\n",
       "  'total_donated': 10750,\n",
       "  'months_since_beginning': 86},\n",
       " {'recency': 14,\n",
       "  'frequency': 8,\n",
       "  'total_donated': 2000,\n",
       "  'months_since_beginning': 46},\n",
       " {'recency': 14,\n",
       "  'frequency': 4,\n",
       "  'total_donated': 1000,\n",
       "  'months_since_beginning': 23},\n",
       " {'recency': 4,\n",
       "  'frequency': 1,\n",
       "  'total_donated': 250,\n",
       "  'months_since_beginning': 4},\n",
       " {'recency': 14,\n",
       "  'frequency': 3,\n",
       "  'total_donated': 750,\n",
       "  'months_since_beginning': 26},\n",
       " {'recency': 4,\n",
       "  'frequency': 6,\n",
       "  'total_donated': 1500,\n",
       "  'months_since_beginning': 39},\n",
       " {'recency': 4,\n",
       "  'frequency': 1,\n",
       "  'total_donated': 250,\n",
       "  'months_since_beginning': 4},\n",
       " {'recency': 23,\n",
       "  'frequency': 3,\n",
       "  'total_donated': 750,\n",
       "  'months_since_beginning': 48},\n",
       " {'recency': 4,\n",
       "  'frequency': 17,\n",
       "  'total_donated': 4250,\n",
       "  'months_since_beginning': 71},\n",
       " {'recency': 4,\n",
       "  'frequency': 4,\n",
       "  'total_donated': 1000,\n",
       "  'months_since_beginning': 46},\n",
       " {'recency': 4,\n",
       "  'frequency': 6,\n",
       "  'total_donated': 1500,\n",
       "  'months_since_beginning': 43},\n",
       " {'recency': 21,\n",
       "  'frequency': 3,\n",
       "  'total_donated': 750,\n",
       "  'months_since_beginning': 35},\n",
       " {'recency': 2,\n",
       "  'frequency': 6,\n",
       "  'total_donated': 1500,\n",
       "  'months_since_beginning': 16},\n",
       " {'recency': 11,\n",
       "  'frequency': 5,\n",
       "  'total_donated': 1250,\n",
       "  'months_since_beginning': 38},\n",
       " {'recency': 2,\n",
       "  'frequency': 3,\n",
       "  'total_donated': 750,\n",
       "  'months_since_beginning': 4},\n",
       " {'recency': 2,\n",
       "  'frequency': 5,\n",
       "  'total_donated': 1250,\n",
       "  'months_since_beginning': 47},\n",
       " {'recency': 2,\n",
       "  'frequency': 11,\n",
       "  'total_donated': 2750,\n",
       "  'months_since_beginning': 79},\n",
       " {'recency': 2,\n",
       "  'frequency': 15,\n",
       "  'total_donated': 3750,\n",
       "  'months_since_beginning': 49},\n",
       " {'recency': 21,\n",
       "  'frequency': 2,\n",
       "  'total_donated': 500,\n",
       "  'months_since_beginning': 26},\n",
       " {'recency': 11,\n",
       "  'frequency': 1,\n",
       "  'total_donated': 250,\n",
       "  'months_since_beginning': 11},\n",
       " {'recency': 21,\n",
       "  'frequency': 2,\n",
       "  'total_donated': 500,\n",
       "  'months_since_beginning': 25},\n",
       " {'recency': 2,\n",
       "  'frequency': 3,\n",
       "  'total_donated': 750,\n",
       "  'months_since_beginning': 9},\n",
       " {'recency': 2,\n",
       "  'frequency': 7,\n",
       "  'total_donated': 1750,\n",
       "  'months_since_beginning': 28},\n",
       " {'recency': 11,\n",
       "  'frequency': 4,\n",
       "  'total_donated': 1000,\n",
       "  'months_since_beginning': 61},\n",
       " {'recency': 2,\n",
       "  'frequency': 7,\n",
       "  'total_donated': 1750,\n",
       "  'months_since_beginning': 58},\n",
       " {'recency': 14,\n",
       "  'frequency': 2,\n",
       "  'total_donated': 500,\n",
       "  'months_since_beginning': 29},\n",
       " {'recency': 4,\n",
       "  'frequency': 4,\n",
       "  'total_donated': 1000,\n",
       "  'months_since_beginning': 4},\n",
       " {'recency': 23,\n",
       "  'frequency': 2,\n",
       "  'total_donated': 500,\n",
       "  'months_since_beginning': 38},\n",
       " {'recency': 2,\n",
       "  'frequency': 4,\n",
       "  'total_donated': 1000,\n",
       "  'months_since_beginning': 23},\n",
       " {'recency': 2,\n",
       "  'frequency': 6,\n",
       "  'total_donated': 1500,\n",
       "  'months_since_beginning': 75},\n",
       " {'recency': 4,\n",
       "  'frequency': 2,\n",
       "  'total_donated': 500,\n",
       "  'months_since_beginning': 41},\n",
       " {'recency': 4,\n",
       "  'frequency': 8,\n",
       "  'total_donated': 2000,\n",
       "  'months_since_beginning': 26},\n",
       " {'recency': 16,\n",
       "  'frequency': 1,\n",
       "  'total_donated': 250,\n",
       "  'months_since_beginning': 16},\n",
       " {'recency': 11,\n",
       "  'frequency': 1,\n",
       "  'total_donated': 250,\n",
       "  'months_since_beginning': 11},\n",
       " {'recency': 23,\n",
       "  'frequency': 1,\n",
       "  'total_donated': 250,\n",
       "  'months_since_beginning': 23},\n",
       " {'recency': 4,\n",
       "  'frequency': 5,\n",
       "  'total_donated': 1250,\n",
       "  'months_since_beginning': 11},\n",
       " {'recency': 3,\n",
       "  'frequency': 5,\n",
       "  'total_donated': 1250,\n",
       "  'months_since_beginning': 12},\n",
       " {'recency': 2,\n",
       "  'frequency': 6,\n",
       "  'total_donated': 1500,\n",
       "  'months_since_beginning': 28},\n",
       " {'recency': 4,\n",
       "  'frequency': 2,\n",
       "  'total_donated': 500,\n",
       "  'months_since_beginning': 59},\n",
       " {'recency': 21,\n",
       "  'frequency': 13,\n",
       "  'total_donated': 3250,\n",
       "  'months_since_beginning': 57},\n",
       " {'recency': 2,\n",
       "  'frequency': 1,\n",
       "  'total_donated': 250,\n",
       "  'months_since_beginning': 2},\n",
       " {'recency': 2,\n",
       "  'frequency': 14,\n",
       "  'total_donated': 3500,\n",
       "  'months_since_beginning': 57},\n",
       " {'recency': 4,\n",
       "  'frequency': 16,\n",
       "  'total_donated': 4000,\n",
       "  'months_since_beginning': 98},\n",
       " {'recency': 2,\n",
       "  'frequency': 6,\n",
       "  'total_donated': 1500,\n",
       "  'months_since_beginning': 26},\n",
       " {'recency': 2,\n",
       "  'frequency': 12,\n",
       "  'total_donated': 3000,\n",
       "  'months_since_beginning': 52},\n",
       " {'recency': 3,\n",
       "  'frequency': 17,\n",
       "  'total_donated': 4250,\n",
       "  'months_since_beginning': 86},\n",
       " {'recency': 4,\n",
       "  'frequency': 5,\n",
       "  'total_donated': 1250,\n",
       "  'months_since_beginning': 35},\n",
       " {'recency': 23,\n",
       "  'frequency': 2,\n",
       "  'total_donated': 500,\n",
       "  'months_since_beginning': 23},\n",
       " {'recency': 11,\n",
       "  'frequency': 1,\n",
       "  'total_donated': 250,\n",
       "  'months_since_beginning': 11},\n",
       " {'recency': 4,\n",
       "  'frequency': 1,\n",
       "  'total_donated': 250,\n",
       "  'months_since_beginning': 4},\n",
       " {'recency': 11,\n",
       "  'frequency': 11,\n",
       "  'total_donated': 2750,\n",
       "  'months_since_beginning': 42},\n",
       " {'recency': 11,\n",
       "  'frequency': 7,\n",
       "  'total_donated': 1750,\n",
       "  'months_since_beginning': 29},\n",
       " {'recency': 4,\n",
       "  'frequency': 2,\n",
       "  'total_donated': 500,\n",
       "  'months_since_beginning': 13},\n",
       " {'recency': 4,\n",
       "  'frequency': 2,\n",
       "  'total_donated': 500,\n",
       "  'months_since_beginning': 30},\n",
       " {'recency': 16,\n",
       "  'frequency': 4,\n",
       "  'total_donated': 1000,\n",
       "  'months_since_beginning': 45},\n",
       " {'recency': 4,\n",
       "  'frequency': 1,\n",
       "  'total_donated': 250,\n",
       "  'months_since_beginning': 4},\n",
       " {'recency': 8,\n",
       "  'frequency': 15,\n",
       "  'total_donated': 3750,\n",
       "  'months_since_beginning': 77},\n",
       " {'recency': 14,\n",
       "  'frequency': 3,\n",
       "  'total_donated': 750,\n",
       "  'months_since_beginning': 79},\n",
       " {'recency': 4,\n",
       "  'frequency': 2,\n",
       "  'total_donated': 500,\n",
       "  'months_since_beginning': 4},\n",
       " {'recency': 4,\n",
       "  'frequency': 4,\n",
       "  'total_donated': 1000,\n",
       "  'months_since_beginning': 26},\n",
       " {'recency': 2,\n",
       "  'frequency': 3,\n",
       "  'total_donated': 750,\n",
       "  'months_since_beginning': 16},\n",
       " {'recency': 2,\n",
       "  'frequency': 5,\n",
       "  'total_donated': 1250,\n",
       "  'months_since_beginning': 11},\n",
       " {'recency': 2,\n",
       "  'frequency': 2,\n",
       "  'total_donated': 500,\n",
       "  'months_since_beginning': 11},\n",
       " {'recency': 14,\n",
       "  'frequency': 4,\n",
       "  'total_donated': 1000,\n",
       "  'months_since_beginning': 30},\n",
       " {'recency': 4,\n",
       "  'frequency': 3,\n",
       "  'total_donated': 750,\n",
       "  'months_since_beginning': 34},\n",
       " {'recency': 6,\n",
       "  'frequency': 17,\n",
       "  'total_donated': 4250,\n",
       "  'months_since_beginning': 70},\n",
       " {'recency': 11,\n",
       "  'frequency': 1,\n",
       "  'total_donated': 250,\n",
       "  'months_since_beginning': 11},\n",
       " {'recency': 4,\n",
       "  'frequency': 7,\n",
       "  'total_donated': 1750,\n",
       "  'months_since_beginning': 28},\n",
       " {'recency': 14,\n",
       "  'frequency': 1,\n",
       "  'total_donated': 250,\n",
       "  'months_since_beginning': 14},\n",
       " {'recency': 16,\n",
       "  'frequency': 6,\n",
       "  'total_donated': 1500,\n",
       "  'months_since_beginning': 50},\n",
       " {'recency': 2,\n",
       "  'frequency': 2,\n",
       "  'total_donated': 500,\n",
       "  'months_since_beginning': 4},\n",
       " {'recency': 11,\n",
       "  'frequency': 3,\n",
       "  'total_donated': 750,\n",
       "  'months_since_beginning': 28},\n",
       " {'recency': 2,\n",
       "  'frequency': 1,\n",
       "  'total_donated': 250,\n",
       "  'months_since_beginning': 2},\n",
       " {'recency': 14,\n",
       "  'frequency': 2,\n",
       "  'total_donated': 500,\n",
       "  'months_since_beginning': 14},\n",
       " {'recency': 16,\n",
       "  'frequency': 2,\n",
       "  'total_donated': 500,\n",
       "  'months_since_beginning': 16},\n",
       " {'recency': 16,\n",
       "  'frequency': 6,\n",
       "  'total_donated': 1500,\n",
       "  'months_since_beginning': 40},\n",
       " {'recency': 4,\n",
       "  'frequency': 5,\n",
       "  'total_donated': 1250,\n",
       "  'months_since_beginning': 23},\n",
       " {'recency': 2,\n",
       "  'frequency': 4,\n",
       "  'total_donated': 1000,\n",
       "  'months_since_beginning': 16},\n",
       " {'recency': 2,\n",
       "  'frequency': 11,\n",
       "  'total_donated': 2750,\n",
       "  'months_since_beginning': 40},\n",
       " {'recency': 2,\n",
       "  'frequency': 6,\n",
       "  'total_donated': 1500,\n",
       "  'months_since_beginning': 35},\n",
       " {'recency': 4,\n",
       "  'frequency': 3,\n",
       "  'total_donated': 750,\n",
       "  'months_since_beginning': 16},\n",
       " {'recency': 2,\n",
       "  'frequency': 3,\n",
       "  'total_donated': 750,\n",
       "  'months_since_beginning': 75},\n",
       " {'recency': 2,\n",
       "  'frequency': 2,\n",
       "  'total_donated': 500,\n",
       "  'months_since_beginning': 16},\n",
       " {'recency': 16,\n",
       "  'frequency': 1,\n",
       "  'total_donated': 250,\n",
       "  'months_since_beginning': 16},\n",
       " {'recency': 2,\n",
       "  'frequency': 20,\n",
       "  'total_donated': 5000,\n",
       "  'months_since_beginning': 45},\n",
       " {'recency': 18,\n",
       "  'frequency': 2,\n",
       "  'total_donated': 500,\n",
       "  'months_since_beginning': 23},\n",
       " {'recency': 4,\n",
       "  'frequency': 8,\n",
       "  'total_donated': 2000,\n",
       "  'months_since_beginning': 34},\n",
       " {'recency': 7,\n",
       "  'frequency': 2,\n",
       "  'total_donated': 500,\n",
       "  'months_since_beginning': 16},\n",
       " {'recency': 0,\n",
       "  'frequency': 3,\n",
       "  'total_donated': 750,\n",
       "  'months_since_beginning': 4},\n",
       " {'recency': 16,\n",
       "  'frequency': 4,\n",
       "  'total_donated': 1000,\n",
       "  'months_since_beginning': 23},\n",
       " {'recency': 4,\n",
       "  'frequency': 1,\n",
       "  'total_donated': 250,\n",
       "  'months_since_beginning': 4},\n",
       " {'recency': 14,\n",
       "  'frequency': 1,\n",
       "  'total_donated': 250,\n",
       "  'months_since_beginning': 14},\n",
       " {'recency': 2,\n",
       "  'frequency': 3,\n",
       "  'total_donated': 750,\n",
       "  'months_since_beginning': 24},\n",
       " {'recency': 9,\n",
       "  'frequency': 2,\n",
       "  'total_donated': 500,\n",
       "  'months_since_beginning': 26},\n",
       " {'recency': 4,\n",
       "  'frequency': 5,\n",
       "  'total_donated': 1250,\n",
       "  'months_since_beginning': 33},\n",
       " {'recency': 15,\n",
       "  'frequency': 16,\n",
       "  'total_donated': 4000,\n",
       "  'months_since_beginning': 82},\n",
       " {'recency': 23,\n",
       "  'frequency': 1,\n",
       "  'total_donated': 250,\n",
       "  'months_since_beginning': 23},\n",
       " {'recency': 4,\n",
       "  'frequency': 6,\n",
       "  'total_donated': 1500,\n",
       "  'months_since_beginning': 41},\n",
       " {'recency': 11,\n",
       "  'frequency': 7,\n",
       "  'total_donated': 1750,\n",
       "  'months_since_beginning': 75},\n",
       " {'recency': 8,\n",
       "  'frequency': 9,\n",
       "  'total_donated': 2250,\n",
       "  'months_since_beginning': 58},\n",
       " {'recency': 16,\n",
       "  'frequency': 1,\n",
       "  'total_donated': 250,\n",
       "  'months_since_beginning': 16},\n",
       " {'recency': 4,\n",
       "  'frequency': 3,\n",
       "  'total_donated': 750,\n",
       "  'months_since_beginning': 24},\n",
       " {'recency': 4,\n",
       "  'frequency': 2,\n",
       "  'total_donated': 500,\n",
       "  'months_since_beginning': 4},\n",
       " {'recency': 4,\n",
       "  'frequency': 3,\n",
       "  'total_donated': 750,\n",
       "  'months_since_beginning': 28},\n",
       " {'recency': 2,\n",
       "  'frequency': 11,\n",
       "  'total_donated': 2750,\n",
       "  'months_since_beginning': 23},\n",
       " {'recency': 23,\n",
       "  'frequency': 8,\n",
       "  'total_donated': 2000,\n",
       "  'months_since_beginning': 46},\n",
       " {'recency': 4,\n",
       "  'frequency': 9,\n",
       "  'total_donated': 2250,\n",
       "  'months_since_beginning': 38},\n",
       " {'recency': 2,\n",
       "  'frequency': 16,\n",
       "  'total_donated': 4000,\n",
       "  'months_since_beginning': 64},\n",
       " {'recency': 9,\n",
       "  'frequency': 11,\n",
       "  'total_donated': 2750,\n",
       "  'months_since_beginning': 49},\n",
       " {'recency': 15,\n",
       "  'frequency': 5,\n",
       "  'total_donated': 1250,\n",
       "  'months_since_beginning': 33},\n",
       " {'recency': 2,\n",
       "  'frequency': 11,\n",
       "  'total_donated': 2750,\n",
       "  'months_since_beginning': 46},\n",
       " {'recency': 4,\n",
       "  'frequency': 8,\n",
       "  'total_donated': 2000,\n",
       "  'months_since_beginning': 21},\n",
       " {'recency': 21,\n",
       "  'frequency': 2,\n",
       "  'total_donated': 500,\n",
       "  'months_since_beginning': 23},\n",
       " {'recency': 14,\n",
       "  'frequency': 16,\n",
       "  'total_donated': 4000,\n",
       "  'months_since_beginning': 98},\n",
       " {'recency': 14,\n",
       "  'frequency': 5,\n",
       "  'total_donated': 1250,\n",
       "  'months_since_beginning': 14},\n",
       " {'recency': 4,\n",
       "  'frequency': 11,\n",
       "  'total_donated': 2750,\n",
       "  'months_since_beginning': 78},\n",
       " {'recency': 4,\n",
       "  'frequency': 2,\n",
       "  'total_donated': 500,\n",
       "  'months_since_beginning': 14},\n",
       " {'recency': 16,\n",
       "  'frequency': 7,\n",
       "  'total_donated': 1750,\n",
       "  'months_since_beginning': 87},\n",
       " {'recency': 4,\n",
       "  'frequency': 2,\n",
       "  'total_donated': 500,\n",
       "  'months_since_beginning': 4},\n",
       " {'recency': 11,\n",
       "  'frequency': 3,\n",
       "  'total_donated': 750,\n",
       "  'months_since_beginning': 23},\n",
       " {'recency': 4,\n",
       "  'frequency': 9,\n",
       "  'total_donated': 2250,\n",
       "  'months_since_beginning': 40},\n",
       " {'recency': 3,\n",
       "  'frequency': 6,\n",
       "  'total_donated': 1500,\n",
       "  'months_since_beginning': 21},\n",
       " {'recency': 11,\n",
       "  'frequency': 2,\n",
       "  'total_donated': 500,\n",
       "  'months_since_beginning': 26},\n",
       " {'recency': 4,\n",
       "  'frequency': 1,\n",
       "  'total_donated': 250,\n",
       "  'months_since_beginning': 4},\n",
       " {'recency': 16,\n",
       "  'frequency': 15,\n",
       "  'total_donated': 3750,\n",
       "  'months_since_beginning': 87},\n",
       " {'recency': 2,\n",
       "  'frequency': 15,\n",
       "  'total_donated': 3750,\n",
       "  'months_since_beginning': 64},\n",
       " {'recency': 2,\n",
       "  'frequency': 1,\n",
       "  'total_donated': 250,\n",
       "  'months_since_beginning': 2},\n",
       " {'recency': 2,\n",
       "  'frequency': 1,\n",
       "  'total_donated': 250,\n",
       "  'months_since_beginning': 2},\n",
       " {'recency': 11,\n",
       "  'frequency': 8,\n",
       "  'total_donated': 2000,\n",
       "  'months_since_beginning': 52},\n",
       " {'recency': 14,\n",
       "  'frequency': 1,\n",
       "  'total_donated': 250,\n",
       "  'months_since_beginning': 14},\n",
       " {'recency': 11,\n",
       "  'frequency': 1,\n",
       "  'total_donated': 250,\n",
       "  'months_since_beginning': 11},\n",
       " {'recency': 11,\n",
       "  'frequency': 2,\n",
       "  'total_donated': 500,\n",
       "  'months_since_beginning': 11},\n",
       " {'recency': 11,\n",
       "  'frequency': 8,\n",
       "  'total_donated': 2000,\n",
       "  'months_since_beginning': 72},\n",
       " {'recency': 2,\n",
       "  'frequency': 2,\n",
       "  'total_donated': 500,\n",
       "  'months_since_beginning': 4},\n",
       " {'recency': 2,\n",
       "  'frequency': 9,\n",
       "  'total_donated': 2250,\n",
       "  'months_since_beginning': 36},\n",
       " {'recency': 7,\n",
       "  'frequency': 12,\n",
       "  'total_donated': 3000,\n",
       "  'months_since_beginning': 86},\n",
       " {'recency': 2,\n",
       "  'frequency': 3,\n",
       "  'total_donated': 750,\n",
       "  'months_since_beginning': 14},\n",
       " {'recency': 21,\n",
       "  'frequency': 1,\n",
       "  'total_donated': 250,\n",
       "  'months_since_beginning': 21},\n",
       " {'recency': 23,\n",
       "  'frequency': 1,\n",
       "  'total_donated': 250,\n",
       "  'months_since_beginning': 23},\n",
       " {'recency': 23,\n",
       "  'frequency': 12,\n",
       "  'total_donated': 3000,\n",
       "  'months_since_beginning': 86},\n",
       " {'recency': 16,\n",
       "  'frequency': 1,\n",
       "  'total_donated': 250,\n",
       "  'months_since_beginning': 16},\n",
       " {'recency': 2,\n",
       "  'frequency': 12,\n",
       "  'total_donated': 3000,\n",
       "  'months_since_beginning': 47},\n",
       " {'recency': 14,\n",
       "  'frequency': 4,\n",
       "  'total_donated': 1000,\n",
       "  'months_since_beginning': 40},\n",
       " {'recency': 2,\n",
       "  'frequency': 2,\n",
       "  'total_donated': 500,\n",
       "  'months_since_beginning': 11},\n",
       " {'recency': 11,\n",
       "  'frequency': 2,\n",
       "  'total_donated': 500,\n",
       "  'months_since_beginning': 21},\n",
       " {'recency': 2,\n",
       "  'frequency': 11,\n",
       "  'total_donated': 2750,\n",
       "  'months_since_beginning': 41},\n",
       " {'recency': 4,\n",
       "  'frequency': 11,\n",
       "  'total_donated': 2750,\n",
       "  'months_since_beginning': 28},\n",
       " {'recency': 11,\n",
       "  'frequency': 1,\n",
       "  'total_donated': 250,\n",
       "  'months_since_beginning': 11},\n",
       " {'recency': 2,\n",
       "  'frequency': 2,\n",
       "  'total_donated': 500,\n",
       "  'months_since_beginning': 10},\n",
       " {'recency': 14,\n",
       "  'frequency': 7,\n",
       "  'total_donated': 1750,\n",
       "  'months_since_beginning': 47},\n",
       " {'recency': 4,\n",
       "  'frequency': 7,\n",
       "  'total_donated': 1750,\n",
       "  'months_since_beginning': 62},\n",
       " {'recency': 4,\n",
       "  'frequency': 6,\n",
       "  'total_donated': 1500,\n",
       "  'months_since_beginning': 16},\n",
       " {'recency': 2,\n",
       "  'frequency': 4,\n",
       "  'total_donated': 1000,\n",
       "  'months_since_beginning': 26},\n",
       " {'recency': 11,\n",
       "  'frequency': 3,\n",
       "  'total_donated': 750,\n",
       "  'months_since_beginning': 76},\n",
       " {'recency': 4,\n",
       "  'frequency': 5,\n",
       "  'total_donated': 1250,\n",
       "  'months_since_beginning': 16},\n",
       " {'recency': 21,\n",
       "  'frequency': 1,\n",
       "  'total_donated': 250,\n",
       "  'months_since_beginning': 21},\n",
       " {'recency': 12,\n",
       "  'frequency': 11,\n",
       "  'total_donated': 2750,\n",
       "  'months_since_beginning': 23},\n",
       " {'recency': 4,\n",
       "  'frequency': 10,\n",
       "  'total_donated': 2500,\n",
       "  'months_since_beginning': 28},\n",
       " {'recency': 2,\n",
       "  'frequency': 8,\n",
       "  'total_donated': 2000,\n",
       "  'months_since_beginning': 28},\n",
       " {'recency': 23,\n",
       "  'frequency': 3,\n",
       "  'total_donated': 750,\n",
       "  'months_since_beginning': 28},\n",
       " {'recency': 2,\n",
       "  'frequency': 1,\n",
       "  'total_donated': 250,\n",
       "  'months_since_beginning': 2},\n",
       " {'recency': 4,\n",
       "  'frequency': 7,\n",
       "  'total_donated': 1750,\n",
       "  'months_since_beginning': 32},\n",
       " {'recency': 1,\n",
       "  'frequency': 16,\n",
       "  'total_donated': 4000,\n",
       "  'months_since_beginning': 35},\n",
       " {'recency': 2,\n",
       "  'frequency': 2,\n",
       "  'total_donated': 500,\n",
       "  'months_since_beginning': 11},\n",
       " {'recency': 11,\n",
       "  'frequency': 2,\n",
       "  'total_donated': 500,\n",
       "  'months_since_beginning': 25},\n",
       " {'recency': 9,\n",
       "  'frequency': 8,\n",
       "  'total_donated': 2000,\n",
       "  'months_since_beginning': 38},\n",
       " {'recency': 2,\n",
       "  'frequency': 7,\n",
       "  'total_donated': 1750,\n",
       "  'months_since_beginning': 14},\n",
       " {'recency': 2,\n",
       "  'frequency': 1,\n",
       "  'total_donated': 250,\n",
       "  'months_since_beginning': 2},\n",
       " {'recency': 4,\n",
       "  'frequency': 6,\n",
       "  'total_donated': 1500,\n",
       "  'months_since_beginning': 28},\n",
       " {'recency': 14,\n",
       "  'frequency': 6,\n",
       "  'total_donated': 1500,\n",
       "  'months_since_beginning': 34},\n",
       " {'recency': 12,\n",
       "  'frequency': 9,\n",
       "  'total_donated': 2250,\n",
       "  'months_since_beginning': 60},\n",
       " {'recency': 4,\n",
       "  'frequency': 11,\n",
       "  'total_donated': 2750,\n",
       "  'months_since_beginning': 64},\n",
       " {'recency': 8,\n",
       "  'frequency': 9,\n",
       "  'total_donated': 2250,\n",
       "  'months_since_beginning': 64},\n",
       " {'recency': 11,\n",
       "  'frequency': 4,\n",
       "  'total_donated': 1000,\n",
       "  'months_since_beginning': 74},\n",
       " {'recency': 8,\n",
       "  'frequency': 10,\n",
       "  'total_donated': 2500,\n",
       "  'months_since_beginning': 63},\n",
       " {'recency': 21,\n",
       "  'frequency': 5,\n",
       "  'total_donated': 1250,\n",
       "  'months_since_beginning': 60},\n",
       " {'recency': 21,\n",
       "  'frequency': 3,\n",
       "  'total_donated': 750,\n",
       "  'months_since_beginning': 26},\n",
       " {'recency': 4,\n",
       "  'frequency': 11,\n",
       "  'total_donated': 2750,\n",
       "  'months_since_beginning': 95},\n",
       " {'recency': 11,\n",
       "  'frequency': 2,\n",
       "  'total_donated': 500,\n",
       "  'months_since_beginning': 17},\n",
       " {'recency': 11,\n",
       "  'frequency': 2,\n",
       "  'total_donated': 500,\n",
       "  'months_since_beginning': 70},\n",
       " {'recency': 14,\n",
       "  'frequency': 1,\n",
       "  'total_donated': 250,\n",
       "  'months_since_beginning': 14},\n",
       " {'recency': 11,\n",
       "  'frequency': 3,\n",
       "  'total_donated': 750,\n",
       "  'months_since_beginning': 23},\n",
       " {'recency': 16,\n",
       "  'frequency': 1,\n",
       "  'total_donated': 250,\n",
       "  'months_since_beginning': 16},\n",
       " {'recency': 2,\n",
       "  'frequency': 2,\n",
       "  'total_donated': 500,\n",
       "  'months_since_beginning': 10},\n",
       " {'recency': 14,\n",
       "  'frequency': 2,\n",
       "  'total_donated': 500,\n",
       "  'months_since_beginning': 14},\n",
       " {'recency': 4,\n",
       "  'frequency': 6,\n",
       "  'total_donated': 1500,\n",
       "  'months_since_beginning': 38},\n",
       " {'recency': 2,\n",
       "  'frequency': 6,\n",
       "  'total_donated': 1500,\n",
       "  'months_since_beginning': 41},\n",
       " {'recency': 2,\n",
       "  'frequency': 1,\n",
       "  'total_donated': 250,\n",
       "  'months_since_beginning': 2},\n",
       " {'recency': 11,\n",
       "  'frequency': 12,\n",
       "  'total_donated': 3000,\n",
       "  'months_since_beginning': 58},\n",
       " {'recency': 13,\n",
       "  'frequency': 7,\n",
       "  'total_donated': 1750,\n",
       "  'months_since_beginning': 76},\n",
       " {'recency': 9,\n",
       "  'frequency': 3,\n",
       "  'total_donated': 750,\n",
       "  'months_since_beginning': 14},\n",
       " {'recency': 11,\n",
       "  'frequency': 2,\n",
       "  'total_donated': 500,\n",
       "  'months_since_beginning': 14},\n",
       " {'recency': 4,\n",
       "  'frequency': 1,\n",
       "  'total_donated': 250,\n",
       "  'months_since_beginning': 4},\n",
       " {'recency': 16,\n",
       "  'frequency': 1,\n",
       "  'total_donated': 250,\n",
       "  'months_since_beginning': 16},\n",
       " {'recency': 16,\n",
       "  'frequency': 3,\n",
       "  'total_donated': 750,\n",
       "  'months_since_beginning': 21},\n",
       " {'recency': 3,\n",
       "  'frequency': 5,\n",
       "  'total_donated': 1250,\n",
       "  'months_since_beginning': 38},\n",
       " {'recency': 9,\n",
       "  'frequency': 1,\n",
       "  'total_donated': 250,\n",
       "  'months_since_beginning': 9},\n",
       " {'recency': 11,\n",
       "  'frequency': 1,\n",
       "  'total_donated': 250,\n",
       "  'months_since_beginning': 11},\n",
       " {'recency': 14,\n",
       "  'frequency': 2,\n",
       "  'total_donated': 500,\n",
       "  'months_since_beginning': 16},\n",
       " {'recency': 7,\n",
       "  'frequency': 10,\n",
       "  'total_donated': 2500,\n",
       "  'months_since_beginning': 47},\n",
       " {'recency': 11,\n",
       "  'frequency': 5,\n",
       "  'total_donated': 1250,\n",
       "  'months_since_beginning': 18},\n",
       " {'recency': 14,\n",
       "  'frequency': 2,\n",
       "  'total_donated': 500,\n",
       "  'months_since_beginning': 14},\n",
       " {'recency': 2,\n",
       "  'frequency': 1,\n",
       "  'total_donated': 250,\n",
       "  'months_since_beginning': 2},\n",
       " {'recency': 2,\n",
       "  'frequency': 5,\n",
       "  'total_donated': 1250,\n",
       "  'months_since_beginning': 26},\n",
       " {'recency': 4,\n",
       "  'frequency': 14,\n",
       "  'total_donated': 3500,\n",
       "  'months_since_beginning': 40},\n",
       " {'recency': 23,\n",
       "  'frequency': 1,\n",
       "  'total_donated': 250,\n",
       "  'months_since_beginning': 23},\n",
       " {'recency': 4,\n",
       "  'frequency': 1,\n",
       "  'total_donated': 250,\n",
       "  'months_since_beginning': 4},\n",
       " {'recency': 12,\n",
       "  'frequency': 15,\n",
       "  'total_donated': 3750,\n",
       "  'months_since_beginning': 71},\n",
       " {'recency': 2,\n",
       "  'frequency': 8,\n",
       "  'total_donated': 2000,\n",
       "  'months_since_beginning': 38},\n",
       " {'recency': 14,\n",
       "  'frequency': 4,\n",
       "  'total_donated': 1000,\n",
       "  'months_since_beginning': 26},\n",
       " {'recency': 11,\n",
       "  'frequency': 1,\n",
       "  'total_donated': 250,\n",
       "  'months_since_beginning': 11},\n",
       " {'recency': 2,\n",
       "  'frequency': 5,\n",
       "  'total_donated': 1250,\n",
       "  'months_since_beginning': 16},\n",
       " {'recency': 9,\n",
       "  'frequency': 9,\n",
       "  'total_donated': 2250,\n",
       "  'months_since_beginning': 45},\n",
       " {'recency': 14,\n",
       "  'frequency': 2,\n",
       "  'total_donated': 500,\n",
       "  'months_since_beginning': 14},\n",
       " {'recency': 4,\n",
       "  'frequency': 8,\n",
       "  'total_donated': 2000,\n",
       "  'months_since_beginning': 28},\n",
       " {'recency': 4,\n",
       "  'frequency': 6,\n",
       "  'total_donated': 1500,\n",
       "  'months_since_beginning': 52},\n",
       " {'recency': 2,\n",
       "  'frequency': 34,\n",
       "  'total_donated': 8500,\n",
       "  'months_since_beginning': 77},\n",
       " {'recency': 9,\n",
       "  'frequency': 1,\n",
       "  'total_donated': 250,\n",
       "  'months_since_beginning': 9},\n",
       " {'recency': 1,\n",
       "  'frequency': 9,\n",
       "  'total_donated': 2250,\n",
       "  'months_since_beginning': 51},\n",
       " {'recency': 2,\n",
       "  'frequency': 6,\n",
       "  'total_donated': 1500,\n",
       "  'months_since_beginning': 22},\n",
       " {'recency': 4,\n",
       "  'frequency': 1,\n",
       "  'total_donated': 250,\n",
       "  'months_since_beginning': 4},\n",
       " {'recency': 20,\n",
       "  'frequency': 14,\n",
       "  'total_donated': 3500,\n",
       "  'months_since_beginning': 69},\n",
       " {'recency': 4,\n",
       "  'frequency': 3,\n",
       "  'total_donated': 750,\n",
       "  'months_since_beginning': 16},\n",
       " {'recency': 72,\n",
       "  'frequency': 1,\n",
       "  'total_donated': 250,\n",
       "  'months_since_beginning': 72},\n",
       " {'recency': 11,\n",
       "  'frequency': 3,\n",
       "  'total_donated': 750,\n",
       "  'months_since_beginning': 14},\n",
       " {'recency': 2,\n",
       "  'frequency': 1,\n",
       "  'total_donated': 250,\n",
       "  'months_since_beginning': 2},\n",
       " {'recency': 3,\n",
       "  'frequency': 8,\n",
       "  'total_donated': 2000,\n",
       "  'months_since_beginning': 50},\n",
       " {'recency': 2,\n",
       "  'frequency': 3,\n",
       "  'total_donated': 750,\n",
       "  'months_since_beginning': 38},\n",
       " {'recency': 4,\n",
       "  'frequency': 23,\n",
       "  'total_donated': 5750,\n",
       "  'months_since_beginning': 58},\n",
       " {'recency': 14,\n",
       "  'frequency': 7,\n",
       "  'total_donated': 1750,\n",
       "  'months_since_beginning': 72},\n",
       " {'recency': 9,\n",
       "  'frequency': 3,\n",
       "  'total_donated': 750,\n",
       "  'months_since_beginning': 52},\n",
       " {'recency': 4,\n",
       "  'frequency': 5,\n",
       "  'total_donated': 1250,\n",
       "  'months_since_beginning': 26},\n",
       " {'recency': 14,\n",
       "  'frequency': 2,\n",
       "  'total_donated': 500,\n",
       "  'months_since_beginning': 14},\n",
       " {'recency': 2,\n",
       "  'frequency': 44,\n",
       "  'total_donated': 11000,\n",
       "  'months_since_beginning': 98},\n",
       " {'recency': 2,\n",
       "  'frequency': 6,\n",
       "  'total_donated': 1500,\n",
       "  'months_since_beginning': 15},\n",
       " {'recency': 11,\n",
       "  'frequency': 8,\n",
       "  'total_donated': 2000,\n",
       "  'months_since_beginning': 46},\n",
       " {'recency': 21,\n",
       "  'frequency': 1,\n",
       "  'total_donated': 250,\n",
       "  'months_since_beginning': 21},\n",
       " {'recency': 21,\n",
       "  'frequency': 2,\n",
       "  'total_donated': 500,\n",
       "  'months_since_beginning': 23},\n",
       " {'recency': 23,\n",
       "  'frequency': 19,\n",
       "  'total_donated': 4750,\n",
       "  'months_since_beginning': 62},\n",
       " {'recency': 9,\n",
       "  'frequency': 2,\n",
       "  'total_donated': 500,\n",
       "  'months_since_beginning': 11},\n",
       " {'recency': 4,\n",
       "  'frequency': 6,\n",
       "  'total_donated': 1500,\n",
       "  'months_since_beginning': 46},\n",
       " {'recency': 2,\n",
       "  'frequency': 2,\n",
       "  'total_donated': 500,\n",
       "  'months_since_beginning': 11},\n",
       " {'recency': 2,\n",
       "  'frequency': 1,\n",
       "  'total_donated': 250,\n",
       "  'months_since_beginning': 2},\n",
       " {'recency': 14,\n",
       "  'frequency': 1,\n",
       "  'total_donated': 250,\n",
       "  'months_since_beginning': 14},\n",
       " {'recency': 21,\n",
       "  'frequency': 1,\n",
       "  'total_donated': 250,\n",
       "  'months_since_beginning': 21},\n",
       " {'recency': 2,\n",
       "  'frequency': 4,\n",
       "  'total_donated': 1000,\n",
       "  'months_since_beginning': 14},\n",
       " {'recency': 23,\n",
       "  'frequency': 1,\n",
       "  'total_donated': 250,\n",
       "  'months_since_beginning': 23}]"
      ]
     },
     "execution_count": 26,
     "metadata": {},
     "output_type": "execute_result"
    }
   ],
   "source": [
    "train_dicts"
   ]
  },
  {
   "cell_type": "code",
   "execution_count": 27,
   "id": "486fc49c",
   "metadata": {},
   "outputs": [],
   "source": [
    "dv = DictVectorizer(sparse=False)\n",
    "X_train = dv.fit_transform(train_dicts)"
   ]
  },
  {
   "cell_type": "code",
   "execution_count": 28,
   "id": "b4e5e5be",
   "metadata": {},
   "outputs": [
    {
     "data": {
      "text/plain": [
       "array([[   4.,   16.,    2., 1000.],\n",
       "       [   1.,    2.,    2.,  250.],\n",
       "       [   2.,    4.,    4.,  500.],\n",
       "       ...,\n",
       "       [   1.,   21.,   21.,  250.],\n",
       "       [   4.,   14.,    2., 1000.],\n",
       "       [   1.,   23.,   23.,  250.]])"
      ]
     },
     "execution_count": 28,
     "metadata": {},
     "output_type": "execute_result"
    }
   ],
   "source": [
    "X_train"
   ]
  },
  {
   "cell_type": "code",
   "execution_count": 29,
   "id": "9e8eae55",
   "metadata": {},
   "outputs": [
    {
     "data": {
      "text/plain": [
       "['frequency', 'months_since_beginning', 'recency', 'total_donated']"
      ]
     },
     "execution_count": 29,
     "metadata": {},
     "output_type": "execute_result"
    }
   ],
   "source": [
    "dv.get_feature_names()"
   ]
  },
  {
   "cell_type": "markdown",
   "id": "cd31ec85",
   "metadata": {},
   "source": [
    "## Feature Importance: Mutual Information"
   ]
  },
  {
   "cell_type": "code",
   "execution_count": 30,
   "id": "84371b36",
   "metadata": {},
   "outputs": [],
   "source": [
    "from sklearn.metrics import mutual_info_score"
   ]
  },
  {
   "cell_type": "code",
   "execution_count": 31,
   "id": "3380a4ba",
   "metadata": {},
   "outputs": [],
   "source": [
    "def mutual_info_bad_score(series):\n",
    "    return mutual_info_score(series, df_full_train['class'])"
   ]
  },
  {
   "cell_type": "code",
   "execution_count": 32,
   "id": "8a7ce8d3",
   "metadata": {},
   "outputs": [
    {
     "data": {
      "text/plain": [
       "recency                   0.082944\n",
       "months_since_beginning    0.073151\n",
       "frequency                 0.056831\n",
       "total_donated             0.056831\n",
       "dtype: float64"
      ]
     },
     "execution_count": 32,
     "metadata": {},
     "output_type": "execute_result"
    }
   ],
   "source": [
    "mi = df_full_train[numerical].apply(mutual_info_bad_score)\n",
    "mi.sort_values(ascending=False)"
   ]
  },
  {
   "cell_type": "markdown",
   "id": "8630e90c",
   "metadata": {},
   "source": [
    "## Feature Importance: Correlation"
   ]
  },
  {
   "cell_type": "code",
   "execution_count": 33,
   "id": "f544796f",
   "metadata": {},
   "outputs": [
    {
     "data": {
      "text/plain": [
       "recency                  -0.281098\n",
       "frequency                 0.214167\n",
       "total_donated             0.214167\n",
       "months_since_beginning   -0.040325\n",
       "dtype: float64"
      ]
     },
     "execution_count": 33,
     "metadata": {},
     "output_type": "execute_result"
    }
   ],
   "source": [
    "df_full_train[numerical].corrwith((df_full_train['class']==1).astype(int))"
   ]
  },
  {
   "cell_type": "markdown",
   "id": "1e80b3ca",
   "metadata": {},
   "source": [
    "## Modeling Using Decision Tree"
   ]
  },
  {
   "cell_type": "code",
   "execution_count": 34,
   "id": "7675af32",
   "metadata": {},
   "outputs": [],
   "source": [
    "from sklearn.tree import DecisionTreeClassifier\n",
    "from sklearn.feature_extraction import DictVectorizer\n",
    "from sklearn.metrics import roc_auc_score"
   ]
  },
  {
   "cell_type": "code",
   "execution_count": 35,
   "id": "46660249",
   "metadata": {},
   "outputs": [],
   "source": [
    "train_dicts = df_train.to_dict(orient='records')"
   ]
  },
  {
   "cell_type": "code",
   "execution_count": 36,
   "id": "9d9e865a",
   "metadata": {},
   "outputs": [
    {
     "data": {
      "text/plain": [
       "[{'recency': 2,\n",
       "  'frequency': 4,\n",
       "  'total_donated': 1000,\n",
       "  'months_since_beginning': 16},\n",
       " {'recency': 2,\n",
       "  'frequency': 1,\n",
       "  'total_donated': 250,\n",
       "  'months_since_beginning': 2},\n",
       " {'recency': 4,\n",
       "  'frequency': 2,\n",
       "  'total_donated': 500,\n",
       "  'months_since_beginning': 4},\n",
       " {'recency': 14,\n",
       "  'frequency': 3,\n",
       "  'total_donated': 750,\n",
       "  'months_since_beginning': 52},\n",
       " {'recency': 11,\n",
       "  'frequency': 6,\n",
       "  'total_donated': 1500,\n",
       "  'months_since_beginning': 26}]"
      ]
     },
     "execution_count": 36,
     "metadata": {},
     "output_type": "execute_result"
    }
   ],
   "source": [
    "train_dicts[:5]"
   ]
  },
  {
   "cell_type": "code",
   "execution_count": 37,
   "id": "7f72a837",
   "metadata": {},
   "outputs": [],
   "source": [
    "dv = DictVectorizer(sparse=False)\n",
    "X_train = dv.fit_transform(train_dicts)"
   ]
  },
  {
   "cell_type": "code",
   "execution_count": 38,
   "id": "737d7c6b",
   "metadata": {},
   "outputs": [
    {
     "data": {
      "text/plain": [
       "array([[   4.,   16.,    2., 1000.],\n",
       "       [   1.,    2.,    2.,  250.],\n",
       "       [   2.,    4.,    4.,  500.],\n",
       "       ...,\n",
       "       [   1.,   21.,   21.,  250.],\n",
       "       [   4.,   14.,    2., 1000.],\n",
       "       [   1.,   23.,   23.,  250.]])"
      ]
     },
     "execution_count": 38,
     "metadata": {},
     "output_type": "execute_result"
    }
   ],
   "source": [
    "X_train"
   ]
  },
  {
   "cell_type": "code",
   "execution_count": 39,
   "id": "214ebca1",
   "metadata": {},
   "outputs": [
    {
     "data": {
      "text/plain": [
       "DecisionTreeClassifier()"
      ]
     },
     "execution_count": 39,
     "metadata": {},
     "output_type": "execute_result"
    }
   ],
   "source": [
    "dt = DecisionTreeClassifier()\n",
    "dt.fit(X_train, y_train)"
   ]
  },
  {
   "cell_type": "code",
   "execution_count": 40,
   "id": "b36c358e",
   "metadata": {},
   "outputs": [],
   "source": [
    "val_dicts = df_val.to_dict(orient='records')\n",
    "X_val = dv.transform(val_dicts)"
   ]
  },
  {
   "cell_type": "code",
   "execution_count": 41,
   "id": "248aa486",
   "metadata": {},
   "outputs": [
    {
     "data": {
      "text/plain": [
       "array([0.        , 1.        , 0.        , 0.        , 0.        ,\n",
       "       1.        , 1.        , 0.15      , 0.125     , 0.        ,\n",
       "       0.        , 0.125     , 0.        , 1.        , 0.        ,\n",
       "       0.15789474, 0.        , 0.        , 0.        , 1.        ,\n",
       "       0.125     , 0.        , 0.        , 0.        , 1.        ,\n",
       "       0.5       , 0.        , 1.        , 0.        , 0.        ,\n",
       "       0.        , 0.        , 0.15789474, 0.        , 0.        ,\n",
       "       0.        , 0.        , 0.        , 0.125     , 0.125     ,\n",
       "       0.        , 0.15789474, 0.        , 0.        , 0.        ,\n",
       "       0.        , 0.        , 0.        , 1.        , 0.        ,\n",
       "       1.        , 0.        , 0.        , 0.        , 0.15789474,\n",
       "       0.125     , 0.5       , 1.        , 0.        , 0.        ,\n",
       "       0.        , 0.28571429, 0.        , 0.        , 1.        ,\n",
       "       0.        , 0.        , 0.125     , 1.        , 0.        ,\n",
       "       0.33333333, 0.        , 1.        , 0.        , 0.        ,\n",
       "       0.        , 0.        , 0.        , 0.        , 0.15      ,\n",
       "       0.        , 0.        , 0.        , 0.125     , 0.        ,\n",
       "       0.        , 1.        , 0.        , 0.        , 0.        ,\n",
       "       0.        , 0.15789474, 0.125     , 0.        , 0.        ,\n",
       "       1.        , 0.        , 0.        , 0.        , 0.        ,\n",
       "       1.        , 0.        , 0.        , 0.        , 0.15789474,\n",
       "       0.        , 0.        , 1.        , 0.15      , 0.125     ,\n",
       "       0.        , 0.        , 0.        , 0.        , 1.        ,\n",
       "       1.        , 0.        , 0.        , 0.15789474, 0.        ,\n",
       "       0.15      , 0.        , 0.        , 0.        , 0.        ,\n",
       "       0.        , 1.        , 0.        , 0.        , 1.        ,\n",
       "       0.125     , 0.        , 1.        , 1.        , 0.        ,\n",
       "       0.        , 0.        , 0.        , 0.28571429, 0.        ,\n",
       "       0.        , 0.5       , 0.125     , 0.        , 0.        ,\n",
       "       0.15789474, 0.        , 0.        , 1.        , 0.        ])"
      ]
     },
     "execution_count": 41,
     "metadata": {},
     "output_type": "execute_result"
    }
   ],
   "source": [
    "y_pred = dt.predict_proba(X_val)[:, 1]\n",
    "y_pred"
   ]
  },
  {
   "cell_type": "code",
   "execution_count": 42,
   "id": "08205471",
   "metadata": {},
   "outputs": [
    {
     "data": {
      "text/plain": [
       "0.6265247548433388"
      ]
     },
     "execution_count": 42,
     "metadata": {},
     "output_type": "execute_result"
    }
   ],
   "source": [
    "roc_auc_score(y_val, y_pred)"
   ]
  },
  {
   "cell_type": "code",
   "execution_count": 43,
   "id": "07caf6e3",
   "metadata": {},
   "outputs": [
    {
     "data": {
      "text/plain": [
       "0.9833913448625538"
      ]
     },
     "execution_count": 43,
     "metadata": {},
     "output_type": "execute_result"
    }
   ],
   "source": [
    "y_pred = dt.predict_proba(X_train)[:, 1]\n",
    "roc_auc_score(y_train, y_pred)"
   ]
  },
  {
   "cell_type": "code",
   "execution_count": 44,
   "id": "f8503eb5",
   "metadata": {},
   "outputs": [
    {
     "data": {
      "text/plain": [
       "DecisionTreeClassifier(max_depth=2)"
      ]
     },
     "execution_count": 44,
     "metadata": {},
     "output_type": "execute_result"
    }
   ],
   "source": [
    "dt = DecisionTreeClassifier(max_depth=2)\n",
    "dt.fit(X_train, y_train)"
   ]
  },
  {
   "cell_type": "code",
   "execution_count": 45,
   "id": "129df19b",
   "metadata": {},
   "outputs": [
    {
     "name": "stdout",
     "output_type": "stream",
     "text": [
      "train: 0.7607778112752486\n",
      "val: 0.6626405166228175\n"
     ]
    }
   ],
   "source": [
    "y_pred = dt.predict_proba(X_train)[:, 1]\n",
    "auc = roc_auc_score(y_train, y_pred)\n",
    "print('train:', auc)\n",
    "\n",
    "y_pred = dt.predict_proba(X_val)[:, 1]\n",
    "auc = roc_auc_score(y_val, y_pred)\n",
    "print('val:' , auc)"
   ]
  },
  {
   "cell_type": "code",
   "execution_count": 46,
   "id": "0a793f11",
   "metadata": {},
   "outputs": [],
   "source": [
    "from sklearn.tree import export_text"
   ]
  },
  {
   "cell_type": "code",
   "execution_count": 47,
   "id": "9db4d12a",
   "metadata": {},
   "outputs": [
    {
     "name": "stdout",
     "output_type": "stream",
     "text": [
      "|--- recency <= 4.50\n",
      "|   |--- total_donated <= 1125.00\n",
      "|   |   |--- class: 0\n",
      "|   |--- total_donated >  1125.00\n",
      "|   |   |--- class: 1\n",
      "|--- recency >  4.50\n",
      "|   |--- recency <= 9.50\n",
      "|   |   |--- class: 0\n",
      "|   |--- recency >  9.50\n",
      "|   |   |--- class: 0\n",
      "\n"
     ]
    }
   ],
   "source": [
    "print(export_text(dt, feature_names=dv.get_feature_names()))"
   ]
  },
  {
   "cell_type": "code",
   "execution_count": 48,
   "id": "446e6c82",
   "metadata": {},
   "outputs": [],
   "source": [
    "test_dicts = df_test.to_dict(orient='records')\n",
    "X_test = dv.transform(test_dicts)"
   ]
  },
  {
   "cell_type": "markdown",
   "id": "52393445",
   "metadata": {},
   "source": [
    "## Decision Trees Parameter Tuning"
   ]
  },
  {
   "cell_type": "code",
   "execution_count": 53,
   "id": "b143553f",
   "metadata": {},
   "outputs": [
    {
     "name": "stdout",
     "output_type": "stream",
     "text": [
      "   1 -> 0.643\n",
      "   2 -> 0.663\n",
      "   3 -> 0.635\n",
      "   4 -> 0.664\n",
      "   5 -> 0.630\n",
      "   6 -> 0.629\n",
      "  10 -> 0.605\n",
      "  15 -> 0.627\n",
      "  20 -> 0.600\n",
      "None -> 0.578\n"
     ]
    }
   ],
   "source": [
    "for d in [1, 2, 3, 4, 5, 6, 10, 15, 20, None]:\n",
    "    dt = DecisionTreeClassifier(max_depth = d)\n",
    "    dt.fit(X_train, y_train)\n",
    "    \n",
    "    y_pred = dt.predict_proba(X_val)[:, 1]\n",
    "    auc = roc_auc_score(y_val, y_pred)\n",
    "    \n",
    "    print('%4s -> %.3f' % (d, auc))"
   ]
  },
  {
   "cell_type": "markdown",
   "id": "f7a00f85",
   "metadata": {},
   "source": [
    "## Modeling Using XGBoost"
   ]
  },
  {
   "cell_type": "code",
   "execution_count": null,
   "id": "12013c76",
   "metadata": {},
   "outputs": [],
   "source": []
  },
  {
   "cell_type": "code",
   "execution_count": 49,
   "id": "c21bc8b3",
   "metadata": {},
   "outputs": [],
   "source": [
    "from numpy import loadtxt\n",
    "from xgboost import XGBClassifier\n",
    "from sklearn.model_selection import train_test_split\n",
    "from sklearn.metrics import accuracy_score"
   ]
  },
  {
   "cell_type": "code",
   "execution_count": 50,
   "id": "01ecc8cc",
   "metadata": {},
   "outputs": [
    {
     "name": "stdout",
     "output_type": "stream",
     "text": [
      "[20:43:39] WARNING: /Users/travis/build/dmlc/xgboost/src/learner.cc:1115: Starting in XGBoost 1.3.0, the default evaluation metric used with the objective 'binary:logistic' was changed from 'error' to 'logloss'. Explicitly set eval_metric if you'd like to restore the old behavior.\n"
     ]
    },
    {
     "name": "stderr",
     "output_type": "stream",
     "text": [
      "/Users/tonygunawan/opt/anaconda3/lib/python3.8/site-packages/xgboost/sklearn.py:1224: UserWarning: The use of label encoder in XGBClassifier is deprecated and will be removed in a future release. To remove this warning, do the following: 1) Pass option use_label_encoder=False when constructing XGBClassifier object; and 2) Encode your labels (y) as integers starting with 0, i.e. 0, 1, 2, ..., [num_class - 1].\n",
      "  warnings.warn(label_encoder_deprecation_msg, UserWarning)\n"
     ]
    },
    {
     "data": {
      "text/plain": [
       "XGBClassifier(base_score=0.5, booster='gbtree', colsample_bylevel=1,\n",
       "              colsample_bynode=1, colsample_bytree=1, enable_categorical=False,\n",
       "              gamma=0, gpu_id=-1, importance_type=None,\n",
       "              interaction_constraints='', learning_rate=0.300000012,\n",
       "              max_delta_step=0, max_depth=6, min_child_weight=1, missing=nan,\n",
       "              monotone_constraints='()', n_estimators=100, n_jobs=4,\n",
       "              num_parallel_tree=1, predictor='auto', random_state=0,\n",
       "              reg_alpha=0, reg_lambda=1, scale_pos_weight=1, subsample=1,\n",
       "              tree_method='exact', validate_parameters=1, verbosity=None)"
      ]
     },
     "execution_count": 50,
     "metadata": {},
     "output_type": "execute_result"
    }
   ],
   "source": [
    "# fit model no training data\n",
    "model_2 = XGBClassifier()\n",
    "model_2.fit(X_train, y_train)"
   ]
  },
  {
   "cell_type": "code",
   "execution_count": 51,
   "id": "69fa3b45",
   "metadata": {},
   "outputs": [],
   "source": [
    "# make predictions for val data\n",
    "y_pred_2 = model_2.predict(X_val)\n",
    "predictions = [round(value) for value in y_pred_2]"
   ]
  },
  {
   "cell_type": "code",
   "execution_count": 52,
   "id": "e70e8fed",
   "metadata": {},
   "outputs": [
    {
     "name": "stdout",
     "output_type": "stream",
     "text": [
      "Accuracy: 75.33%\n"
     ]
    }
   ],
   "source": [
    "# evaluate predictions\n",
    "accuracy = accuracy_score(y_val, predictions)\n",
    "print(\"Accuracy: %.2f%%\" % (accuracy * 100.0))"
   ]
  },
  {
   "cell_type": "code",
   "execution_count": 64,
   "id": "888dab26",
   "metadata": {},
   "outputs": [
    {
     "name": "stdout",
     "output_type": "stream",
     "text": [
      "auc: 55.45%\n"
     ]
    }
   ],
   "source": [
    "# evaluate predictions\n",
    "accuracy = roc_auc_score(y_val, predictions)\n",
    "print(\"auc: %.2f%%\" % (accuracy * 100.0))"
   ]
  },
  {
   "cell_type": "markdown",
   "id": "55da3449",
   "metadata": {},
   "source": [
    "## XGBoost Parameter Tuning"
   ]
  },
  {
   "cell_type": "code",
   "execution_count": 54,
   "id": "e3de87ed",
   "metadata": {
    "scrolled": true
   },
   "outputs": [
    {
     "name": "stderr",
     "output_type": "stream",
     "text": [
      "/Users/tonygunawan/opt/anaconda3/lib/python3.8/site-packages/xgboost/sklearn.py:1224: UserWarning: The use of label encoder in XGBClassifier is deprecated and will be removed in a future release. To remove this warning, do the following: 1) Pass option use_label_encoder=False when constructing XGBClassifier object; and 2) Encode your labels (y) as integers starting with 0, i.e. 0, 1, 2, ..., [num_class - 1].\n",
      "  warnings.warn(label_encoder_deprecation_msg, UserWarning)\n"
     ]
    },
    {
     "name": "stdout",
     "output_type": "stream",
     "text": [
      "[23:30:27] WARNING: /Users/travis/build/dmlc/xgboost/src/learner.cc:1115: Starting in XGBoost 1.3.0, the default evaluation metric used with the objective 'binary:logistic' was changed from 'error' to 'logloss'. Explicitly set eval_metric if you'd like to restore the old behavior.\n",
      "   1 -> 0.721\n",
      "[23:30:27] WARNING: /Users/travis/build/dmlc/xgboost/src/learner.cc:1115: Starting in XGBoost 1.3.0, the default evaluation metric used with the objective 'binary:logistic' was changed from 'error' to 'logloss'. Explicitly set eval_metric if you'd like to restore the old behavior.\n"
     ]
    },
    {
     "name": "stderr",
     "output_type": "stream",
     "text": [
      "/Users/tonygunawan/opt/anaconda3/lib/python3.8/site-packages/xgboost/sklearn.py:1224: UserWarning: The use of label encoder in XGBClassifier is deprecated and will be removed in a future release. To remove this warning, do the following: 1) Pass option use_label_encoder=False when constructing XGBClassifier object; and 2) Encode your labels (y) as integers starting with 0, i.e. 0, 1, 2, ..., [num_class - 1].\n",
      "  warnings.warn(label_encoder_deprecation_msg, UserWarning)\n",
      "/Users/tonygunawan/opt/anaconda3/lib/python3.8/site-packages/xgboost/sklearn.py:1224: UserWarning: The use of label encoder in XGBClassifier is deprecated and will be removed in a future release. To remove this warning, do the following: 1) Pass option use_label_encoder=False when constructing XGBClassifier object; and 2) Encode your labels (y) as integers starting with 0, i.e. 0, 1, 2, ..., [num_class - 1].\n",
      "  warnings.warn(label_encoder_deprecation_msg, UserWarning)\n",
      "/Users/tonygunawan/opt/anaconda3/lib/python3.8/site-packages/xgboost/sklearn.py:1224: UserWarning: The use of label encoder in XGBClassifier is deprecated and will be removed in a future release. To remove this warning, do the following: 1) Pass option use_label_encoder=False when constructing XGBClassifier object; and 2) Encode your labels (y) as integers starting with 0, i.e. 0, 1, 2, ..., [num_class - 1].\n",
      "  warnings.warn(label_encoder_deprecation_msg, UserWarning)\n"
     ]
    },
    {
     "name": "stdout",
     "output_type": "stream",
     "text": [
      "   2 -> 0.685\n",
      "[23:30:27] WARNING: /Users/travis/build/dmlc/xgboost/src/learner.cc:1115: Starting in XGBoost 1.3.0, the default evaluation metric used with the objective 'binary:logistic' was changed from 'error' to 'logloss'. Explicitly set eval_metric if you'd like to restore the old behavior.\n",
      "   3 -> 0.704\n",
      "[23:30:27] WARNING: /Users/travis/build/dmlc/xgboost/src/learner.cc:1115: Starting in XGBoost 1.3.0, the default evaluation metric used with the objective 'binary:logistic' was changed from 'error' to 'logloss'. Explicitly set eval_metric if you'd like to restore the old behavior.\n",
      "   4 -> 0.665\n",
      "[23:30:27] WARNING: /Users/travis/build/dmlc/xgboost/src/learner.cc:1115: Starting in XGBoost 1.3.0, the default evaluation metric used with the objective 'binary:logistic' was changed from 'error' to 'logloss'. Explicitly set eval_metric if you'd like to restore the old behavior.\n",
      "   5 -> 0.663\n",
      "[23:30:27] WARNING: /Users/travis/build/dmlc/xgboost/src/learner.cc:1115: Starting in XGBoost 1.3.0, the default evaluation metric used with the objective 'binary:logistic' was changed from 'error' to 'logloss'. Explicitly set eval_metric if you'd like to restore the old behavior.\n"
     ]
    },
    {
     "name": "stderr",
     "output_type": "stream",
     "text": [
      "/Users/tonygunawan/opt/anaconda3/lib/python3.8/site-packages/xgboost/sklearn.py:1224: UserWarning: The use of label encoder in XGBClassifier is deprecated and will be removed in a future release. To remove this warning, do the following: 1) Pass option use_label_encoder=False when constructing XGBClassifier object; and 2) Encode your labels (y) as integers starting with 0, i.e. 0, 1, 2, ..., [num_class - 1].\n",
      "  warnings.warn(label_encoder_deprecation_msg, UserWarning)\n",
      "/Users/tonygunawan/opt/anaconda3/lib/python3.8/site-packages/xgboost/sklearn.py:1224: UserWarning: The use of label encoder in XGBClassifier is deprecated and will be removed in a future release. To remove this warning, do the following: 1) Pass option use_label_encoder=False when constructing XGBClassifier object; and 2) Encode your labels (y) as integers starting with 0, i.e. 0, 1, 2, ..., [num_class - 1].\n",
      "  warnings.warn(label_encoder_deprecation_msg, UserWarning)\n"
     ]
    },
    {
     "name": "stdout",
     "output_type": "stream",
     "text": [
      "   6 -> 0.676\n",
      "[23:30:27] WARNING: /Users/travis/build/dmlc/xgboost/src/learner.cc:1115: Starting in XGBoost 1.3.0, the default evaluation metric used with the objective 'binary:logistic' was changed from 'error' to 'logloss'. Explicitly set eval_metric if you'd like to restore the old behavior.\n",
      "  10 -> 0.644\n",
      "[23:30:27] WARNING: /Users/travis/build/dmlc/xgboost/src/learner.cc:1115: Starting in XGBoost 1.3.0, the default evaluation metric used with the objective 'binary:logistic' was changed from 'error' to 'logloss'. Explicitly set eval_metric if you'd like to restore the old behavior.\n"
     ]
    },
    {
     "name": "stderr",
     "output_type": "stream",
     "text": [
      "/Users/tonygunawan/opt/anaconda3/lib/python3.8/site-packages/xgboost/sklearn.py:1224: UserWarning: The use of label encoder in XGBClassifier is deprecated and will be removed in a future release. To remove this warning, do the following: 1) Pass option use_label_encoder=False when constructing XGBClassifier object; and 2) Encode your labels (y) as integers starting with 0, i.e. 0, 1, 2, ..., [num_class - 1].\n",
      "  warnings.warn(label_encoder_deprecation_msg, UserWarning)\n",
      "/Users/tonygunawan/opt/anaconda3/lib/python3.8/site-packages/xgboost/sklearn.py:1224: UserWarning: The use of label encoder in XGBClassifier is deprecated and will be removed in a future release. To remove this warning, do the following: 1) Pass option use_label_encoder=False when constructing XGBClassifier object; and 2) Encode your labels (y) as integers starting with 0, i.e. 0, 1, 2, ..., [num_class - 1].\n",
      "  warnings.warn(label_encoder_deprecation_msg, UserWarning)\n"
     ]
    },
    {
     "name": "stdout",
     "output_type": "stream",
     "text": [
      "  15 -> 0.639\n",
      "[23:30:27] WARNING: /Users/travis/build/dmlc/xgboost/src/learner.cc:1115: Starting in XGBoost 1.3.0, the default evaluation metric used with the objective 'binary:logistic' was changed from 'error' to 'logloss'. Explicitly set eval_metric if you'd like to restore the old behavior.\n",
      "  20 -> 0.642\n",
      "[23:30:28] WARNING: /Users/travis/build/dmlc/xgboost/src/learner.cc:1115: Starting in XGBoost 1.3.0, the default evaluation metric used with the objective 'binary:logistic' was changed from 'error' to 'logloss'. Explicitly set eval_metric if you'd like to restore the old behavior.\n"
     ]
    },
    {
     "name": "stderr",
     "output_type": "stream",
     "text": [
      "/Users/tonygunawan/opt/anaconda3/lib/python3.8/site-packages/xgboost/sklearn.py:1224: UserWarning: The use of label encoder in XGBClassifier is deprecated and will be removed in a future release. To remove this warning, do the following: 1) Pass option use_label_encoder=False when constructing XGBClassifier object; and 2) Encode your labels (y) as integers starting with 0, i.e. 0, 1, 2, ..., [num_class - 1].\n",
      "  warnings.warn(label_encoder_deprecation_msg, UserWarning)\n",
      "/Users/tonygunawan/opt/anaconda3/lib/python3.8/site-packages/xgboost/sklearn.py:1224: UserWarning: The use of label encoder in XGBClassifier is deprecated and will be removed in a future release. To remove this warning, do the following: 1) Pass option use_label_encoder=False when constructing XGBClassifier object; and 2) Encode your labels (y) as integers starting with 0, i.e. 0, 1, 2, ..., [num_class - 1].\n",
      "  warnings.warn(label_encoder_deprecation_msg, UserWarning)\n"
     ]
    },
    {
     "name": "stdout",
     "output_type": "stream",
     "text": [
      "None -> 0.676\n"
     ]
    }
   ],
   "source": [
    "for d in [1, 2, 3, 4, 5, 6, 10, 15, 20, None]:\n",
    "    dt = XGBClassifier(max_depth = d)\n",
    "    dt.fit(X_train, y_train)\n",
    "    \n",
    "    y_pred = dt.predict_proba(X_val)[:, 1]\n",
    "    auc = roc_auc_score(y_val, y_pred)\n",
    "    \n",
    "    print('%4s -> %.3f' % (d, auc))"
   ]
  },
  {
   "cell_type": "code",
   "execution_count": 56,
   "id": "4e61609f",
   "metadata": {},
   "outputs": [
    {
     "name": "stderr",
     "output_type": "stream",
     "text": [
      "/Users/tonygunawan/opt/anaconda3/lib/python3.8/site-packages/xgboost/sklearn.py:1224: UserWarning: The use of label encoder in XGBClassifier is deprecated and will be removed in a future release. To remove this warning, do the following: 1) Pass option use_label_encoder=False when constructing XGBClassifier object; and 2) Encode your labels (y) as integers starting with 0, i.e. 0, 1, 2, ..., [num_class - 1].\n",
      "  warnings.warn(label_encoder_deprecation_msg, UserWarning)\n",
      "/Users/tonygunawan/opt/anaconda3/lib/python3.8/site-packages/xgboost/sklearn.py:1224: UserWarning: The use of label encoder in XGBClassifier is deprecated and will be removed in a future release. To remove this warning, do the following: 1) Pass option use_label_encoder=False when constructing XGBClassifier object; and 2) Encode your labels (y) as integers starting with 0, i.e. 0, 1, 2, ..., [num_class - 1].\n",
      "  warnings.warn(label_encoder_deprecation_msg, UserWarning)\n"
     ]
    },
    {
     "name": "stdout",
     "output_type": "stream",
     "text": [
      "[23:37:23] WARNING: /Users/travis/build/dmlc/xgboost/src/learner.cc:1115: Starting in XGBoost 1.3.0, the default evaluation metric used with the objective 'binary:logistic' was changed from 'error' to 'logloss'. Explicitly set eval_metric if you'd like to restore the old behavior.\n",
      "[23:37:23] WARNING: /Users/travis/build/dmlc/xgboost/src/learner.cc:1115: Starting in XGBoost 1.3.0, the default evaluation metric used with the objective 'binary:logistic' was changed from 'error' to 'logloss'. Explicitly set eval_metric if you'd like to restore the old behavior.\n"
     ]
    },
    {
     "name": "stderr",
     "output_type": "stream",
     "text": [
      "/Users/tonygunawan/opt/anaconda3/lib/python3.8/site-packages/xgboost/sklearn.py:1224: UserWarning: The use of label encoder in XGBClassifier is deprecated and will be removed in a future release. To remove this warning, do the following: 1) Pass option use_label_encoder=False when constructing XGBClassifier object; and 2) Encode your labels (y) as integers starting with 0, i.e. 0, 1, 2, ..., [num_class - 1].\n",
      "  warnings.warn(label_encoder_deprecation_msg, UserWarning)\n",
      "/Users/tonygunawan/opt/anaconda3/lib/python3.8/site-packages/xgboost/sklearn.py:1224: UserWarning: The use of label encoder in XGBClassifier is deprecated and will be removed in a future release. To remove this warning, do the following: 1) Pass option use_label_encoder=False when constructing XGBClassifier object; and 2) Encode your labels (y) as integers starting with 0, i.e. 0, 1, 2, ..., [num_class - 1].\n",
      "  warnings.warn(label_encoder_deprecation_msg, UserWarning)\n",
      "/Users/tonygunawan/opt/anaconda3/lib/python3.8/site-packages/xgboost/sklearn.py:1224: UserWarning: The use of label encoder in XGBClassifier is deprecated and will be removed in a future release. To remove this warning, do the following: 1) Pass option use_label_encoder=False when constructing XGBClassifier object; and 2) Encode your labels (y) as integers starting with 0, i.e. 0, 1, 2, ..., [num_class - 1].\n",
      "  warnings.warn(label_encoder_deprecation_msg, UserWarning)\n",
      "/Users/tonygunawan/opt/anaconda3/lib/python3.8/site-packages/xgboost/sklearn.py:1224: UserWarning: The use of label encoder in XGBClassifier is deprecated and will be removed in a future release. To remove this warning, do the following: 1) Pass option use_label_encoder=False when constructing XGBClassifier object; and 2) Encode your labels (y) as integers starting with 0, i.e. 0, 1, 2, ..., [num_class - 1].\n",
      "  warnings.warn(label_encoder_deprecation_msg, UserWarning)\n",
      "/Users/tonygunawan/opt/anaconda3/lib/python3.8/site-packages/xgboost/sklearn.py:1224: UserWarning: The use of label encoder in XGBClassifier is deprecated and will be removed in a future release. To remove this warning, do the following: 1) Pass option use_label_encoder=False when constructing XGBClassifier object; and 2) Encode your labels (y) as integers starting with 0, i.e. 0, 1, 2, ..., [num_class - 1].\n",
      "  warnings.warn(label_encoder_deprecation_msg, UserWarning)\n",
      "/Users/tonygunawan/opt/anaconda3/lib/python3.8/site-packages/xgboost/sklearn.py:1224: UserWarning: The use of label encoder in XGBClassifier is deprecated and will be removed in a future release. To remove this warning, do the following: 1) Pass option use_label_encoder=False when constructing XGBClassifier object; and 2) Encode your labels (y) as integers starting with 0, i.e. 0, 1, 2, ..., [num_class - 1].\n",
      "  warnings.warn(label_encoder_deprecation_msg, UserWarning)\n"
     ]
    },
    {
     "name": "stdout",
     "output_type": "stream",
     "text": [
      "[23:37:23] WARNING: /Users/travis/build/dmlc/xgboost/src/learner.cc:1115: Starting in XGBoost 1.3.0, the default evaluation metric used with the objective 'binary:logistic' was changed from 'error' to 'logloss'. Explicitly set eval_metric if you'd like to restore the old behavior.\n",
      "[23:37:23] WARNING: /Users/travis/build/dmlc/xgboost/src/learner.cc:1115: Starting in XGBoost 1.3.0, the default evaluation metric used with the objective 'binary:logistic' was changed from 'error' to 'logloss'. Explicitly set eval_metric if you'd like to restore the old behavior.\n",
      "[23:37:23] WARNING: /Users/travis/build/dmlc/xgboost/src/learner.cc:1115: Starting in XGBoost 1.3.0, the default evaluation metric used with the objective 'binary:logistic' was changed from 'error' to 'logloss'. Explicitly set eval_metric if you'd like to restore the old behavior.\n",
      "[23:37:23] WARNING: /Users/travis/build/dmlc/xgboost/src/learner.cc:1115: Starting in XGBoost 1.3.0, the default evaluation metric used with the objective 'binary:logistic' was changed from 'error' to 'logloss'. Explicitly set eval_metric if you'd like to restore the old behavior.\n",
      "[23:37:23] WARNING: /Users/travis/build/dmlc/xgboost/src/learner.cc:1115: Starting in XGBoost 1.3.0, the default evaluation metric used with the objective 'binary:logistic' was changed from 'error' to 'logloss'. Explicitly set eval_metric if you'd like to restore the old behavior.\n",
      "[23:37:23] WARNING: /Users/travis/build/dmlc/xgboost/src/learner.cc:1115: Starting in XGBoost 1.3.0, the default evaluation metric used with the objective 'binary:logistic' was changed from 'error' to 'logloss'. Explicitly set eval_metric if you'd like to restore the old behavior.\n"
     ]
    },
    {
     "name": "stderr",
     "output_type": "stream",
     "text": [
      "/Users/tonygunawan/opt/anaconda3/lib/python3.8/site-packages/xgboost/sklearn.py:1224: UserWarning: The use of label encoder in XGBClassifier is deprecated and will be removed in a future release. To remove this warning, do the following: 1) Pass option use_label_encoder=False when constructing XGBClassifier object; and 2) Encode your labels (y) as integers starting with 0, i.e. 0, 1, 2, ..., [num_class - 1].\n",
      "  warnings.warn(label_encoder_deprecation_msg, UserWarning)\n",
      "/Users/tonygunawan/opt/anaconda3/lib/python3.8/site-packages/xgboost/sklearn.py:1224: UserWarning: The use of label encoder in XGBClassifier is deprecated and will be removed in a future release. To remove this warning, do the following: 1) Pass option use_label_encoder=False when constructing XGBClassifier object; and 2) Encode your labels (y) as integers starting with 0, i.e. 0, 1, 2, ..., [num_class - 1].\n",
      "  warnings.warn(label_encoder_deprecation_msg, UserWarning)\n",
      "/Users/tonygunawan/opt/anaconda3/lib/python3.8/site-packages/xgboost/sklearn.py:1224: UserWarning: The use of label encoder in XGBClassifier is deprecated and will be removed in a future release. To remove this warning, do the following: 1) Pass option use_label_encoder=False when constructing XGBClassifier object; and 2) Encode your labels (y) as integers starting with 0, i.e. 0, 1, 2, ..., [num_class - 1].\n",
      "  warnings.warn(label_encoder_deprecation_msg, UserWarning)\n",
      "/Users/tonygunawan/opt/anaconda3/lib/python3.8/site-packages/xgboost/sklearn.py:1224: UserWarning: The use of label encoder in XGBClassifier is deprecated and will be removed in a future release. To remove this warning, do the following: 1) Pass option use_label_encoder=False when constructing XGBClassifier object; and 2) Encode your labels (y) as integers starting with 0, i.e. 0, 1, 2, ..., [num_class - 1].\n",
      "  warnings.warn(label_encoder_deprecation_msg, UserWarning)\n"
     ]
    },
    {
     "name": "stdout",
     "output_type": "stream",
     "text": [
      "[23:37:23] WARNING: /Users/travis/build/dmlc/xgboost/src/learner.cc:1115: Starting in XGBoost 1.3.0, the default evaluation metric used with the objective 'binary:logistic' was changed from 'error' to 'logloss'. Explicitly set eval_metric if you'd like to restore the old behavior.\n",
      "[23:37:23] WARNING: /Users/travis/build/dmlc/xgboost/src/learner.cc:1115: Starting in XGBoost 1.3.0, the default evaluation metric used with the objective 'binary:logistic' was changed from 'error' to 'logloss'. Explicitly set eval_metric if you'd like to restore the old behavior.\n",
      "[23:37:23] WARNING: /Users/travis/build/dmlc/xgboost/src/learner.cc:1115: Starting in XGBoost 1.3.0, the default evaluation metric used with the objective 'binary:logistic' was changed from 'error' to 'logloss'. Explicitly set eval_metric if you'd like to restore the old behavior.\n",
      "[23:37:24] WARNING: /Users/travis/build/dmlc/xgboost/src/learner.cc:1115: Starting in XGBoost 1.3.0, the default evaluation metric used with the objective 'binary:logistic' was changed from 'error' to 'logloss'. Explicitly set eval_metric if you'd like to restore the old behavior.\n"
     ]
    },
    {
     "name": "stderr",
     "output_type": "stream",
     "text": [
      "/Users/tonygunawan/opt/anaconda3/lib/python3.8/site-packages/xgboost/sklearn.py:1224: UserWarning: The use of label encoder in XGBClassifier is deprecated and will be removed in a future release. To remove this warning, do the following: 1) Pass option use_label_encoder=False when constructing XGBClassifier object; and 2) Encode your labels (y) as integers starting with 0, i.e. 0, 1, 2, ..., [num_class - 1].\n",
      "  warnings.warn(label_encoder_deprecation_msg, UserWarning)\n",
      "/Users/tonygunawan/opt/anaconda3/lib/python3.8/site-packages/xgboost/sklearn.py:1224: UserWarning: The use of label encoder in XGBClassifier is deprecated and will be removed in a future release. To remove this warning, do the following: 1) Pass option use_label_encoder=False when constructing XGBClassifier object; and 2) Encode your labels (y) as integers starting with 0, i.e. 0, 1, 2, ..., [num_class - 1].\n",
      "  warnings.warn(label_encoder_deprecation_msg, UserWarning)\n",
      "/Users/tonygunawan/opt/anaconda3/lib/python3.8/site-packages/xgboost/sklearn.py:1224: UserWarning: The use of label encoder in XGBClassifier is deprecated and will be removed in a future release. To remove this warning, do the following: 1) Pass option use_label_encoder=False when constructing XGBClassifier object; and 2) Encode your labels (y) as integers starting with 0, i.e. 0, 1, 2, ..., [num_class - 1].\n",
      "  warnings.warn(label_encoder_deprecation_msg, UserWarning)\n"
     ]
    },
    {
     "name": "stdout",
     "output_type": "stream",
     "text": [
      "[23:37:24] WARNING: /Users/travis/build/dmlc/xgboost/src/learner.cc:1115: Starting in XGBoost 1.3.0, the default evaluation metric used with the objective 'binary:logistic' was changed from 'error' to 'logloss'. Explicitly set eval_metric if you'd like to restore the old behavior.\n",
      "[23:37:24] WARNING: /Users/travis/build/dmlc/xgboost/src/learner.cc:1115: Starting in XGBoost 1.3.0, the default evaluation metric used with the objective 'binary:logistic' was changed from 'error' to 'logloss'. Explicitly set eval_metric if you'd like to restore the old behavior.\n",
      "[23:37:24] WARNING: /Users/travis/build/dmlc/xgboost/src/learner.cc:1115: Starting in XGBoost 1.3.0, the default evaluation metric used with the objective 'binary:logistic' was changed from 'error' to 'logloss'. Explicitly set eval_metric if you'd like to restore the old behavior.\n"
     ]
    },
    {
     "name": "stderr",
     "output_type": "stream",
     "text": [
      "/Users/tonygunawan/opt/anaconda3/lib/python3.8/site-packages/xgboost/sklearn.py:1224: UserWarning: The use of label encoder in XGBClassifier is deprecated and will be removed in a future release. To remove this warning, do the following: 1) Pass option use_label_encoder=False when constructing XGBClassifier object; and 2) Encode your labels (y) as integers starting with 0, i.e. 0, 1, 2, ..., [num_class - 1].\n",
      "  warnings.warn(label_encoder_deprecation_msg, UserWarning)\n",
      "/Users/tonygunawan/opt/anaconda3/lib/python3.8/site-packages/xgboost/sklearn.py:1224: UserWarning: The use of label encoder in XGBClassifier is deprecated and will be removed in a future release. To remove this warning, do the following: 1) Pass option use_label_encoder=False when constructing XGBClassifier object; and 2) Encode your labels (y) as integers starting with 0, i.e. 0, 1, 2, ..., [num_class - 1].\n",
      "  warnings.warn(label_encoder_deprecation_msg, UserWarning)\n"
     ]
    },
    {
     "name": "stdout",
     "output_type": "stream",
     "text": [
      "[23:37:24] WARNING: /Users/travis/build/dmlc/xgboost/src/learner.cc:1115: Starting in XGBoost 1.3.0, the default evaluation metric used with the objective 'binary:logistic' was changed from 'error' to 'logloss'. Explicitly set eval_metric if you'd like to restore the old behavior.\n",
      "[23:37:24] WARNING: /Users/travis/build/dmlc/xgboost/src/learner.cc:1115: Starting in XGBoost 1.3.0, the default evaluation metric used with the objective 'binary:logistic' was changed from 'error' to 'logloss'. Explicitly set eval_metric if you'd like to restore the old behavior.\n"
     ]
    },
    {
     "name": "stderr",
     "output_type": "stream",
     "text": [
      "/Users/tonygunawan/opt/anaconda3/lib/python3.8/site-packages/xgboost/sklearn.py:1224: UserWarning: The use of label encoder in XGBClassifier is deprecated and will be removed in a future release. To remove this warning, do the following: 1) Pass option use_label_encoder=False when constructing XGBClassifier object; and 2) Encode your labels (y) as integers starting with 0, i.e. 0, 1, 2, ..., [num_class - 1].\n",
      "  warnings.warn(label_encoder_deprecation_msg, UserWarning)\n",
      "/Users/tonygunawan/opt/anaconda3/lib/python3.8/site-packages/xgboost/sklearn.py:1224: UserWarning: The use of label encoder in XGBClassifier is deprecated and will be removed in a future release. To remove this warning, do the following: 1) Pass option use_label_encoder=False when constructing XGBClassifier object; and 2) Encode your labels (y) as integers starting with 0, i.e. 0, 1, 2, ..., [num_class - 1].\n",
      "  warnings.warn(label_encoder_deprecation_msg, UserWarning)\n"
     ]
    },
    {
     "name": "stdout",
     "output_type": "stream",
     "text": [
      "[23:37:24] WARNING: /Users/travis/build/dmlc/xgboost/src/learner.cc:1115: Starting in XGBoost 1.3.0, the default evaluation metric used with the objective 'binary:logistic' was changed from 'error' to 'logloss'. Explicitly set eval_metric if you'd like to restore the old behavior.\n",
      "[23:37:24] WARNING: /Users/travis/build/dmlc/xgboost/src/learner.cc:1115: Starting in XGBoost 1.3.0, the default evaluation metric used with the objective 'binary:logistic' was changed from 'error' to 'logloss'. Explicitly set eval_metric if you'd like to restore the old behavior.\n"
     ]
    },
    {
     "name": "stderr",
     "output_type": "stream",
     "text": [
      "/Users/tonygunawan/opt/anaconda3/lib/python3.8/site-packages/xgboost/sklearn.py:1224: UserWarning: The use of label encoder in XGBClassifier is deprecated and will be removed in a future release. To remove this warning, do the following: 1) Pass option use_label_encoder=False when constructing XGBClassifier object; and 2) Encode your labels (y) as integers starting with 0, i.e. 0, 1, 2, ..., [num_class - 1].\n",
      "  warnings.warn(label_encoder_deprecation_msg, UserWarning)\n",
      "/Users/tonygunawan/opt/anaconda3/lib/python3.8/site-packages/xgboost/sklearn.py:1224: UserWarning: The use of label encoder in XGBClassifier is deprecated and will be removed in a future release. To remove this warning, do the following: 1) Pass option use_label_encoder=False when constructing XGBClassifier object; and 2) Encode your labels (y) as integers starting with 0, i.e. 0, 1, 2, ..., [num_class - 1].\n",
      "  warnings.warn(label_encoder_deprecation_msg, UserWarning)\n",
      "/Users/tonygunawan/opt/anaconda3/lib/python3.8/site-packages/xgboost/sklearn.py:1224: UserWarning: The use of label encoder in XGBClassifier is deprecated and will be removed in a future release. To remove this warning, do the following: 1) Pass option use_label_encoder=False when constructing XGBClassifier object; and 2) Encode your labels (y) as integers starting with 0, i.e. 0, 1, 2, ..., [num_class - 1].\n",
      "  warnings.warn(label_encoder_deprecation_msg, UserWarning)\n",
      "/Users/tonygunawan/opt/anaconda3/lib/python3.8/site-packages/xgboost/sklearn.py:1224: UserWarning: The use of label encoder in XGBClassifier is deprecated and will be removed in a future release. To remove this warning, do the following: 1) Pass option use_label_encoder=False when constructing XGBClassifier object; and 2) Encode your labels (y) as integers starting with 0, i.e. 0, 1, 2, ..., [num_class - 1].\n",
      "  warnings.warn(label_encoder_deprecation_msg, UserWarning)\n",
      "/Users/tonygunawan/opt/anaconda3/lib/python3.8/site-packages/xgboost/sklearn.py:1224: UserWarning: The use of label encoder in XGBClassifier is deprecated and will be removed in a future release. To remove this warning, do the following: 1) Pass option use_label_encoder=False when constructing XGBClassifier object; and 2) Encode your labels (y) as integers starting with 0, i.e. 0, 1, 2, ..., [num_class - 1].\n",
      "  warnings.warn(label_encoder_deprecation_msg, UserWarning)\n"
     ]
    },
    {
     "name": "stdout",
     "output_type": "stream",
     "text": [
      "[23:37:25] WARNING: /Users/travis/build/dmlc/xgboost/src/learner.cc:1115: Starting in XGBoost 1.3.0, the default evaluation metric used with the objective 'binary:logistic' was changed from 'error' to 'logloss'. Explicitly set eval_metric if you'd like to restore the old behavior.\n",
      "[23:37:25] WARNING: /Users/travis/build/dmlc/xgboost/src/learner.cc:1115: Starting in XGBoost 1.3.0, the default evaluation metric used with the objective 'binary:logistic' was changed from 'error' to 'logloss'. Explicitly set eval_metric if you'd like to restore the old behavior.\n",
      "[23:37:25] WARNING: /Users/travis/build/dmlc/xgboost/src/learner.cc:1115: Starting in XGBoost 1.3.0, the default evaluation metric used with the objective 'binary:logistic' was changed from 'error' to 'logloss'. Explicitly set eval_metric if you'd like to restore the old behavior.\n",
      "[23:37:25] WARNING: /Users/travis/build/dmlc/xgboost/src/learner.cc:1115: Starting in XGBoost 1.3.0, the default evaluation metric used with the objective 'binary:logistic' was changed from 'error' to 'logloss'. Explicitly set eval_metric if you'd like to restore the old behavior.\n",
      "[23:37:25] WARNING: /Users/travis/build/dmlc/xgboost/src/learner.cc:1115: Starting in XGBoost 1.3.0, the default evaluation metric used with the objective 'binary:logistic' was changed from 'error' to 'logloss'. Explicitly set eval_metric if you'd like to restore the old behavior.\n"
     ]
    },
    {
     "name": "stderr",
     "output_type": "stream",
     "text": [
      "/Users/tonygunawan/opt/anaconda3/lib/python3.8/site-packages/xgboost/sklearn.py:1224: UserWarning: The use of label encoder in XGBClassifier is deprecated and will be removed in a future release. To remove this warning, do the following: 1) Pass option use_label_encoder=False when constructing XGBClassifier object; and 2) Encode your labels (y) as integers starting with 0, i.e. 0, 1, 2, ..., [num_class - 1].\n",
      "  warnings.warn(label_encoder_deprecation_msg, UserWarning)\n",
      "/Users/tonygunawan/opt/anaconda3/lib/python3.8/site-packages/xgboost/sklearn.py:1224: UserWarning: The use of label encoder in XGBClassifier is deprecated and will be removed in a future release. To remove this warning, do the following: 1) Pass option use_label_encoder=False when constructing XGBClassifier object; and 2) Encode your labels (y) as integers starting with 0, i.e. 0, 1, 2, ..., [num_class - 1].\n",
      "  warnings.warn(label_encoder_deprecation_msg, UserWarning)\n",
      "/Users/tonygunawan/opt/anaconda3/lib/python3.8/site-packages/xgboost/sklearn.py:1224: UserWarning: The use of label encoder in XGBClassifier is deprecated and will be removed in a future release. To remove this warning, do the following: 1) Pass option use_label_encoder=False when constructing XGBClassifier object; and 2) Encode your labels (y) as integers starting with 0, i.e. 0, 1, 2, ..., [num_class - 1].\n",
      "  warnings.warn(label_encoder_deprecation_msg, UserWarning)\n",
      "/Users/tonygunawan/opt/anaconda3/lib/python3.8/site-packages/xgboost/sklearn.py:1224: UserWarning: The use of label encoder in XGBClassifier is deprecated and will be removed in a future release. To remove this warning, do the following: 1) Pass option use_label_encoder=False when constructing XGBClassifier object; and 2) Encode your labels (y) as integers starting with 0, i.e. 0, 1, 2, ..., [num_class - 1].\n",
      "  warnings.warn(label_encoder_deprecation_msg, UserWarning)\n",
      "/Users/tonygunawan/opt/anaconda3/lib/python3.8/site-packages/xgboost/sklearn.py:1224: UserWarning: The use of label encoder in XGBClassifier is deprecated and will be removed in a future release. To remove this warning, do the following: 1) Pass option use_label_encoder=False when constructing XGBClassifier object; and 2) Encode your labels (y) as integers starting with 0, i.e. 0, 1, 2, ..., [num_class - 1].\n",
      "  warnings.warn(label_encoder_deprecation_msg, UserWarning)\n"
     ]
    },
    {
     "name": "stdout",
     "output_type": "stream",
     "text": [
      "[23:37:25] WARNING: /Users/travis/build/dmlc/xgboost/src/learner.cc:1115: Starting in XGBoost 1.3.0, the default evaluation metric used with the objective 'binary:logistic' was changed from 'error' to 'logloss'. Explicitly set eval_metric if you'd like to restore the old behavior.\n",
      "[23:37:25] WARNING: /Users/travis/build/dmlc/xgboost/src/learner.cc:1115: Starting in XGBoost 1.3.0, the default evaluation metric used with the objective 'binary:logistic' was changed from 'error' to 'logloss'. Explicitly set eval_metric if you'd like to restore the old behavior.\n",
      "[23:37:25] WARNING: /Users/travis/build/dmlc/xgboost/src/learner.cc:1115: Starting in XGBoost 1.3.0, the default evaluation metric used with the objective 'binary:logistic' was changed from 'error' to 'logloss'. Explicitly set eval_metric if you'd like to restore the old behavior.\n",
      "[23:37:25] WARNING: /Users/travis/build/dmlc/xgboost/src/learner.cc:1115: Starting in XGBoost 1.3.0, the default evaluation metric used with the objective 'binary:logistic' was changed from 'error' to 'logloss'. Explicitly set eval_metric if you'd like to restore the old behavior.\n",
      "[23:37:25] WARNING: /Users/travis/build/dmlc/xgboost/src/learner.cc:1115: Starting in XGBoost 1.3.0, the default evaluation metric used with the objective 'binary:logistic' was changed from 'error' to 'logloss'. Explicitly set eval_metric if you'd like to restore the old behavior.\n"
     ]
    },
    {
     "name": "stderr",
     "output_type": "stream",
     "text": [
      "/Users/tonygunawan/opt/anaconda3/lib/python3.8/site-packages/xgboost/sklearn.py:1224: UserWarning: The use of label encoder in XGBClassifier is deprecated and will be removed in a future release. To remove this warning, do the following: 1) Pass option use_label_encoder=False when constructing XGBClassifier object; and 2) Encode your labels (y) as integers starting with 0, i.e. 0, 1, 2, ..., [num_class - 1].\n",
      "  warnings.warn(label_encoder_deprecation_msg, UserWarning)\n",
      "/Users/tonygunawan/opt/anaconda3/lib/python3.8/site-packages/xgboost/sklearn.py:1224: UserWarning: The use of label encoder in XGBClassifier is deprecated and will be removed in a future release. To remove this warning, do the following: 1) Pass option use_label_encoder=False when constructing XGBClassifier object; and 2) Encode your labels (y) as integers starting with 0, i.e. 0, 1, 2, ..., [num_class - 1].\n",
      "  warnings.warn(label_encoder_deprecation_msg, UserWarning)\n",
      "/Users/tonygunawan/opt/anaconda3/lib/python3.8/site-packages/xgboost/sklearn.py:1224: UserWarning: The use of label encoder in XGBClassifier is deprecated and will be removed in a future release. To remove this warning, do the following: 1) Pass option use_label_encoder=False when constructing XGBClassifier object; and 2) Encode your labels (y) as integers starting with 0, i.e. 0, 1, 2, ..., [num_class - 1].\n",
      "  warnings.warn(label_encoder_deprecation_msg, UserWarning)\n",
      "/Users/tonygunawan/opt/anaconda3/lib/python3.8/site-packages/xgboost/sklearn.py:1224: UserWarning: The use of label encoder in XGBClassifier is deprecated and will be removed in a future release. To remove this warning, do the following: 1) Pass option use_label_encoder=False when constructing XGBClassifier object; and 2) Encode your labels (y) as integers starting with 0, i.e. 0, 1, 2, ..., [num_class - 1].\n",
      "  warnings.warn(label_encoder_deprecation_msg, UserWarning)\n"
     ]
    },
    {
     "name": "stdout",
     "output_type": "stream",
     "text": [
      "[23:37:25] WARNING: /Users/travis/build/dmlc/xgboost/src/learner.cc:1115: Starting in XGBoost 1.3.0, the default evaluation metric used with the objective 'binary:logistic' was changed from 'error' to 'logloss'. Explicitly set eval_metric if you'd like to restore the old behavior.\n",
      "[23:37:25] WARNING: /Users/travis/build/dmlc/xgboost/src/learner.cc:1115: Starting in XGBoost 1.3.0, the default evaluation metric used with the objective 'binary:logistic' was changed from 'error' to 'logloss'. Explicitly set eval_metric if you'd like to restore the old behavior.\n",
      "[23:37:25] WARNING: /Users/travis/build/dmlc/xgboost/src/learner.cc:1115: Starting in XGBoost 1.3.0, the default evaluation metric used with the objective 'binary:logistic' was changed from 'error' to 'logloss'. Explicitly set eval_metric if you'd like to restore the old behavior.\n"
     ]
    },
    {
     "name": "stderr",
     "output_type": "stream",
     "text": [
      "/Users/tonygunawan/opt/anaconda3/lib/python3.8/site-packages/xgboost/sklearn.py:1224: UserWarning: The use of label encoder in XGBClassifier is deprecated and will be removed in a future release. To remove this warning, do the following: 1) Pass option use_label_encoder=False when constructing XGBClassifier object; and 2) Encode your labels (y) as integers starting with 0, i.e. 0, 1, 2, ..., [num_class - 1].\n",
      "  warnings.warn(label_encoder_deprecation_msg, UserWarning)\n"
     ]
    },
    {
     "name": "stdout",
     "output_type": "stream",
     "text": [
      "[23:37:25] WARNING: /Users/travis/build/dmlc/xgboost/src/learner.cc:1115: Starting in XGBoost 1.3.0, the default evaluation metric used with the objective 'binary:logistic' was changed from 'error' to 'logloss'. Explicitly set eval_metric if you'd like to restore the old behavior.\n",
      "[23:37:25] WARNING: /Users/travis/build/dmlc/xgboost/src/learner.cc:1115: Starting in XGBoost 1.3.0, the default evaluation metric used with the objective 'binary:logistic' was changed from 'error' to 'logloss'. Explicitly set eval_metric if you'd like to restore the old behavior.\n"
     ]
    },
    {
     "name": "stderr",
     "output_type": "stream",
     "text": [
      "/Users/tonygunawan/opt/anaconda3/lib/python3.8/site-packages/xgboost/sklearn.py:1224: UserWarning: The use of label encoder in XGBClassifier is deprecated and will be removed in a future release. To remove this warning, do the following: 1) Pass option use_label_encoder=False when constructing XGBClassifier object; and 2) Encode your labels (y) as integers starting with 0, i.e. 0, 1, 2, ..., [num_class - 1].\n",
      "  warnings.warn(label_encoder_deprecation_msg, UserWarning)\n",
      "/Users/tonygunawan/opt/anaconda3/lib/python3.8/site-packages/xgboost/sklearn.py:1224: UserWarning: The use of label encoder in XGBClassifier is deprecated and will be removed in a future release. To remove this warning, do the following: 1) Pass option use_label_encoder=False when constructing XGBClassifier object; and 2) Encode your labels (y) as integers starting with 0, i.e. 0, 1, 2, ..., [num_class - 1].\n",
      "  warnings.warn(label_encoder_deprecation_msg, UserWarning)\n",
      "/Users/tonygunawan/opt/anaconda3/lib/python3.8/site-packages/xgboost/sklearn.py:1224: UserWarning: The use of label encoder in XGBClassifier is deprecated and will be removed in a future release. To remove this warning, do the following: 1) Pass option use_label_encoder=False when constructing XGBClassifier object; and 2) Encode your labels (y) as integers starting with 0, i.e. 0, 1, 2, ..., [num_class - 1].\n",
      "  warnings.warn(label_encoder_deprecation_msg, UserWarning)\n"
     ]
    },
    {
     "name": "stdout",
     "output_type": "stream",
     "text": [
      "[23:37:26] WARNING: /Users/travis/build/dmlc/xgboost/src/learner.cc:1115: Starting in XGBoost 1.3.0, the default evaluation metric used with the objective 'binary:logistic' was changed from 'error' to 'logloss'. Explicitly set eval_metric if you'd like to restore the old behavior.\n",
      "[23:37:26] WARNING: /Users/travis/build/dmlc/xgboost/src/learner.cc:1115: Starting in XGBoost 1.3.0, the default evaluation metric used with the objective 'binary:logistic' was changed from 'error' to 'logloss'. Explicitly set eval_metric if you'd like to restore the old behavior.\n",
      "[23:37:26] WARNING: /Users/travis/build/dmlc/xgboost/src/learner.cc:1115: Starting in XGBoost 1.3.0, the default evaluation metric used with the objective 'binary:logistic' was changed from 'error' to 'logloss'. Explicitly set eval_metric if you'd like to restore the old behavior.\n"
     ]
    },
    {
     "name": "stderr",
     "output_type": "stream",
     "text": [
      "/Users/tonygunawan/opt/anaconda3/lib/python3.8/site-packages/xgboost/sklearn.py:1224: UserWarning: The use of label encoder in XGBClassifier is deprecated and will be removed in a future release. To remove this warning, do the following: 1) Pass option use_label_encoder=False when constructing XGBClassifier object; and 2) Encode your labels (y) as integers starting with 0, i.e. 0, 1, 2, ..., [num_class - 1].\n",
      "  warnings.warn(label_encoder_deprecation_msg, UserWarning)\n",
      "/Users/tonygunawan/opt/anaconda3/lib/python3.8/site-packages/xgboost/sklearn.py:1224: UserWarning: The use of label encoder in XGBClassifier is deprecated and will be removed in a future release. To remove this warning, do the following: 1) Pass option use_label_encoder=False when constructing XGBClassifier object; and 2) Encode your labels (y) as integers starting with 0, i.e. 0, 1, 2, ..., [num_class - 1].\n",
      "  warnings.warn(label_encoder_deprecation_msg, UserWarning)\n"
     ]
    },
    {
     "name": "stdout",
     "output_type": "stream",
     "text": [
      "[23:37:26] WARNING: /Users/travis/build/dmlc/xgboost/src/learner.cc:1115: Starting in XGBoost 1.3.0, the default evaluation metric used with the objective 'binary:logistic' was changed from 'error' to 'logloss'. Explicitly set eval_metric if you'd like to restore the old behavior.\n",
      "[23:37:26] WARNING: /Users/travis/build/dmlc/xgboost/src/learner.cc:1115: Starting in XGBoost 1.3.0, the default evaluation metric used with the objective 'binary:logistic' was changed from 'error' to 'logloss'. Explicitly set eval_metric if you'd like to restore the old behavior.\n"
     ]
    },
    {
     "name": "stderr",
     "output_type": "stream",
     "text": [
      "/Users/tonygunawan/opt/anaconda3/lib/python3.8/site-packages/xgboost/sklearn.py:1224: UserWarning: The use of label encoder in XGBClassifier is deprecated and will be removed in a future release. To remove this warning, do the following: 1) Pass option use_label_encoder=False when constructing XGBClassifier object; and 2) Encode your labels (y) as integers starting with 0, i.e. 0, 1, 2, ..., [num_class - 1].\n",
      "  warnings.warn(label_encoder_deprecation_msg, UserWarning)\n",
      "/Users/tonygunawan/opt/anaconda3/lib/python3.8/site-packages/xgboost/sklearn.py:1224: UserWarning: The use of label encoder in XGBClassifier is deprecated and will be removed in a future release. To remove this warning, do the following: 1) Pass option use_label_encoder=False when constructing XGBClassifier object; and 2) Encode your labels (y) as integers starting with 0, i.e. 0, 1, 2, ..., [num_class - 1].\n",
      "  warnings.warn(label_encoder_deprecation_msg, UserWarning)\n",
      "/Users/tonygunawan/opt/anaconda3/lib/python3.8/site-packages/xgboost/sklearn.py:1224: UserWarning: The use of label encoder in XGBClassifier is deprecated and will be removed in a future release. To remove this warning, do the following: 1) Pass option use_label_encoder=False when constructing XGBClassifier object; and 2) Encode your labels (y) as integers starting with 0, i.e. 0, 1, 2, ..., [num_class - 1].\n",
      "  warnings.warn(label_encoder_deprecation_msg, UserWarning)\n"
     ]
    },
    {
     "name": "stdout",
     "output_type": "stream",
     "text": [
      "[23:37:26] WARNING: /Users/travis/build/dmlc/xgboost/src/learner.cc:1115: Starting in XGBoost 1.3.0, the default evaluation metric used with the objective 'binary:logistic' was changed from 'error' to 'logloss'. Explicitly set eval_metric if you'd like to restore the old behavior.\n",
      "[23:37:26] WARNING: /Users/travis/build/dmlc/xgboost/src/learner.cc:1115: Starting in XGBoost 1.3.0, the default evaluation metric used with the objective 'binary:logistic' was changed from 'error' to 'logloss'. Explicitly set eval_metric if you'd like to restore the old behavior.\n",
      "[23:37:27] WARNING: /Users/travis/build/dmlc/xgboost/src/learner.cc:1115: Starting in XGBoost 1.3.0, the default evaluation metric used with the objective 'binary:logistic' was changed from 'error' to 'logloss'. Explicitly set eval_metric if you'd like to restore the old behavior.\n"
     ]
    },
    {
     "name": "stderr",
     "output_type": "stream",
     "text": [
      "/Users/tonygunawan/opt/anaconda3/lib/python3.8/site-packages/xgboost/sklearn.py:1224: UserWarning: The use of label encoder in XGBClassifier is deprecated and will be removed in a future release. To remove this warning, do the following: 1) Pass option use_label_encoder=False when constructing XGBClassifier object; and 2) Encode your labels (y) as integers starting with 0, i.e. 0, 1, 2, ..., [num_class - 1].\n",
      "  warnings.warn(label_encoder_deprecation_msg, UserWarning)\n",
      "/Users/tonygunawan/opt/anaconda3/lib/python3.8/site-packages/xgboost/sklearn.py:1224: UserWarning: The use of label encoder in XGBClassifier is deprecated and will be removed in a future release. To remove this warning, do the following: 1) Pass option use_label_encoder=False when constructing XGBClassifier object; and 2) Encode your labels (y) as integers starting with 0, i.e. 0, 1, 2, ..., [num_class - 1].\n",
      "  warnings.warn(label_encoder_deprecation_msg, UserWarning)\n",
      "/Users/tonygunawan/opt/anaconda3/lib/python3.8/site-packages/xgboost/sklearn.py:1224: UserWarning: The use of label encoder in XGBClassifier is deprecated and will be removed in a future release. To remove this warning, do the following: 1) Pass option use_label_encoder=False when constructing XGBClassifier object; and 2) Encode your labels (y) as integers starting with 0, i.e. 0, 1, 2, ..., [num_class - 1].\n",
      "  warnings.warn(label_encoder_deprecation_msg, UserWarning)\n"
     ]
    },
    {
     "name": "stdout",
     "output_type": "stream",
     "text": [
      "[23:37:27] WARNING: /Users/travis/build/dmlc/xgboost/src/learner.cc:1115: Starting in XGBoost 1.3.0, the default evaluation metric used with the objective 'binary:logistic' was changed from 'error' to 'logloss'. Explicitly set eval_metric if you'd like to restore the old behavior.\n",
      "[23:37:27] WARNING: /Users/travis/build/dmlc/xgboost/src/learner.cc:1115: Starting in XGBoost 1.3.0, the default evaluation metric used with the objective 'binary:logistic' was changed from 'error' to 'logloss'. Explicitly set eval_metric if you'd like to restore the old behavior.\n",
      "[23:37:27] WARNING: /Users/travis/build/dmlc/xgboost/src/learner.cc:1115: Starting in XGBoost 1.3.0, the default evaluation metric used with the objective 'binary:logistic' was changed from 'error' to 'logloss'. Explicitly set eval_metric if you'd like to restore the old behavior.\n"
     ]
    },
    {
     "name": "stderr",
     "output_type": "stream",
     "text": [
      "/Users/tonygunawan/opt/anaconda3/lib/python3.8/site-packages/xgboost/sklearn.py:1224: UserWarning: The use of label encoder in XGBClassifier is deprecated and will be removed in a future release. To remove this warning, do the following: 1) Pass option use_label_encoder=False when constructing XGBClassifier object; and 2) Encode your labels (y) as integers starting with 0, i.e. 0, 1, 2, ..., [num_class - 1].\n",
      "  warnings.warn(label_encoder_deprecation_msg, UserWarning)\n"
     ]
    },
    {
     "name": "stdout",
     "output_type": "stream",
     "text": [
      "[23:37:27] WARNING: /Users/travis/build/dmlc/xgboost/src/learner.cc:1115: Starting in XGBoost 1.3.0, the default evaluation metric used with the objective 'binary:logistic' was changed from 'error' to 'logloss'. Explicitly set eval_metric if you'd like to restore the old behavior.\n"
     ]
    },
    {
     "name": "stderr",
     "output_type": "stream",
     "text": [
      "/Users/tonygunawan/opt/anaconda3/lib/python3.8/site-packages/xgboost/sklearn.py:1224: UserWarning: The use of label encoder in XGBClassifier is deprecated and will be removed in a future release. To remove this warning, do the following: 1) Pass option use_label_encoder=False when constructing XGBClassifier object; and 2) Encode your labels (y) as integers starting with 0, i.e. 0, 1, 2, ..., [num_class - 1].\n",
      "  warnings.warn(label_encoder_deprecation_msg, UserWarning)\n",
      "/Users/tonygunawan/opt/anaconda3/lib/python3.8/site-packages/xgboost/sklearn.py:1224: UserWarning: The use of label encoder in XGBClassifier is deprecated and will be removed in a future release. To remove this warning, do the following: 1) Pass option use_label_encoder=False when constructing XGBClassifier object; and 2) Encode your labels (y) as integers starting with 0, i.e. 0, 1, 2, ..., [num_class - 1].\n",
      "  warnings.warn(label_encoder_deprecation_msg, UserWarning)\n",
      "/Users/tonygunawan/opt/anaconda3/lib/python3.8/site-packages/xgboost/sklearn.py:1224: UserWarning: The use of label encoder in XGBClassifier is deprecated and will be removed in a future release. To remove this warning, do the following: 1) Pass option use_label_encoder=False when constructing XGBClassifier object; and 2) Encode your labels (y) as integers starting with 0, i.e. 0, 1, 2, ..., [num_class - 1].\n",
      "  warnings.warn(label_encoder_deprecation_msg, UserWarning)\n",
      "/Users/tonygunawan/opt/anaconda3/lib/python3.8/site-packages/xgboost/sklearn.py:1224: UserWarning: The use of label encoder in XGBClassifier is deprecated and will be removed in a future release. To remove this warning, do the following: 1) Pass option use_label_encoder=False when constructing XGBClassifier object; and 2) Encode your labels (y) as integers starting with 0, i.e. 0, 1, 2, ..., [num_class - 1].\n",
      "  warnings.warn(label_encoder_deprecation_msg, UserWarning)\n"
     ]
    },
    {
     "name": "stdout",
     "output_type": "stream",
     "text": [
      "[23:37:27] WARNING: /Users/travis/build/dmlc/xgboost/src/learner.cc:1115: Starting in XGBoost 1.3.0, the default evaluation metric used with the objective 'binary:logistic' was changed from 'error' to 'logloss'. Explicitly set eval_metric if you'd like to restore the old behavior.\n",
      "[23:37:27] WARNING: /Users/travis/build/dmlc/xgboost/src/learner.cc:1115: Starting in XGBoost 1.3.0, the default evaluation metric used with the objective 'binary:logistic' was changed from 'error' to 'logloss'. Explicitly set eval_metric if you'd like to restore the old behavior.\n",
      "[23:37:27] WARNING: /Users/travis/build/dmlc/xgboost/src/learner.cc:1115: Starting in XGBoost 1.3.0, the default evaluation metric used with the objective 'binary:logistic' was changed from 'error' to 'logloss'. Explicitly set eval_metric if you'd like to restore the old behavior.\n",
      "[23:37:27] WARNING: /Users/travis/build/dmlc/xgboost/src/learner.cc:1115: Starting in XGBoost 1.3.0, the default evaluation metric used with the objective 'binary:logistic' was changed from 'error' to 'logloss'. Explicitly set eval_metric if you'd like to restore the old behavior.\n"
     ]
    },
    {
     "name": "stderr",
     "output_type": "stream",
     "text": [
      "/Users/tonygunawan/opt/anaconda3/lib/python3.8/site-packages/xgboost/sklearn.py:1224: UserWarning: The use of label encoder in XGBClassifier is deprecated and will be removed in a future release. To remove this warning, do the following: 1) Pass option use_label_encoder=False when constructing XGBClassifier object; and 2) Encode your labels (y) as integers starting with 0, i.e. 0, 1, 2, ..., [num_class - 1].\n",
      "  warnings.warn(label_encoder_deprecation_msg, UserWarning)\n",
      "/Users/tonygunawan/opt/anaconda3/lib/python3.8/site-packages/xgboost/sklearn.py:1224: UserWarning: The use of label encoder in XGBClassifier is deprecated and will be removed in a future release. To remove this warning, do the following: 1) Pass option use_label_encoder=False when constructing XGBClassifier object; and 2) Encode your labels (y) as integers starting with 0, i.e. 0, 1, 2, ..., [num_class - 1].\n",
      "  warnings.warn(label_encoder_deprecation_msg, UserWarning)\n",
      "/Users/tonygunawan/opt/anaconda3/lib/python3.8/site-packages/xgboost/sklearn.py:1224: UserWarning: The use of label encoder in XGBClassifier is deprecated and will be removed in a future release. To remove this warning, do the following: 1) Pass option use_label_encoder=False when constructing XGBClassifier object; and 2) Encode your labels (y) as integers starting with 0, i.e. 0, 1, 2, ..., [num_class - 1].\n",
      "  warnings.warn(label_encoder_deprecation_msg, UserWarning)\n",
      "/Users/tonygunawan/opt/anaconda3/lib/python3.8/site-packages/xgboost/sklearn.py:1224: UserWarning: The use of label encoder in XGBClassifier is deprecated and will be removed in a future release. To remove this warning, do the following: 1) Pass option use_label_encoder=False when constructing XGBClassifier object; and 2) Encode your labels (y) as integers starting with 0, i.e. 0, 1, 2, ..., [num_class - 1].\n",
      "  warnings.warn(label_encoder_deprecation_msg, UserWarning)\n",
      "/Users/tonygunawan/opt/anaconda3/lib/python3.8/site-packages/xgboost/sklearn.py:1224: UserWarning: The use of label encoder in XGBClassifier is deprecated and will be removed in a future release. To remove this warning, do the following: 1) Pass option use_label_encoder=False when constructing XGBClassifier object; and 2) Encode your labels (y) as integers starting with 0, i.e. 0, 1, 2, ..., [num_class - 1].\n",
      "  warnings.warn(label_encoder_deprecation_msg, UserWarning)\n"
     ]
    },
    {
     "name": "stdout",
     "output_type": "stream",
     "text": [
      "[23:37:27] WARNING: /Users/travis/build/dmlc/xgboost/src/learner.cc:1115: Starting in XGBoost 1.3.0, the default evaluation metric used with the objective 'binary:logistic' was changed from 'error' to 'logloss'. Explicitly set eval_metric if you'd like to restore the old behavior.\n",
      "[23:37:28] WARNING: /Users/travis/build/dmlc/xgboost/src/learner.cc:1115: Starting in XGBoost 1.3.0, the default evaluation metric used with the objective 'binary:logistic' was changed from 'error' to 'logloss'. Explicitly set eval_metric if you'd like to restore the old behavior.\n",
      "[23:37:28] WARNING: /Users/travis/build/dmlc/xgboost/src/learner.cc:1115: Starting in XGBoost 1.3.0, the default evaluation metric used with the objective 'binary:logistic' was changed from 'error' to 'logloss'. Explicitly set eval_metric if you'd like to restore the old behavior.\n",
      "[23:37:28] WARNING: /Users/travis/build/dmlc/xgboost/src/learner.cc:1115: Starting in XGBoost 1.3.0, the default evaluation metric used with the objective 'binary:logistic' was changed from 'error' to 'logloss'. Explicitly set eval_metric if you'd like to restore the old behavior.\n",
      "[23:37:28] WARNING: /Users/travis/build/dmlc/xgboost/src/learner.cc:1115: Starting in XGBoost 1.3.0, the default evaluation metric used with the objective 'binary:logistic' was changed from 'error' to 'logloss'. Explicitly set eval_metric if you'd like to restore the old behavior.\n"
     ]
    },
    {
     "name": "stderr",
     "output_type": "stream",
     "text": [
      "/Users/tonygunawan/opt/anaconda3/lib/python3.8/site-packages/xgboost/sklearn.py:1224: UserWarning: The use of label encoder in XGBClassifier is deprecated and will be removed in a future release. To remove this warning, do the following: 1) Pass option use_label_encoder=False when constructing XGBClassifier object; and 2) Encode your labels (y) as integers starting with 0, i.e. 0, 1, 2, ..., [num_class - 1].\n",
      "  warnings.warn(label_encoder_deprecation_msg, UserWarning)\n"
     ]
    },
    {
     "name": "stdout",
     "output_type": "stream",
     "text": [
      "[23:37:28] WARNING: /Users/travis/build/dmlc/xgboost/src/learner.cc:1115: Starting in XGBoost 1.3.0, the default evaluation metric used with the objective 'binary:logistic' was changed from 'error' to 'logloss'. Explicitly set eval_metric if you'd like to restore the old behavior.\n"
     ]
    },
    {
     "name": "stderr",
     "output_type": "stream",
     "text": [
      "/Users/tonygunawan/opt/anaconda3/lib/python3.8/site-packages/xgboost/sklearn.py:1224: UserWarning: The use of label encoder in XGBClassifier is deprecated and will be removed in a future release. To remove this warning, do the following: 1) Pass option use_label_encoder=False when constructing XGBClassifier object; and 2) Encode your labels (y) as integers starting with 0, i.e. 0, 1, 2, ..., [num_class - 1].\n",
      "  warnings.warn(label_encoder_deprecation_msg, UserWarning)\n",
      "/Users/tonygunawan/opt/anaconda3/lib/python3.8/site-packages/xgboost/sklearn.py:1224: UserWarning: The use of label encoder in XGBClassifier is deprecated and will be removed in a future release. To remove this warning, do the following: 1) Pass option use_label_encoder=False when constructing XGBClassifier object; and 2) Encode your labels (y) as integers starting with 0, i.e. 0, 1, 2, ..., [num_class - 1].\n",
      "  warnings.warn(label_encoder_deprecation_msg, UserWarning)\n",
      "/Users/tonygunawan/opt/anaconda3/lib/python3.8/site-packages/xgboost/sklearn.py:1224: UserWarning: The use of label encoder in XGBClassifier is deprecated and will be removed in a future release. To remove this warning, do the following: 1) Pass option use_label_encoder=False when constructing XGBClassifier object; and 2) Encode your labels (y) as integers starting with 0, i.e. 0, 1, 2, ..., [num_class - 1].\n",
      "  warnings.warn(label_encoder_deprecation_msg, UserWarning)\n",
      "/Users/tonygunawan/opt/anaconda3/lib/python3.8/site-packages/xgboost/sklearn.py:1224: UserWarning: The use of label encoder in XGBClassifier is deprecated and will be removed in a future release. To remove this warning, do the following: 1) Pass option use_label_encoder=False when constructing XGBClassifier object; and 2) Encode your labels (y) as integers starting with 0, i.e. 0, 1, 2, ..., [num_class - 1].\n",
      "  warnings.warn(label_encoder_deprecation_msg, UserWarning)\n",
      "/Users/tonygunawan/opt/anaconda3/lib/python3.8/site-packages/xgboost/sklearn.py:1224: UserWarning: The use of label encoder in XGBClassifier is deprecated and will be removed in a future release. To remove this warning, do the following: 1) Pass option use_label_encoder=False when constructing XGBClassifier object; and 2) Encode your labels (y) as integers starting with 0, i.e. 0, 1, 2, ..., [num_class - 1].\n",
      "  warnings.warn(label_encoder_deprecation_msg, UserWarning)\n"
     ]
    },
    {
     "name": "stdout",
     "output_type": "stream",
     "text": [
      "[23:37:29] WARNING: /Users/travis/build/dmlc/xgboost/src/learner.cc:1115: Starting in XGBoost 1.3.0, the default evaluation metric used with the objective 'binary:logistic' was changed from 'error' to 'logloss'. Explicitly set eval_metric if you'd like to restore the old behavior.\n",
      "[23:37:29] WARNING: /Users/travis/build/dmlc/xgboost/src/learner.cc:1115: Starting in XGBoost 1.3.0, the default evaluation metric used with the objective 'binary:logistic' was changed from 'error' to 'logloss'. Explicitly set eval_metric if you'd like to restore the old behavior.\n",
      "[23:37:29] WARNING: /Users/travis/build/dmlc/xgboost/src/learner.cc:1115: Starting in XGBoost 1.3.0, the default evaluation metric used with the objective 'binary:logistic' was changed from 'error' to 'logloss'. Explicitly set eval_metric if you'd like to restore the old behavior.\n",
      "[23:37:29] WARNING: /Users/travis/build/dmlc/xgboost/src/learner.cc:1115: Starting in XGBoost 1.3.0, the default evaluation metric used with the objective 'binary:logistic' was changed from 'error' to 'logloss'. Explicitly set eval_metric if you'd like to restore the old behavior.\n",
      "[23:37:29] WARNING: /Users/travis/build/dmlc/xgboost/src/learner.cc:1115: Starting in XGBoost 1.3.0, the default evaluation metric used with the objective 'binary:logistic' was changed from 'error' to 'logloss'. Explicitly set eval_metric if you'd like to restore the old behavior.\n"
     ]
    },
    {
     "name": "stderr",
     "output_type": "stream",
     "text": [
      "/Users/tonygunawan/opt/anaconda3/lib/python3.8/site-packages/xgboost/sklearn.py:1224: UserWarning: The use of label encoder in XGBClassifier is deprecated and will be removed in a future release. To remove this warning, do the following: 1) Pass option use_label_encoder=False when constructing XGBClassifier object; and 2) Encode your labels (y) as integers starting with 0, i.e. 0, 1, 2, ..., [num_class - 1].\n",
      "  warnings.warn(label_encoder_deprecation_msg, UserWarning)\n",
      "/Users/tonygunawan/opt/anaconda3/lib/python3.8/site-packages/xgboost/sklearn.py:1224: UserWarning: The use of label encoder in XGBClassifier is deprecated and will be removed in a future release. To remove this warning, do the following: 1) Pass option use_label_encoder=False when constructing XGBClassifier object; and 2) Encode your labels (y) as integers starting with 0, i.e. 0, 1, 2, ..., [num_class - 1].\n",
      "  warnings.warn(label_encoder_deprecation_msg, UserWarning)\n",
      "/Users/tonygunawan/opt/anaconda3/lib/python3.8/site-packages/xgboost/sklearn.py:1224: UserWarning: The use of label encoder in XGBClassifier is deprecated and will be removed in a future release. To remove this warning, do the following: 1) Pass option use_label_encoder=False when constructing XGBClassifier object; and 2) Encode your labels (y) as integers starting with 0, i.e. 0, 1, 2, ..., [num_class - 1].\n",
      "  warnings.warn(label_encoder_deprecation_msg, UserWarning)\n",
      "/Users/tonygunawan/opt/anaconda3/lib/python3.8/site-packages/xgboost/sklearn.py:1224: UserWarning: The use of label encoder in XGBClassifier is deprecated and will be removed in a future release. To remove this warning, do the following: 1) Pass option use_label_encoder=False when constructing XGBClassifier object; and 2) Encode your labels (y) as integers starting with 0, i.e. 0, 1, 2, ..., [num_class - 1].\n",
      "  warnings.warn(label_encoder_deprecation_msg, UserWarning)\n",
      "/Users/tonygunawan/opt/anaconda3/lib/python3.8/site-packages/xgboost/sklearn.py:1224: UserWarning: The use of label encoder in XGBClassifier is deprecated and will be removed in a future release. To remove this warning, do the following: 1) Pass option use_label_encoder=False when constructing XGBClassifier object; and 2) Encode your labels (y) as integers starting with 0, i.e. 0, 1, 2, ..., [num_class - 1].\n",
      "  warnings.warn(label_encoder_deprecation_msg, UserWarning)\n"
     ]
    },
    {
     "name": "stdout",
     "output_type": "stream",
     "text": [
      "[23:37:29] WARNING: /Users/travis/build/dmlc/xgboost/src/learner.cc:1115: Starting in XGBoost 1.3.0, the default evaluation metric used with the objective 'binary:logistic' was changed from 'error' to 'logloss'. Explicitly set eval_metric if you'd like to restore the old behavior.\n",
      "[23:37:29] WARNING: /Users/travis/build/dmlc/xgboost/src/learner.cc:1115: Starting in XGBoost 1.3.0, the default evaluation metric used with the objective 'binary:logistic' was changed from 'error' to 'logloss'. Explicitly set eval_metric if you'd like to restore the old behavior.\n",
      "[23:37:29] WARNING: /Users/travis/build/dmlc/xgboost/src/learner.cc:1115: Starting in XGBoost 1.3.0, the default evaluation metric used with the objective 'binary:logistic' was changed from 'error' to 'logloss'. Explicitly set eval_metric if you'd like to restore the old behavior.\n",
      "[23:37:29] WARNING: /Users/travis/build/dmlc/xgboost/src/learner.cc:1115: Starting in XGBoost 1.3.0, the default evaluation metric used with the objective 'binary:logistic' was changed from 'error' to 'logloss'. Explicitly set eval_metric if you'd like to restore the old behavior.\n",
      "[23:37:29] WARNING: /Users/travis/build/dmlc/xgboost/src/learner.cc:1115: Starting in XGBoost 1.3.0, the default evaluation metric used with the objective 'binary:logistic' was changed from 'error' to 'logloss'. Explicitly set eval_metric if you'd like to restore the old behavior.\n",
      "[23:37:29] WARNING: /Users/travis/build/dmlc/xgboost/src/learner.cc:1115: Starting in XGBoost 1.3.0, the default evaluation metric used with the objective 'binary:logistic' was changed from 'error' to 'logloss'. Explicitly set eval_metric if you'd like to restore the old behavior.\n",
      "[23:37:29] WARNING: /Users/travis/build/dmlc/xgboost/src/learner.cc:1115: Starting in XGBoost 1.3.0, the default evaluation metric used with the objective 'binary:logistic' was changed from 'error' to 'logloss'. Explicitly set eval_metric if you'd like to restore the old behavior.\n",
      "[23:37:29] WARNING: /Users/travis/build/dmlc/xgboost/src/learner.cc:1115: Starting in XGBoost 1.3.0, the default evaluation metric used with the objective 'binary:logistic' was changed from 'error' to 'logloss'. Explicitly set eval_metric if you'd like to restore the old behavior.\n",
      "[23:37:29] WARNING: /Users/travis/build/dmlc/xgboost/src/learner.cc:1115: Starting in XGBoost 1.3.0, the default evaluation metric used with the objective 'binary:logistic' was changed from 'error' to 'logloss'. Explicitly set eval_metric if you'd like to restore the old behavior.\n"
     ]
    },
    {
     "name": "stderr",
     "output_type": "stream",
     "text": [
      "/Users/tonygunawan/opt/anaconda3/lib/python3.8/site-packages/xgboost/sklearn.py:1224: UserWarning: The use of label encoder in XGBClassifier is deprecated and will be removed in a future release. To remove this warning, do the following: 1) Pass option use_label_encoder=False when constructing XGBClassifier object; and 2) Encode your labels (y) as integers starting with 0, i.e. 0, 1, 2, ..., [num_class - 1].\n",
      "  warnings.warn(label_encoder_deprecation_msg, UserWarning)\n",
      "/Users/tonygunawan/opt/anaconda3/lib/python3.8/site-packages/xgboost/sklearn.py:1224: UserWarning: The use of label encoder in XGBClassifier is deprecated and will be removed in a future release. To remove this warning, do the following: 1) Pass option use_label_encoder=False when constructing XGBClassifier object; and 2) Encode your labels (y) as integers starting with 0, i.e. 0, 1, 2, ..., [num_class - 1].\n",
      "  warnings.warn(label_encoder_deprecation_msg, UserWarning)\n",
      "/Users/tonygunawan/opt/anaconda3/lib/python3.8/site-packages/xgboost/sklearn.py:1224: UserWarning: The use of label encoder in XGBClassifier is deprecated and will be removed in a future release. To remove this warning, do the following: 1) Pass option use_label_encoder=False when constructing XGBClassifier object; and 2) Encode your labels (y) as integers starting with 0, i.e. 0, 1, 2, ..., [num_class - 1].\n",
      "  warnings.warn(label_encoder_deprecation_msg, UserWarning)\n",
      "/Users/tonygunawan/opt/anaconda3/lib/python3.8/site-packages/xgboost/sklearn.py:1224: UserWarning: The use of label encoder in XGBClassifier is deprecated and will be removed in a future release. To remove this warning, do the following: 1) Pass option use_label_encoder=False when constructing XGBClassifier object; and 2) Encode your labels (y) as integers starting with 0, i.e. 0, 1, 2, ..., [num_class - 1].\n",
      "  warnings.warn(label_encoder_deprecation_msg, UserWarning)\n",
      "/Users/tonygunawan/opt/anaconda3/lib/python3.8/site-packages/xgboost/sklearn.py:1224: UserWarning: The use of label encoder in XGBClassifier is deprecated and will be removed in a future release. To remove this warning, do the following: 1) Pass option use_label_encoder=False when constructing XGBClassifier object; and 2) Encode your labels (y) as integers starting with 0, i.e. 0, 1, 2, ..., [num_class - 1].\n",
      "  warnings.warn(label_encoder_deprecation_msg, UserWarning)\n",
      "/Users/tonygunawan/opt/anaconda3/lib/python3.8/site-packages/xgboost/sklearn.py:1224: UserWarning: The use of label encoder in XGBClassifier is deprecated and will be removed in a future release. To remove this warning, do the following: 1) Pass option use_label_encoder=False when constructing XGBClassifier object; and 2) Encode your labels (y) as integers starting with 0, i.e. 0, 1, 2, ..., [num_class - 1].\n",
      "  warnings.warn(label_encoder_deprecation_msg, UserWarning)\n"
     ]
    },
    {
     "name": "stdout",
     "output_type": "stream",
     "text": [
      "[23:37:29] WARNING: /Users/travis/build/dmlc/xgboost/src/learner.cc:1115: Starting in XGBoost 1.3.0, the default evaluation metric used with the objective 'binary:logistic' was changed from 'error' to 'logloss'. Explicitly set eval_metric if you'd like to restore the old behavior.\n",
      "[23:37:29] WARNING: /Users/travis/build/dmlc/xgboost/src/learner.cc:1115: Starting in XGBoost 1.3.0, the default evaluation metric used with the objective 'binary:logistic' was changed from 'error' to 'logloss'. Explicitly set eval_metric if you'd like to restore the old behavior.\n"
     ]
    }
   ],
   "source": [
    "scores = []\n",
    "\n",
    "for d in [4, 5, 6, 7, 10, 15, 20, None]:\n",
    "    for s in [1, 2, 5, 10, 15, 20, 100, 200, 500]:\n",
    "        dt = XGBClassifier(max_depth = d, min_child_weight = s)\n",
    "        dt.fit(X_train, y_train)\n",
    "\n",
    "        y_pred = dt.predict_proba(X_val)[:, 1]\n",
    "        auc = roc_auc_score(y_val, y_pred)\n",
    "\n",
    "        scores.append((d, s, auc))"
   ]
  },
  {
   "cell_type": "code",
   "execution_count": 57,
   "id": "a817d76d",
   "metadata": {},
   "outputs": [
    {
     "data": {
      "text/html": [
       "<div>\n",
       "<style scoped>\n",
       "    .dataframe tbody tr th:only-of-type {\n",
       "        vertical-align: middle;\n",
       "    }\n",
       "\n",
       "    .dataframe tbody tr th {\n",
       "        vertical-align: top;\n",
       "    }\n",
       "\n",
       "    .dataframe thead th {\n",
       "        text-align: right;\n",
       "    }\n",
       "</style>\n",
       "<table border=\"1\" class=\"dataframe\">\n",
       "  <thead>\n",
       "    <tr style=\"text-align: right;\">\n",
       "      <th></th>\n",
       "      <th>max_depth</th>\n",
       "      <th>min_child_weight</th>\n",
       "      <th>auc</th>\n",
       "    </tr>\n",
       "  </thead>\n",
       "  <tbody>\n",
       "    <tr>\n",
       "      <th>0</th>\n",
       "      <td>4.0</td>\n",
       "      <td>1</td>\n",
       "      <td>0.665271</td>\n",
       "    </tr>\n",
       "    <tr>\n",
       "      <th>1</th>\n",
       "      <td>4.0</td>\n",
       "      <td>2</td>\n",
       "      <td>0.671490</td>\n",
       "    </tr>\n",
       "    <tr>\n",
       "      <th>2</th>\n",
       "      <td>4.0</td>\n",
       "      <td>5</td>\n",
       "      <td>0.707725</td>\n",
       "    </tr>\n",
       "    <tr>\n",
       "      <th>3</th>\n",
       "      <td>4.0</td>\n",
       "      <td>10</td>\n",
       "      <td>0.736427</td>\n",
       "    </tr>\n",
       "    <tr>\n",
       "      <th>4</th>\n",
       "      <td>4.0</td>\n",
       "      <td>15</td>\n",
       "      <td>0.713466</td>\n",
       "    </tr>\n",
       "  </tbody>\n",
       "</table>\n",
       "</div>"
      ],
      "text/plain": [
       "   max_depth  min_child_weight       auc\n",
       "0        4.0                 1  0.665271\n",
       "1        4.0                 2  0.671490\n",
       "2        4.0                 5  0.707725\n",
       "3        4.0                10  0.736427\n",
       "4        4.0                15  0.713466"
      ]
     },
     "execution_count": 57,
     "metadata": {},
     "output_type": "execute_result"
    }
   ],
   "source": [
    "columns = ['max_depth', 'min_child_weight', 'auc']\n",
    "df_scores = pd.DataFrame(scores, columns = columns)\n",
    "df_scores.head()"
   ]
  },
  {
   "cell_type": "code",
   "execution_count": 58,
   "id": "c9287dd5",
   "metadata": {},
   "outputs": [
    {
     "data": {
      "text/html": [
       "<div>\n",
       "<style scoped>\n",
       "    .dataframe tbody tr th:only-of-type {\n",
       "        vertical-align: middle;\n",
       "    }\n",
       "\n",
       "    .dataframe tbody tr th {\n",
       "        vertical-align: top;\n",
       "    }\n",
       "\n",
       "    .dataframe thead th {\n",
       "        text-align: right;\n",
       "    }\n",
       "</style>\n",
       "<table border=\"1\" class=\"dataframe\">\n",
       "  <thead>\n",
       "    <tr style=\"text-align: right;\">\n",
       "      <th></th>\n",
       "      <th>max_depth</th>\n",
       "      <th>min_child_weight</th>\n",
       "      <th>auc</th>\n",
       "    </tr>\n",
       "  </thead>\n",
       "  <tbody>\n",
       "    <tr>\n",
       "      <th>48</th>\n",
       "      <td>15.0</td>\n",
       "      <td>10</td>\n",
       "      <td>0.736427</td>\n",
       "    </tr>\n",
       "    <tr>\n",
       "      <th>3</th>\n",
       "      <td>4.0</td>\n",
       "      <td>10</td>\n",
       "      <td>0.736427</td>\n",
       "    </tr>\n",
       "    <tr>\n",
       "      <th>30</th>\n",
       "      <td>7.0</td>\n",
       "      <td>10</td>\n",
       "      <td>0.736427</td>\n",
       "    </tr>\n",
       "    <tr>\n",
       "      <th>21</th>\n",
       "      <td>6.0</td>\n",
       "      <td>10</td>\n",
       "      <td>0.736427</td>\n",
       "    </tr>\n",
       "    <tr>\n",
       "      <th>39</th>\n",
       "      <td>10.0</td>\n",
       "      <td>10</td>\n",
       "      <td>0.736427</td>\n",
       "    </tr>\n",
       "  </tbody>\n",
       "</table>\n",
       "</div>"
      ],
      "text/plain": [
       "    max_depth  min_child_weight       auc\n",
       "48       15.0                10  0.736427\n",
       "3         4.0                10  0.736427\n",
       "30        7.0                10  0.736427\n",
       "21        6.0                10  0.736427\n",
       "39       10.0                10  0.736427"
      ]
     },
     "execution_count": 58,
     "metadata": {},
     "output_type": "execute_result"
    }
   ],
   "source": [
    "df_scores.sort_values(by='auc', ascending=False).head()"
   ]
  },
  {
   "cell_type": "code",
   "execution_count": 59,
   "id": "3d34f4a7",
   "metadata": {},
   "outputs": [
    {
     "data": {
      "text/html": [
       "<div>\n",
       "<style scoped>\n",
       "    .dataframe tbody tr th:only-of-type {\n",
       "        vertical-align: middle;\n",
       "    }\n",
       "\n",
       "    .dataframe tbody tr th {\n",
       "        vertical-align: top;\n",
       "    }\n",
       "\n",
       "    .dataframe thead tr th {\n",
       "        text-align: left;\n",
       "    }\n",
       "\n",
       "    .dataframe thead tr:last-of-type th {\n",
       "        text-align: right;\n",
       "    }\n",
       "</style>\n",
       "<table border=\"1\" class=\"dataframe\">\n",
       "  <thead>\n",
       "    <tr>\n",
       "      <th></th>\n",
       "      <th colspan=\"8\" halign=\"left\">auc</th>\n",
       "    </tr>\n",
       "    <tr>\n",
       "      <th>max_depth</th>\n",
       "      <th>NaN</th>\n",
       "      <th>4.0</th>\n",
       "      <th>5.0</th>\n",
       "      <th>6.0</th>\n",
       "      <th>7.0</th>\n",
       "      <th>10.0</th>\n",
       "      <th>15.0</th>\n",
       "      <th>20.0</th>\n",
       "    </tr>\n",
       "    <tr>\n",
       "      <th>min_child_weight</th>\n",
       "      <th></th>\n",
       "      <th></th>\n",
       "      <th></th>\n",
       "      <th></th>\n",
       "      <th></th>\n",
       "      <th></th>\n",
       "      <th></th>\n",
       "      <th></th>\n",
       "    </tr>\n",
       "  </thead>\n",
       "  <tbody>\n",
       "    <tr>\n",
       "      <th>1</th>\n",
       "      <td>0.676</td>\n",
       "      <td>0.665</td>\n",
       "      <td>0.663</td>\n",
       "      <td>0.676</td>\n",
       "      <td>0.662</td>\n",
       "      <td>0.644</td>\n",
       "      <td>0.639</td>\n",
       "      <td>0.642</td>\n",
       "    </tr>\n",
       "    <tr>\n",
       "      <th>2</th>\n",
       "      <td>0.680</td>\n",
       "      <td>0.671</td>\n",
       "      <td>0.677</td>\n",
       "      <td>0.680</td>\n",
       "      <td>0.674</td>\n",
       "      <td>0.673</td>\n",
       "      <td>0.673</td>\n",
       "      <td>0.673</td>\n",
       "    </tr>\n",
       "    <tr>\n",
       "      <th>5</th>\n",
       "      <td>0.706</td>\n",
       "      <td>0.708</td>\n",
       "      <td>0.707</td>\n",
       "      <td>0.706</td>\n",
       "      <td>0.702</td>\n",
       "      <td>0.709</td>\n",
       "      <td>0.709</td>\n",
       "      <td>0.709</td>\n",
       "    </tr>\n",
       "    <tr>\n",
       "      <th>10</th>\n",
       "      <td>0.736</td>\n",
       "      <td>0.736</td>\n",
       "      <td>0.736</td>\n",
       "      <td>0.736</td>\n",
       "      <td>0.736</td>\n",
       "      <td>0.736</td>\n",
       "      <td>0.736</td>\n",
       "      <td>0.736</td>\n",
       "    </tr>\n",
       "    <tr>\n",
       "      <th>15</th>\n",
       "      <td>0.713</td>\n",
       "      <td>0.713</td>\n",
       "      <td>0.713</td>\n",
       "      <td>0.713</td>\n",
       "      <td>0.713</td>\n",
       "      <td>0.713</td>\n",
       "      <td>0.713</td>\n",
       "      <td>0.713</td>\n",
       "    </tr>\n",
       "    <tr>\n",
       "      <th>20</th>\n",
       "      <td>0.713</td>\n",
       "      <td>0.713</td>\n",
       "      <td>0.713</td>\n",
       "      <td>0.713</td>\n",
       "      <td>0.713</td>\n",
       "      <td>0.713</td>\n",
       "      <td>0.713</td>\n",
       "      <td>0.713</td>\n",
       "    </tr>\n",
       "    <tr>\n",
       "      <th>100</th>\n",
       "      <td>0.500</td>\n",
       "      <td>0.500</td>\n",
       "      <td>0.500</td>\n",
       "      <td>0.500</td>\n",
       "      <td>0.500</td>\n",
       "      <td>0.500</td>\n",
       "      <td>0.500</td>\n",
       "      <td>0.500</td>\n",
       "    </tr>\n",
       "    <tr>\n",
       "      <th>200</th>\n",
       "      <td>0.500</td>\n",
       "      <td>0.500</td>\n",
       "      <td>0.500</td>\n",
       "      <td>0.500</td>\n",
       "      <td>0.500</td>\n",
       "      <td>0.500</td>\n",
       "      <td>0.500</td>\n",
       "      <td>0.500</td>\n",
       "    </tr>\n",
       "    <tr>\n",
       "      <th>500</th>\n",
       "      <td>0.500</td>\n",
       "      <td>0.500</td>\n",
       "      <td>0.500</td>\n",
       "      <td>0.500</td>\n",
       "      <td>0.500</td>\n",
       "      <td>0.500</td>\n",
       "      <td>0.500</td>\n",
       "      <td>0.500</td>\n",
       "    </tr>\n",
       "  </tbody>\n",
       "</table>\n",
       "</div>"
      ],
      "text/plain": [
       "                    auc                                                 \n",
       "max_depth           NaN   4.0    5.0    6.0    7.0    10.0   15.0   20.0\n",
       "min_child_weight                                                        \n",
       "1                 0.676  0.665  0.663  0.676  0.662  0.644  0.639  0.642\n",
       "2                 0.680  0.671  0.677  0.680  0.674  0.673  0.673  0.673\n",
       "5                 0.706  0.708  0.707  0.706  0.702  0.709  0.709  0.709\n",
       "10                0.736  0.736  0.736  0.736  0.736  0.736  0.736  0.736\n",
       "15                0.713  0.713  0.713  0.713  0.713  0.713  0.713  0.713\n",
       "20                0.713  0.713  0.713  0.713  0.713  0.713  0.713  0.713\n",
       "100               0.500  0.500  0.500  0.500  0.500  0.500  0.500  0.500\n",
       "200               0.500  0.500  0.500  0.500  0.500  0.500  0.500  0.500\n",
       "500               0.500  0.500  0.500  0.500  0.500  0.500  0.500  0.500"
      ]
     },
     "execution_count": 59,
     "metadata": {},
     "output_type": "execute_result"
    }
   ],
   "source": [
    "df_scores_pivot = df_scores.pivot(index='min_child_weight', columns=['max_depth'], values=['auc'])\n",
    "df_scores_pivot.round(3)"
   ]
  },
  {
   "cell_type": "code",
   "execution_count": 60,
   "id": "ce969b77",
   "metadata": {},
   "outputs": [
    {
     "data": {
      "text/plain": [
       "<AxesSubplot:xlabel='None-max_depth', ylabel='min_child_weight'>"
      ]
     },
     "execution_count": 60,
     "metadata": {},
     "output_type": "execute_result"
    },
    {
     "data": {
      "image/png": "[encoded data removed]",
      "text/plain": [
       "<Figure size 432x288 with 2 Axes>"
      ]
     },
     "metadata": {
      "needs_background": "light"
     },
     "output_type": "display_data"
    }
   ],
   "source": [
    "sns.heatmap(df_scores_pivot, annot=True, fmt = '.3f')"
   ]
  },
  {
   "cell_type": "code",
   "execution_count": 68,
   "id": "26e26957",
   "metadata": {
    "scrolled": true
   },
   "outputs": [
    {
     "name": "stdout",
     "output_type": "stream",
     "text": [
      "[10:22:27] WARNING: /Users/travis/build/dmlc/xgboost/src/learner.cc:1115: Starting in XGBoost 1.3.0, the default evaluation metric used with the objective 'binary:logistic' was changed from 'error' to 'logloss'. Explicitly set eval_metric if you'd like to restore the old behavior.\n"
     ]
    },
    {
     "name": "stderr",
     "output_type": "stream",
     "text": [
      "/Users/tonygunawan/opt/anaconda3/lib/python3.8/site-packages/xgboost/sklearn.py:1224: UserWarning: The use of label encoder in XGBClassifier is deprecated and will be removed in a future release. To remove this warning, do the following: 1) Pass option use_label_encoder=False when constructing XGBClassifier object; and 2) Encode your labels (y) as integers starting with 0, i.e. 0, 1, 2, ..., [num_class - 1].\n",
      "  warnings.warn(label_encoder_deprecation_msg, UserWarning)\n"
     ]
    },
    {
     "data": {
      "text/plain": [
       "XGBClassifier(base_score=0.5, booster='gbtree', colsample_bylevel=1,\n",
       "              colsample_bynode=1, colsample_bytree=1, enable_categorical=False,\n",
       "              gamma=0, gpu_id=-1, importance_type=None,\n",
       "              interaction_constraints='', learning_rate=0.300000012,\n",
       "              max_delta_step=0, max_depth=6, min_child_weight=10, missing=nan,\n",
       "              monotone_constraints='()', n_estimators=100, n_jobs=4,\n",
       "              num_parallel_tree=1, predictor='auto', random_state=123,\n",
       "              reg_alpha=0, reg_lambda=1, scale_pos_weight=1, seed=123,\n",
       "              subsample=1, tree_method='exact', validate_parameters=1,\n",
       "              verbosity=None)"
      ]
     },
     "execution_count": 68,
     "metadata": {},
     "output_type": "execute_result"
    }
   ],
   "source": [
    "dt = XGBClassifier(max_depth=None, min_child_weight=10, seed=123)\n",
    "dt.fit(X_train, y_train)"
   ]
  },
  {
   "cell_type": "code",
   "execution_count": 69,
   "id": "a28111de",
   "metadata": {},
   "outputs": [],
   "source": [
    "y_pred = dt.predict_proba(X_val)[:, 1]\n",
    "auc = roc_auc_score(y_val, y_pred)"
   ]
  },
  {
   "cell_type": "code",
   "execution_count": 70,
   "id": "11c0bf32",
   "metadata": {},
   "outputs": [
    {
     "data": {
      "text/plain": [
       "0.7364266921789046"
      ]
     },
     "execution_count": 70,
     "metadata": {},
     "output_type": "execute_result"
    }
   ],
   "source": [
    "auc"
   ]
  },
  {
   "cell_type": "code",
   "execution_count": 71,
   "id": "737a36c4",
   "metadata": {},
   "outputs": [],
   "source": [
    "import pickle \n",
    "\n",
    "with open('predict-model.bin', 'wb') as f_out:\n",
    "    pickle.dump(dt, f_out)\n",
    "    \n",
    "with open('dv.bin', 'wb') as f_out:\n",
    "    pickle.dump(dv, f_out)"
   ]
  },
  {
   "cell_type": "markdown",
   "id": "e161ef19",
   "metadata": {},
   "source": [
    "## test it"
   ]
  },
  {
   "cell_type": "code",
   "execution_count": 91,
   "id": "6561a8ea",
   "metadata": {},
   "outputs": [
    {
     "data": {
      "text/plain": [
       "'1.5.0'"
      ]
     },
     "execution_count": 91,
     "metadata": {},
     "output_type": "execute_result"
    }
   ],
   "source": [
    "import xgboost as xgb\n",
    "xgb.__version__"
   ]
  },
  {
   "cell_type": "code",
   "execution_count": 73,
   "id": "f032d6c2",
   "metadata": {},
   "outputs": [],
   "source": []
  },
  {
   "cell_type": "code",
   "execution_count": 87,
   "id": "74f08cb3",
   "metadata": {},
   "outputs": [],
   "source": [
    "donator = {\"recency\": 1,\n",
    "  \"frequency\": 16,\n",
    "  \"total_donated\": 4000,\n",
    "  \"months_since_beginning\": 35}"
   ]
  },
  {
   "cell_type": "code",
   "execution_count": 109,
   "id": "25ec58b4",
   "metadata": {},
   "outputs": [
    {
     "data": {
      "text/plain": [
       "{'donating_probability': 0.8267529010772705, 'is_donating': True}"
      ]
     },
     "execution_count": 109,
     "metadata": {},
     "output_type": "execute_result"
    }
   ],
   "source": [
    "import requests\n",
    "url = 'http://localhost:9698/predict'\n",
    "response = requests.post(url, json=donator)\n",
    "result = response.json()\n",
    "result"
   ]
  },
  {
   "cell_type": "code",
   "execution_count": null,
   "id": "5adc14b5",
   "metadata": {},
   "outputs": [],
   "source": []
  }
 ],
 "metadata": {
  "kernelspec": {
   "display_name": "Python 3",
   "language": "python",
   "name": "python3"
  },
  "language_info": {
   "codemirror_mode": {
    "name": "ipython",
    "version": 3
   },
   "file_extension": ".py",
   "mimetype": "text/x-python",
   "name": "python",
   "nbconvert_exporter": "python",
   "pygments_lexer": "ipython3",
   "version": "3.8.8"
  }
 },
 "nbformat": 4,
 "nbformat_minor": 5
}
