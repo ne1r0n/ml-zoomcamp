{
 "cells": [
  {
   "cell_type": "markdown",
   "id": "73e2abfb",
   "metadata": {},
   "source": [
    "## Objective\n",
    "\n",
    "I want to create a model that can predict if the assessed customer is bad or good based on several parameters described below. The dataset used for training was taken from https://www.openml.org/d/31 and I use two different methods for this as comparison, using unsupervised (autosklearn) and supervised (decision trees). Because of interpretability consideration, I decided to choose the decision trees as the final model. This is my first time to create the machine learning from end to end besides previous homeworks and lessons, so I am certain that there are so many flaws on my analysis and methods. Need input from this. Thank you."
   ]
  },
  {
   "cell_type": "markdown",
   "id": "ada43929",
   "metadata": {},
   "source": [
    "### Attribute description   \n",
    "1. checking_status: Status of existing checking account, in Deutsche Mark.  \n",
    "2. duration: Duration in months  \n",
    "3. credit_history: Credit history (credits taken, paid back duly, delays, critical accounts)  \n",
    "4. purpose: Purpose of the credit (car, television,...)  \n",
    "5. credit_amount: Credit amount  \n",
    "6. savings_status: Status of savings account/bonds, in Deutsche Mark.  \n",
    "7. employment: Present employment, in number of years.  \n",
    "8. installment_commitment: Installment rate in percentage of disposable income  \n",
    "9. personal_status: Personal status (married, single,...) and sex  \n",
    "10. other_parties: Other debtors / guarantors  \n",
    "11. residence_since: Present residence since X years  \n",
    "12. property_magnitude: Property (e.g. real estate)  \n",
    "13. age: Age in years  \n",
    "14. other_payment_plans: Other installment plans (banks, stores)  \n",
    "15. housing: Housing (rent, own,...)  \n",
    "16. existing_credits: Number of existing credits at this bank  \n",
    "17. job: Job  \n",
    "18. num_dependents: Number of people being liable to provide maintenance for  \n",
    "19. own_telephone: Telephone (yes,no)  \n",
    "20. foreign_worker: Foreign worker (yes,no)"
   ]
  },
  {
   "cell_type": "markdown",
   "id": "41a3b874",
   "metadata": {},
   "source": [
    "## EDA"
   ]
  },
  {
   "cell_type": "code",
   "execution_count": 2,
   "id": "8b4bfcb3",
   "metadata": {},
   "outputs": [],
   "source": [
    "import pandas as pd\n",
    "import numpy as np"
   ]
  },
  {
   "cell_type": "code",
   "execution_count": 3,
   "id": "bdbde2cc",
   "metadata": {},
   "outputs": [],
   "source": [
    "df = pd.read_csv('/Users/tonygunawan/Downloads/dataset_31_credit-g.csv', decimal=',')"
   ]
  },
  {
   "cell_type": "code",
   "execution_count": 4,
   "id": "f79e82b6",
   "metadata": {
    "scrolled": true
   },
   "outputs": [
    {
     "data": {
      "text/html": [
       "<div>\n",
       "<style scoped>\n",
       "    .dataframe tbody tr th:only-of-type {\n",
       "        vertical-align: middle;\n",
       "    }\n",
       "\n",
       "    .dataframe tbody tr th {\n",
       "        vertical-align: top;\n",
       "    }\n",
       "\n",
       "    .dataframe thead th {\n",
       "        text-align: right;\n",
       "    }\n",
       "</style>\n",
       "<table border=\"1\" class=\"dataframe\">\n",
       "  <thead>\n",
       "    <tr style=\"text-align: right;\">\n",
       "      <th></th>\n",
       "      <th>checking_status</th>\n",
       "      <th>duration</th>\n",
       "      <th>credit_history</th>\n",
       "      <th>purpose</th>\n",
       "      <th>credit_amount</th>\n",
       "      <th>savings_status</th>\n",
       "      <th>employment</th>\n",
       "      <th>installment_commitment</th>\n",
       "      <th>personal_status</th>\n",
       "      <th>other_parties</th>\n",
       "      <th>...</th>\n",
       "      <th>property_magnitude</th>\n",
       "      <th>age</th>\n",
       "      <th>other_payment_plans</th>\n",
       "      <th>housing</th>\n",
       "      <th>existing_credits</th>\n",
       "      <th>job</th>\n",
       "      <th>num_dependents</th>\n",
       "      <th>own_telephone</th>\n",
       "      <th>foreign_worker</th>\n",
       "      <th>class</th>\n",
       "    </tr>\n",
       "  </thead>\n",
       "  <tbody>\n",
       "    <tr>\n",
       "      <th>0</th>\n",
       "      <td>'&lt;0'</td>\n",
       "      <td>6</td>\n",
       "      <td>'critical/other existing credit'</td>\n",
       "      <td>radio/tv</td>\n",
       "      <td>1169</td>\n",
       "      <td>'no known savings'</td>\n",
       "      <td>'&gt;=7'</td>\n",
       "      <td>4</td>\n",
       "      <td>'male single'</td>\n",
       "      <td>none</td>\n",
       "      <td>...</td>\n",
       "      <td>'real estate'</td>\n",
       "      <td>67</td>\n",
       "      <td>none</td>\n",
       "      <td>own</td>\n",
       "      <td>2</td>\n",
       "      <td>skilled</td>\n",
       "      <td>1</td>\n",
       "      <td>yes</td>\n",
       "      <td>yes</td>\n",
       "      <td>good</td>\n",
       "    </tr>\n",
       "    <tr>\n",
       "      <th>1</th>\n",
       "      <td>'0&lt;=X&lt;200'</td>\n",
       "      <td>48</td>\n",
       "      <td>'existing paid'</td>\n",
       "      <td>radio/tv</td>\n",
       "      <td>5951</td>\n",
       "      <td>'&lt;100'</td>\n",
       "      <td>'1&lt;=X&lt;4'</td>\n",
       "      <td>2</td>\n",
       "      <td>'female div/dep/mar'</td>\n",
       "      <td>none</td>\n",
       "      <td>...</td>\n",
       "      <td>'real estate'</td>\n",
       "      <td>22</td>\n",
       "      <td>none</td>\n",
       "      <td>own</td>\n",
       "      <td>1</td>\n",
       "      <td>skilled</td>\n",
       "      <td>1</td>\n",
       "      <td>none</td>\n",
       "      <td>yes</td>\n",
       "      <td>bad</td>\n",
       "    </tr>\n",
       "    <tr>\n",
       "      <th>2</th>\n",
       "      <td>'no checking'</td>\n",
       "      <td>12</td>\n",
       "      <td>'critical/other existing credit'</td>\n",
       "      <td>education</td>\n",
       "      <td>2096</td>\n",
       "      <td>'&lt;100'</td>\n",
       "      <td>'4&lt;=X&lt;7'</td>\n",
       "      <td>2</td>\n",
       "      <td>'male single'</td>\n",
       "      <td>none</td>\n",
       "      <td>...</td>\n",
       "      <td>'real estate'</td>\n",
       "      <td>49</td>\n",
       "      <td>none</td>\n",
       "      <td>own</td>\n",
       "      <td>1</td>\n",
       "      <td>'unskilled resident'</td>\n",
       "      <td>2</td>\n",
       "      <td>none</td>\n",
       "      <td>yes</td>\n",
       "      <td>good</td>\n",
       "    </tr>\n",
       "    <tr>\n",
       "      <th>3</th>\n",
       "      <td>'&lt;0'</td>\n",
       "      <td>42</td>\n",
       "      <td>'existing paid'</td>\n",
       "      <td>furniture/equipment</td>\n",
       "      <td>7882</td>\n",
       "      <td>'&lt;100'</td>\n",
       "      <td>'4&lt;=X&lt;7'</td>\n",
       "      <td>2</td>\n",
       "      <td>'male single'</td>\n",
       "      <td>guarantor</td>\n",
       "      <td>...</td>\n",
       "      <td>'life insurance'</td>\n",
       "      <td>45</td>\n",
       "      <td>none</td>\n",
       "      <td>'for free'</td>\n",
       "      <td>1</td>\n",
       "      <td>skilled</td>\n",
       "      <td>2</td>\n",
       "      <td>none</td>\n",
       "      <td>yes</td>\n",
       "      <td>good</td>\n",
       "    </tr>\n",
       "    <tr>\n",
       "      <th>4</th>\n",
       "      <td>'&lt;0'</td>\n",
       "      <td>24</td>\n",
       "      <td>'delayed previously'</td>\n",
       "      <td>'new car'</td>\n",
       "      <td>4870</td>\n",
       "      <td>'&lt;100'</td>\n",
       "      <td>'1&lt;=X&lt;4'</td>\n",
       "      <td>3</td>\n",
       "      <td>'male single'</td>\n",
       "      <td>none</td>\n",
       "      <td>...</td>\n",
       "      <td>'no known property'</td>\n",
       "      <td>53</td>\n",
       "      <td>none</td>\n",
       "      <td>'for free'</td>\n",
       "      <td>2</td>\n",
       "      <td>skilled</td>\n",
       "      <td>2</td>\n",
       "      <td>none</td>\n",
       "      <td>yes</td>\n",
       "      <td>bad</td>\n",
       "    </tr>\n",
       "    <tr>\n",
       "      <th>...</th>\n",
       "      <td>...</td>\n",
       "      <td>...</td>\n",
       "      <td>...</td>\n",
       "      <td>...</td>\n",
       "      <td>...</td>\n",
       "      <td>...</td>\n",
       "      <td>...</td>\n",
       "      <td>...</td>\n",
       "      <td>...</td>\n",
       "      <td>...</td>\n",
       "      <td>...</td>\n",
       "      <td>...</td>\n",
       "      <td>...</td>\n",
       "      <td>...</td>\n",
       "      <td>...</td>\n",
       "      <td>...</td>\n",
       "      <td>...</td>\n",
       "      <td>...</td>\n",
       "      <td>...</td>\n",
       "      <td>...</td>\n",
       "      <td>...</td>\n",
       "    </tr>\n",
       "    <tr>\n",
       "      <th>995</th>\n",
       "      <td>'no checking'</td>\n",
       "      <td>12</td>\n",
       "      <td>'existing paid'</td>\n",
       "      <td>furniture/equipment</td>\n",
       "      <td>1736</td>\n",
       "      <td>'&lt;100'</td>\n",
       "      <td>'4&lt;=X&lt;7'</td>\n",
       "      <td>3</td>\n",
       "      <td>'female div/dep/mar'</td>\n",
       "      <td>none</td>\n",
       "      <td>...</td>\n",
       "      <td>'real estate'</td>\n",
       "      <td>31</td>\n",
       "      <td>none</td>\n",
       "      <td>own</td>\n",
       "      <td>1</td>\n",
       "      <td>'unskilled resident'</td>\n",
       "      <td>1</td>\n",
       "      <td>none</td>\n",
       "      <td>yes</td>\n",
       "      <td>good</td>\n",
       "    </tr>\n",
       "    <tr>\n",
       "      <th>996</th>\n",
       "      <td>'&lt;0'</td>\n",
       "      <td>30</td>\n",
       "      <td>'existing paid'</td>\n",
       "      <td>'used car'</td>\n",
       "      <td>3857</td>\n",
       "      <td>'&lt;100'</td>\n",
       "      <td>'1&lt;=X&lt;4'</td>\n",
       "      <td>4</td>\n",
       "      <td>'male div/sep'</td>\n",
       "      <td>none</td>\n",
       "      <td>...</td>\n",
       "      <td>'life insurance'</td>\n",
       "      <td>40</td>\n",
       "      <td>none</td>\n",
       "      <td>own</td>\n",
       "      <td>1</td>\n",
       "      <td>'high qualif/self emp/mgmt'</td>\n",
       "      <td>1</td>\n",
       "      <td>yes</td>\n",
       "      <td>yes</td>\n",
       "      <td>good</td>\n",
       "    </tr>\n",
       "    <tr>\n",
       "      <th>997</th>\n",
       "      <td>'no checking'</td>\n",
       "      <td>12</td>\n",
       "      <td>'existing paid'</td>\n",
       "      <td>radio/tv</td>\n",
       "      <td>804</td>\n",
       "      <td>'&lt;100'</td>\n",
       "      <td>'&gt;=7'</td>\n",
       "      <td>4</td>\n",
       "      <td>'male single'</td>\n",
       "      <td>none</td>\n",
       "      <td>...</td>\n",
       "      <td>car</td>\n",
       "      <td>38</td>\n",
       "      <td>none</td>\n",
       "      <td>own</td>\n",
       "      <td>1</td>\n",
       "      <td>skilled</td>\n",
       "      <td>1</td>\n",
       "      <td>none</td>\n",
       "      <td>yes</td>\n",
       "      <td>good</td>\n",
       "    </tr>\n",
       "    <tr>\n",
       "      <th>998</th>\n",
       "      <td>'&lt;0'</td>\n",
       "      <td>45</td>\n",
       "      <td>'existing paid'</td>\n",
       "      <td>radio/tv</td>\n",
       "      <td>1845</td>\n",
       "      <td>'&lt;100'</td>\n",
       "      <td>'1&lt;=X&lt;4'</td>\n",
       "      <td>4</td>\n",
       "      <td>'male single'</td>\n",
       "      <td>none</td>\n",
       "      <td>...</td>\n",
       "      <td>'no known property'</td>\n",
       "      <td>23</td>\n",
       "      <td>none</td>\n",
       "      <td>'for free'</td>\n",
       "      <td>1</td>\n",
       "      <td>skilled</td>\n",
       "      <td>1</td>\n",
       "      <td>yes</td>\n",
       "      <td>yes</td>\n",
       "      <td>bad</td>\n",
       "    </tr>\n",
       "    <tr>\n",
       "      <th>999</th>\n",
       "      <td>'0&lt;=X&lt;200'</td>\n",
       "      <td>45</td>\n",
       "      <td>'critical/other existing credit'</td>\n",
       "      <td>'used car'</td>\n",
       "      <td>4576</td>\n",
       "      <td>'100&lt;=X&lt;500'</td>\n",
       "      <td>unemployed</td>\n",
       "      <td>3</td>\n",
       "      <td>'male single'</td>\n",
       "      <td>none</td>\n",
       "      <td>...</td>\n",
       "      <td>car</td>\n",
       "      <td>27</td>\n",
       "      <td>none</td>\n",
       "      <td>own</td>\n",
       "      <td>1</td>\n",
       "      <td>skilled</td>\n",
       "      <td>1</td>\n",
       "      <td>none</td>\n",
       "      <td>yes</td>\n",
       "      <td>good</td>\n",
       "    </tr>\n",
       "  </tbody>\n",
       "</table>\n",
       "<p>1000 rows × 21 columns</p>\n",
       "</div>"
      ],
      "text/plain": [
       "    checking_status  duration                    credit_history  \\\n",
       "0              '<0'         6  'critical/other existing credit'   \n",
       "1        '0<=X<200'        48                   'existing paid'   \n",
       "2     'no checking'        12  'critical/other existing credit'   \n",
       "3              '<0'        42                   'existing paid'   \n",
       "4              '<0'        24              'delayed previously'   \n",
       "..              ...       ...                               ...   \n",
       "995   'no checking'        12                   'existing paid'   \n",
       "996            '<0'        30                   'existing paid'   \n",
       "997   'no checking'        12                   'existing paid'   \n",
       "998            '<0'        45                   'existing paid'   \n",
       "999      '0<=X<200'        45  'critical/other existing credit'   \n",
       "\n",
       "                 purpose  credit_amount      savings_status  employment  \\\n",
       "0               radio/tv           1169  'no known savings'       '>=7'   \n",
       "1               radio/tv           5951              '<100'    '1<=X<4'   \n",
       "2              education           2096              '<100'    '4<=X<7'   \n",
       "3    furniture/equipment           7882              '<100'    '4<=X<7'   \n",
       "4              'new car'           4870              '<100'    '1<=X<4'   \n",
       "..                   ...            ...                 ...         ...   \n",
       "995  furniture/equipment           1736              '<100'    '4<=X<7'   \n",
       "996           'used car'           3857              '<100'    '1<=X<4'   \n",
       "997             radio/tv            804              '<100'       '>=7'   \n",
       "998             radio/tv           1845              '<100'    '1<=X<4'   \n",
       "999           'used car'           4576        '100<=X<500'  unemployed   \n",
       "\n",
       "     installment_commitment       personal_status other_parties  ...  \\\n",
       "0                         4         'male single'          none  ...   \n",
       "1                         2  'female div/dep/mar'          none  ...   \n",
       "2                         2         'male single'          none  ...   \n",
       "3                         2         'male single'     guarantor  ...   \n",
       "4                         3         'male single'          none  ...   \n",
       "..                      ...                   ...           ...  ...   \n",
       "995                       3  'female div/dep/mar'          none  ...   \n",
       "996                       4        'male div/sep'          none  ...   \n",
       "997                       4         'male single'          none  ...   \n",
       "998                       4         'male single'          none  ...   \n",
       "999                       3         'male single'          none  ...   \n",
       "\n",
       "      property_magnitude age  other_payment_plans     housing  \\\n",
       "0          'real estate'  67                 none         own   \n",
       "1          'real estate'  22                 none         own   \n",
       "2          'real estate'  49                 none         own   \n",
       "3       'life insurance'  45                 none  'for free'   \n",
       "4    'no known property'  53                 none  'for free'   \n",
       "..                   ...  ..                  ...         ...   \n",
       "995        'real estate'  31                 none         own   \n",
       "996     'life insurance'  40                 none         own   \n",
       "997                  car  38                 none         own   \n",
       "998  'no known property'  23                 none  'for free'   \n",
       "999                  car  27                 none         own   \n",
       "\n",
       "    existing_credits                          job num_dependents  \\\n",
       "0                  2                      skilled              1   \n",
       "1                  1                      skilled              1   \n",
       "2                  1         'unskilled resident'              2   \n",
       "3                  1                      skilled              2   \n",
       "4                  2                      skilled              2   \n",
       "..               ...                          ...            ...   \n",
       "995                1         'unskilled resident'              1   \n",
       "996                1  'high qualif/self emp/mgmt'              1   \n",
       "997                1                      skilled              1   \n",
       "998                1                      skilled              1   \n",
       "999                1                      skilled              1   \n",
       "\n",
       "     own_telephone foreign_worker class  \n",
       "0              yes            yes  good  \n",
       "1             none            yes   bad  \n",
       "2             none            yes  good  \n",
       "3             none            yes  good  \n",
       "4             none            yes   bad  \n",
       "..             ...            ...   ...  \n",
       "995           none            yes  good  \n",
       "996            yes            yes  good  \n",
       "997           none            yes  good  \n",
       "998            yes            yes   bad  \n",
       "999           none            yes  good  \n",
       "\n",
       "[1000 rows x 21 columns]"
      ]
     },
     "execution_count": 4,
     "metadata": {},
     "output_type": "execute_result"
    }
   ],
   "source": [
    "df"
   ]
  },
  {
   "cell_type": "code",
   "execution_count": 5,
   "id": "8fee3dd7",
   "metadata": {
    "scrolled": true
   },
   "outputs": [
    {
     "data": {
      "text/html": [
       "<div>\n",
       "<style scoped>\n",
       "    .dataframe tbody tr th:only-of-type {\n",
       "        vertical-align: middle;\n",
       "    }\n",
       "\n",
       "    .dataframe tbody tr th {\n",
       "        vertical-align: top;\n",
       "    }\n",
       "\n",
       "    .dataframe thead th {\n",
       "        text-align: right;\n",
       "    }\n",
       "</style>\n",
       "<table border=\"1\" class=\"dataframe\">\n",
       "  <thead>\n",
       "    <tr style=\"text-align: right;\">\n",
       "      <th></th>\n",
       "      <th>duration</th>\n",
       "      <th>credit_amount</th>\n",
       "      <th>installment_commitment</th>\n",
       "      <th>residence_since</th>\n",
       "      <th>age</th>\n",
       "      <th>existing_credits</th>\n",
       "      <th>num_dependents</th>\n",
       "    </tr>\n",
       "  </thead>\n",
       "  <tbody>\n",
       "    <tr>\n",
       "      <th>count</th>\n",
       "      <td>1000.000000</td>\n",
       "      <td>1000.000000</td>\n",
       "      <td>1000.000000</td>\n",
       "      <td>1000.000000</td>\n",
       "      <td>1000.000000</td>\n",
       "      <td>1000.000000</td>\n",
       "      <td>1000.000000</td>\n",
       "    </tr>\n",
       "    <tr>\n",
       "      <th>mean</th>\n",
       "      <td>20.903000</td>\n",
       "      <td>3271.258000</td>\n",
       "      <td>2.973000</td>\n",
       "      <td>2.845000</td>\n",
       "      <td>35.546000</td>\n",
       "      <td>1.407000</td>\n",
       "      <td>1.155000</td>\n",
       "    </tr>\n",
       "    <tr>\n",
       "      <th>std</th>\n",
       "      <td>12.058814</td>\n",
       "      <td>2822.736876</td>\n",
       "      <td>1.118715</td>\n",
       "      <td>1.103718</td>\n",
       "      <td>11.375469</td>\n",
       "      <td>0.577654</td>\n",
       "      <td>0.362086</td>\n",
       "    </tr>\n",
       "    <tr>\n",
       "      <th>min</th>\n",
       "      <td>4.000000</td>\n",
       "      <td>250.000000</td>\n",
       "      <td>1.000000</td>\n",
       "      <td>1.000000</td>\n",
       "      <td>19.000000</td>\n",
       "      <td>1.000000</td>\n",
       "      <td>1.000000</td>\n",
       "    </tr>\n",
       "    <tr>\n",
       "      <th>25%</th>\n",
       "      <td>12.000000</td>\n",
       "      <td>1365.500000</td>\n",
       "      <td>2.000000</td>\n",
       "      <td>2.000000</td>\n",
       "      <td>27.000000</td>\n",
       "      <td>1.000000</td>\n",
       "      <td>1.000000</td>\n",
       "    </tr>\n",
       "    <tr>\n",
       "      <th>50%</th>\n",
       "      <td>18.000000</td>\n",
       "      <td>2319.500000</td>\n",
       "      <td>3.000000</td>\n",
       "      <td>3.000000</td>\n",
       "      <td>33.000000</td>\n",
       "      <td>1.000000</td>\n",
       "      <td>1.000000</td>\n",
       "    </tr>\n",
       "    <tr>\n",
       "      <th>75%</th>\n",
       "      <td>24.000000</td>\n",
       "      <td>3972.250000</td>\n",
       "      <td>4.000000</td>\n",
       "      <td>4.000000</td>\n",
       "      <td>42.000000</td>\n",
       "      <td>2.000000</td>\n",
       "      <td>1.000000</td>\n",
       "    </tr>\n",
       "    <tr>\n",
       "      <th>max</th>\n",
       "      <td>72.000000</td>\n",
       "      <td>18424.000000</td>\n",
       "      <td>4.000000</td>\n",
       "      <td>4.000000</td>\n",
       "      <td>75.000000</td>\n",
       "      <td>4.000000</td>\n",
       "      <td>2.000000</td>\n",
       "    </tr>\n",
       "  </tbody>\n",
       "</table>\n",
       "</div>"
      ],
      "text/plain": [
       "          duration  credit_amount  installment_commitment  residence_since  \\\n",
       "count  1000.000000    1000.000000             1000.000000      1000.000000   \n",
       "mean     20.903000    3271.258000                2.973000         2.845000   \n",
       "std      12.058814    2822.736876                1.118715         1.103718   \n",
       "min       4.000000     250.000000                1.000000         1.000000   \n",
       "25%      12.000000    1365.500000                2.000000         2.000000   \n",
       "50%      18.000000    2319.500000                3.000000         3.000000   \n",
       "75%      24.000000    3972.250000                4.000000         4.000000   \n",
       "max      72.000000   18424.000000                4.000000         4.000000   \n",
       "\n",
       "               age  existing_credits  num_dependents  \n",
       "count  1000.000000       1000.000000     1000.000000  \n",
       "mean     35.546000          1.407000        1.155000  \n",
       "std      11.375469          0.577654        0.362086  \n",
       "min      19.000000          1.000000        1.000000  \n",
       "25%      27.000000          1.000000        1.000000  \n",
       "50%      33.000000          1.000000        1.000000  \n",
       "75%      42.000000          2.000000        1.000000  \n",
       "max      75.000000          4.000000        2.000000  "
      ]
     },
     "execution_count": 5,
     "metadata": {},
     "output_type": "execute_result"
    }
   ],
   "source": [
    "df.describe()"
   ]
  },
  {
   "cell_type": "code",
   "execution_count": 6,
   "id": "7ad4bd44",
   "metadata": {
    "scrolled": true
   },
   "outputs": [
    {
     "data": {
      "text/plain": [
       "checking_status           object\n",
       "duration                   int64\n",
       "credit_history            object\n",
       "purpose                   object\n",
       "credit_amount              int64\n",
       "savings_status            object\n",
       "employment                object\n",
       "installment_commitment     int64\n",
       "personal_status           object\n",
       "other_parties             object\n",
       "residence_since            int64\n",
       "property_magnitude        object\n",
       "age                        int64\n",
       "other_payment_plans       object\n",
       "housing                   object\n",
       "existing_credits           int64\n",
       "job                       object\n",
       "num_dependents             int64\n",
       "own_telephone             object\n",
       "foreign_worker            object\n",
       "class                     object\n",
       "dtype: object"
      ]
     },
     "execution_count": 6,
     "metadata": {},
     "output_type": "execute_result"
    }
   ],
   "source": [
    "df.dtypes"
   ]
  },
  {
   "cell_type": "code",
   "execution_count": 7,
   "id": "a310e776",
   "metadata": {},
   "outputs": [
    {
     "data": {
      "text/plain": [
       "good    700\n",
       "bad     300\n",
       "Name: class, dtype: int64"
      ]
     },
     "execution_count": 7,
     "metadata": {},
     "output_type": "execute_result"
    }
   ],
   "source": [
    "df['class'].value_counts()"
   ]
  },
  {
   "cell_type": "code",
   "execution_count": 8,
   "id": "7bdbe41d",
   "metadata": {},
   "outputs": [],
   "source": [
    "import matplotlib.pyplot as plt\n",
    "import seaborn as sns\n",
    "\n",
    "%matplotlib inline"
   ]
  },
  {
   "cell_type": "code",
   "execution_count": 9,
   "id": "217a3974",
   "metadata": {
    "scrolled": true
   },
   "outputs": [
    {
     "data": {
      "text/plain": [
       "<AxesSubplot:xlabel='class', ylabel='Count'>"
      ]
     },
     "execution_count": 9,
     "metadata": {},
     "output_type": "execute_result"
    },
    {
     "data": {
      "image/png": "[encoded data removed]",
      "text/plain": [
       "<Figure size 432x288 with 1 Axes>"
      ]
     },
     "metadata": {
      "needs_background": "light"
     },
     "output_type": "display_data"
    }
   ],
   "source": [
    "sns.histplot(df['class'], bins=50)"
   ]
  },
  {
   "cell_type": "code",
   "execution_count": 10,
   "id": "f84b09d3",
   "metadata": {
    "scrolled": true
   },
   "outputs": [
    {
     "data": {
      "text/plain": [
       "Index(['checking_status', 'duration', 'credit_history', 'purpose',\n",
       "       'credit_amount', 'savings_status', 'employment',\n",
       "       'installment_commitment', 'personal_status', 'other_parties',\n",
       "       'residence_since', 'property_magnitude', 'age', 'other_payment_plans',\n",
       "       'housing', 'existing_credits', 'job', 'num_dependents', 'own_telephone',\n",
       "       'foreign_worker', 'class'],\n",
       "      dtype='object')"
      ]
     },
     "execution_count": 10,
     "metadata": {},
     "output_type": "execute_result"
    }
   ],
   "source": [
    "df.columns"
   ]
  },
  {
   "cell_type": "code",
   "execution_count": 11,
   "id": "fcf81afa",
   "metadata": {},
   "outputs": [],
   "source": [
    "categorical = ['checking_status', 'credit_history', 'purpose', 'savings_status', 'employment', \n",
    "              'personal_status', 'other_parties', 'property_magnitude', 'other_payment_plans', \n",
    "               'housing', 'job', 'own_telephone', 'foreign_worker']"
   ]
  },
  {
   "cell_type": "code",
   "execution_count": 12,
   "id": "21f777f4",
   "metadata": {},
   "outputs": [],
   "source": [
    "numerical = ['duration', 'credit_amount', 'installment_commitment', 'residence_since', 'age',\n",
    "            'existing_credits', 'num_dependents']"
   ]
  },
  {
   "cell_type": "markdown",
   "id": "e26ac242",
   "metadata": {},
   "source": [
    "## Setting Up The Validation Framework"
   ]
  },
  {
   "cell_type": "code",
   "execution_count": 22,
   "id": "50338289",
   "metadata": {},
   "outputs": [],
   "source": [
    "from sklearn.model_selection import train_test_split\n",
    "\n",
    "df_full_train, df_test = train_test_split(df, test_size=0.2, random_state=10)\n",
    "df_train, df_val = train_test_split(df_full_train, test_size=0.25, random_state=10)"
   ]
  },
  {
   "cell_type": "code",
   "execution_count": 23,
   "id": "e82e2001",
   "metadata": {},
   "outputs": [],
   "source": [
    "df_train = df_train.reset_index(drop=True)\n",
    "df_val = df_val.reset_index(drop=True)\n",
    "df_test = df_test.reset_index(drop=True)"
   ]
  },
  {
   "cell_type": "code",
   "execution_count": 24,
   "id": "bcb681ca",
   "metadata": {},
   "outputs": [],
   "source": [
    "y_train = (df_train['class'] == 'bad').astype('int').values\n",
    "y_val = (df_val['class'] == 'bad').astype('int').values\n",
    "y_test = (df_test['class'] == 'bad').astype('int').values"
   ]
  },
  {
   "cell_type": "code",
   "execution_count": 25,
   "id": "0b530251",
   "metadata": {},
   "outputs": [
    {
     "data": {
      "text/plain": [
       "0.31"
      ]
     },
     "execution_count": 25,
     "metadata": {},
     "output_type": "execute_result"
    }
   ],
   "source": [
    "y_train.mean()"
   ]
  },
  {
   "cell_type": "code",
   "execution_count": 26,
   "id": "e5dbfe49",
   "metadata": {},
   "outputs": [
    {
     "data": {
      "text/plain": [
       "0.26"
      ]
     },
     "execution_count": 26,
     "metadata": {},
     "output_type": "execute_result"
    }
   ],
   "source": [
    "y_val.mean()"
   ]
  },
  {
   "cell_type": "code",
   "execution_count": 27,
   "id": "34b29df9",
   "metadata": {},
   "outputs": [
    {
     "data": {
      "text/plain": [
       "0.31"
      ]
     },
     "execution_count": 27,
     "metadata": {},
     "output_type": "execute_result"
    }
   ],
   "source": [
    "y_test.mean()"
   ]
  },
  {
   "cell_type": "code",
   "execution_count": 18,
   "id": "4ae14166",
   "metadata": {},
   "outputs": [],
   "source": [
    "del df_train['class']\n",
    "del df_val['class']\n",
    "del df_test['class']"
   ]
  },
  {
   "cell_type": "code",
   "execution_count": 19,
   "id": "ed321aea",
   "metadata": {
    "scrolled": true
   },
   "outputs": [
    {
     "data": {
      "text/plain": [
       "good    562\n",
       "bad     238\n",
       "Name: class, dtype: int64"
      ]
     },
     "execution_count": 19,
     "metadata": {},
     "output_type": "execute_result"
    }
   ],
   "source": [
    "df_full_train['class'].value_counts()"
   ]
  },
  {
   "cell_type": "code",
   "execution_count": 20,
   "id": "4d3a0770",
   "metadata": {},
   "outputs": [
    {
     "data": {
      "text/plain": [
       "good    0.7025\n",
       "bad     0.2975\n",
       "Name: class, dtype: float64"
      ]
     },
     "execution_count": 20,
     "metadata": {},
     "output_type": "execute_result"
    }
   ],
   "source": [
    "df_full_train['class'].value_counts(normalize=True)"
   ]
  },
  {
   "cell_type": "code",
   "execution_count": 21,
   "id": "78e7c76f",
   "metadata": {},
   "outputs": [],
   "source": [
    "from sklearn.feature_extraction import DictVectorizer\n",
    "\n",
    "train_dicts = df_train.to_dict(orient = 'records')"
   ]
  },
  {
   "cell_type": "code",
   "execution_count": 19,
   "id": "2db40c49",
   "metadata": {
    "scrolled": true
   },
   "outputs": [
    {
     "data": {
      "text/plain": [
       "[{'checking_status': \"'<0'\",\n",
       "  'duration': 36,\n",
       "  'credit_history': \"'critical/other existing credit'\",\n",
       "  'purpose': 'education',\n",
       "  'credit_amount': 8065,\n",
       "  'savings_status': \"'<100'\",\n",
       "  'employment': \"'1<=X<4'\",\n",
       "  'installment_commitment': 3,\n",
       "  'personal_status': \"'female div/dep/mar'\",\n",
       "  'other_parties': 'none',\n",
       "  'residence_since': 2,\n",
       "  'property_magnitude': \"'no known property'\",\n",
       "  'age': 25,\n",
       "  'other_payment_plans': 'none',\n",
       "  'housing': 'own',\n",
       "  'existing_credits': 2,\n",
       "  'job': \"'high qualif/self emp/mgmt'\",\n",
       "  'num_dependents': 1,\n",
       "  'own_telephone': 'yes',\n",
       "  'foreign_worker': 'yes'},\n",
       " {'checking_status': \"'no checking'\",\n",
       "  'duration': 24,\n",
       "  'credit_history': \"'existing paid'\",\n",
       "  'purpose': 'radio/tv',\n",
       "  'credit_amount': 1413,\n",
       "  'savings_status': \"'<100'\",\n",
       "  'employment': \"'1<=X<4'\",\n",
       "  'installment_commitment': 4,\n",
       "  'personal_status': \"'male mar/wid'\",\n",
       "  'other_parties': 'none',\n",
       "  'residence_since': 2,\n",
       "  'property_magnitude': \"'life insurance'\",\n",
       "  'age': 28,\n",
       "  'other_payment_plans': 'none',\n",
       "  'housing': 'own',\n",
       "  'existing_credits': 1,\n",
       "  'job': 'skilled',\n",
       "  'num_dependents': 1,\n",
       "  'own_telephone': 'none',\n",
       "  'foreign_worker': 'yes'},\n",
       " {'checking_status': \"'0<=X<200'\",\n",
       "  'duration': 9,\n",
       "  'credit_history': \"'existing paid'\",\n",
       "  'purpose': \"'new car'\",\n",
       "  'credit_amount': 3195,\n",
       "  'savings_status': \"'no known savings'\",\n",
       "  'employment': \"'1<=X<4'\",\n",
       "  'installment_commitment': 1,\n",
       "  'personal_status': \"'female div/dep/mar'\",\n",
       "  'other_parties': 'none',\n",
       "  'residence_since': 2,\n",
       "  'property_magnitude': \"'real estate'\",\n",
       "  'age': 33,\n",
       "  'other_payment_plans': 'none',\n",
       "  'housing': 'own',\n",
       "  'existing_credits': 1,\n",
       "  'job': \"'unskilled resident'\",\n",
       "  'num_dependents': 1,\n",
       "  'own_telephone': 'none',\n",
       "  'foreign_worker': 'yes'},\n",
       " {'checking_status': \"'0<=X<200'\",\n",
       "  'duration': 36,\n",
       "  'credit_history': \"'delayed previously'\",\n",
       "  'purpose': \"'new car'\",\n",
       "  'credit_amount': 2862,\n",
       "  'savings_status': \"'100<=X<500'\",\n",
       "  'employment': \"'>=7'\",\n",
       "  'installment_commitment': 4,\n",
       "  'personal_status': \"'male single'\",\n",
       "  'other_parties': 'none',\n",
       "  'residence_since': 3,\n",
       "  'property_magnitude': \"'no known property'\",\n",
       "  'age': 30,\n",
       "  'other_payment_plans': 'none',\n",
       "  'housing': \"'for free'\",\n",
       "  'existing_credits': 1,\n",
       "  'job': 'skilled',\n",
       "  'num_dependents': 1,\n",
       "  'own_telephone': 'none',\n",
       "  'foreign_worker': 'yes'},\n",
       " {'checking_status': \"'0<=X<200'\",\n",
       "  'duration': 48,\n",
       "  'credit_history': \"'no credits/all paid'\",\n",
       "  'purpose': 'business',\n",
       "  'credit_amount': 12204,\n",
       "  'savings_status': \"'no known savings'\",\n",
       "  'employment': \"'1<=X<4'\",\n",
       "  'installment_commitment': 2,\n",
       "  'personal_status': \"'male single'\",\n",
       "  'other_parties': 'none',\n",
       "  'residence_since': 2,\n",
       "  'property_magnitude': 'car',\n",
       "  'age': 48,\n",
       "  'other_payment_plans': 'bank',\n",
       "  'housing': 'own',\n",
       "  'existing_credits': 1,\n",
       "  'job': \"'high qualif/self emp/mgmt'\",\n",
       "  'num_dependents': 1,\n",
       "  'own_telephone': 'yes',\n",
       "  'foreign_worker': 'yes'}]"
      ]
     },
     "execution_count": 19,
     "metadata": {},
     "output_type": "execute_result"
    }
   ],
   "source": [
    "train_dicts[:5]"
   ]
  },
  {
   "cell_type": "code",
   "execution_count": 20,
   "id": "344c5dab",
   "metadata": {},
   "outputs": [],
   "source": [
    "dv = DictVectorizer(sparse=False)\n",
    "X_train = dv.fit_transform(train_dicts)"
   ]
  },
  {
   "cell_type": "code",
   "execution_count": 21,
   "id": "f1daed9f",
   "metadata": {
    "scrolled": true
   },
   "outputs": [
    {
     "data": {
      "text/plain": [
       "array([[25.,  0.,  1., ...,  1.,  0.,  0.],\n",
       "       [28.,  0.,  0., ...,  1.,  0.,  0.],\n",
       "       [33.,  1.,  0., ...,  0.,  0.,  1.],\n",
       "       ...,\n",
       "       [33.,  1.,  0., ...,  1.,  0.,  0.],\n",
       "       [32.,  0.,  0., ...,  1.,  0.,  0.],\n",
       "       [21.,  0.,  1., ...,  1.,  0.,  0.]])"
      ]
     },
     "execution_count": 21,
     "metadata": {},
     "output_type": "execute_result"
    }
   ],
   "source": [
    "X_train"
   ]
  },
  {
   "cell_type": "code",
   "execution_count": 22,
   "id": "327f07d5",
   "metadata": {
    "scrolled": true
   },
   "outputs": [
    {
     "data": {
      "text/plain": [
       "['age',\n",
       " \"checking_status='0<=X<200'\",\n",
       " \"checking_status='<0'\",\n",
       " \"checking_status='>=200'\",\n",
       " \"checking_status='no checking'\",\n",
       " 'credit_amount',\n",
       " \"credit_history='all paid'\",\n",
       " \"credit_history='critical/other existing credit'\",\n",
       " \"credit_history='delayed previously'\",\n",
       " \"credit_history='existing paid'\",\n",
       " \"credit_history='no credits/all paid'\",\n",
       " 'duration',\n",
       " \"employment='1<=X<4'\",\n",
       " \"employment='4<=X<7'\",\n",
       " \"employment='<1'\",\n",
       " \"employment='>=7'\",\n",
       " 'employment=unemployed',\n",
       " 'existing_credits',\n",
       " 'foreign_worker=no',\n",
       " 'foreign_worker=yes',\n",
       " \"housing='for free'\",\n",
       " 'housing=own',\n",
       " 'housing=rent',\n",
       " 'installment_commitment',\n",
       " \"job='high qualif/self emp/mgmt'\",\n",
       " \"job='unemp/unskilled non res'\",\n",
       " \"job='unskilled resident'\",\n",
       " 'job=skilled',\n",
       " 'num_dependents',\n",
       " \"other_parties='co applicant'\",\n",
       " 'other_parties=guarantor',\n",
       " 'other_parties=none',\n",
       " 'other_payment_plans=bank',\n",
       " 'other_payment_plans=none',\n",
       " 'other_payment_plans=stores',\n",
       " 'own_telephone=none',\n",
       " 'own_telephone=yes',\n",
       " \"personal_status='female div/dep/mar'\",\n",
       " \"personal_status='male div/sep'\",\n",
       " \"personal_status='male mar/wid'\",\n",
       " \"personal_status='male single'\",\n",
       " \"property_magnitude='life insurance'\",\n",
       " \"property_magnitude='no known property'\",\n",
       " \"property_magnitude='real estate'\",\n",
       " 'property_magnitude=car',\n",
       " \"purpose='domestic appliance'\",\n",
       " \"purpose='new car'\",\n",
       " \"purpose='used car'\",\n",
       " 'purpose=business',\n",
       " 'purpose=education',\n",
       " 'purpose=furniture/equipment',\n",
       " 'purpose=other',\n",
       " 'purpose=radio/tv',\n",
       " 'purpose=repairs',\n",
       " 'purpose=retraining',\n",
       " 'residence_since',\n",
       " \"savings_status='100<=X<500'\",\n",
       " \"savings_status='500<=X<1000'\",\n",
       " \"savings_status='<100'\",\n",
       " \"savings_status='>=1000'\",\n",
       " \"savings_status='no known savings'\"]"
      ]
     },
     "execution_count": 22,
     "metadata": {},
     "output_type": "execute_result"
    }
   ],
   "source": [
    "dv.get_feature_names()"
   ]
  },
  {
   "cell_type": "markdown",
   "id": "9b6652e0",
   "metadata": {},
   "source": [
    "## Feature Importance: Mutual Information"
   ]
  },
  {
   "cell_type": "code",
   "execution_count": 23,
   "id": "04ee720a",
   "metadata": {},
   "outputs": [],
   "source": [
    "from sklearn.metrics import mutual_info_score"
   ]
  },
  {
   "cell_type": "code",
   "execution_count": 24,
   "id": "4b4fe3b6",
   "metadata": {},
   "outputs": [],
   "source": [
    "def mutual_info_bad_score(series):\n",
    "    return mutual_info_score(series, df_full_train['class'])"
   ]
  },
  {
   "cell_type": "code",
   "execution_count": 25,
   "id": "eb30964c",
   "metadata": {},
   "outputs": [
    {
     "data": {
      "text/plain": [
       "checking_status        0.068698\n",
       "credit_history         0.026678\n",
       "savings_status         0.020226\n",
       "purpose                0.014132\n",
       "employment             0.012263\n",
       "property_magnitude     0.008933\n",
       "other_payment_plans    0.007642\n",
       "housing                0.005749\n",
       "other_parties          0.005018\n",
       "personal_status        0.003406\n",
       "foreign_worker         0.002906\n",
       "job                    0.002038\n",
       "own_telephone          0.000462\n",
       "dtype: float64"
      ]
     },
     "execution_count": 25,
     "metadata": {},
     "output_type": "execute_result"
    }
   ],
   "source": [
    "mi = df_full_train[categorical].apply(mutual_info_bad_score)\n",
    "mi.sort_values(ascending=False)"
   ]
  },
  {
   "cell_type": "markdown",
   "id": "a2d5ea93",
   "metadata": {},
   "source": [
    "## Feature Importance: Correlation"
   ]
  },
  {
   "cell_type": "code",
   "execution_count": 26,
   "id": "3bd60ff8",
   "metadata": {
    "scrolled": true
   },
   "outputs": [
    {
     "data": {
      "text/html": [
       "<div>\n",
       "<style scoped>\n",
       "    .dataframe tbody tr th:only-of-type {\n",
       "        vertical-align: middle;\n",
       "    }\n",
       "\n",
       "    .dataframe tbody tr th {\n",
       "        vertical-align: top;\n",
       "    }\n",
       "\n",
       "    .dataframe thead th {\n",
       "        text-align: right;\n",
       "    }\n",
       "</style>\n",
       "<table border=\"1\" class=\"dataframe\">\n",
       "  <thead>\n",
       "    <tr style=\"text-align: right;\">\n",
       "      <th></th>\n",
       "      <th>duration</th>\n",
       "      <th>credit_amount</th>\n",
       "      <th>installment_commitment</th>\n",
       "      <th>residence_since</th>\n",
       "      <th>age</th>\n",
       "      <th>existing_credits</th>\n",
       "      <th>num_dependents</th>\n",
       "    </tr>\n",
       "  </thead>\n",
       "  <tbody>\n",
       "    <tr>\n",
       "      <th>count</th>\n",
       "      <td>800.000000</td>\n",
       "      <td>800.000000</td>\n",
       "      <td>800.000000</td>\n",
       "      <td>800.000000</td>\n",
       "      <td>800.000000</td>\n",
       "      <td>800.000000</td>\n",
       "      <td>800.000000</td>\n",
       "    </tr>\n",
       "    <tr>\n",
       "      <th>mean</th>\n",
       "      <td>21.042500</td>\n",
       "      <td>3297.265000</td>\n",
       "      <td>2.968750</td>\n",
       "      <td>2.847500</td>\n",
       "      <td>35.443750</td>\n",
       "      <td>1.406250</td>\n",
       "      <td>1.156250</td>\n",
       "    </tr>\n",
       "    <tr>\n",
       "      <th>std</th>\n",
       "      <td>12.108115</td>\n",
       "      <td>2817.713676</td>\n",
       "      <td>1.127769</td>\n",
       "      <td>1.103751</td>\n",
       "      <td>11.464778</td>\n",
       "      <td>0.582353</td>\n",
       "      <td>0.363319</td>\n",
       "    </tr>\n",
       "    <tr>\n",
       "      <th>min</th>\n",
       "      <td>4.000000</td>\n",
       "      <td>250.000000</td>\n",
       "      <td>1.000000</td>\n",
       "      <td>1.000000</td>\n",
       "      <td>19.000000</td>\n",
       "      <td>1.000000</td>\n",
       "      <td>1.000000</td>\n",
       "    </tr>\n",
       "    <tr>\n",
       "      <th>25%</th>\n",
       "      <td>12.000000</td>\n",
       "      <td>1374.000000</td>\n",
       "      <td>2.000000</td>\n",
       "      <td>2.000000</td>\n",
       "      <td>27.000000</td>\n",
       "      <td>1.000000</td>\n",
       "      <td>1.000000</td>\n",
       "    </tr>\n",
       "    <tr>\n",
       "      <th>50%</th>\n",
       "      <td>18.000000</td>\n",
       "      <td>2324.000000</td>\n",
       "      <td>3.000000</td>\n",
       "      <td>3.000000</td>\n",
       "      <td>33.000000</td>\n",
       "      <td>1.000000</td>\n",
       "      <td>1.000000</td>\n",
       "    </tr>\n",
       "    <tr>\n",
       "      <th>75%</th>\n",
       "      <td>24.000000</td>\n",
       "      <td>4119.500000</td>\n",
       "      <td>4.000000</td>\n",
       "      <td>4.000000</td>\n",
       "      <td>42.000000</td>\n",
       "      <td>2.000000</td>\n",
       "      <td>1.000000</td>\n",
       "    </tr>\n",
       "    <tr>\n",
       "      <th>max</th>\n",
       "      <td>72.000000</td>\n",
       "      <td>18424.000000</td>\n",
       "      <td>4.000000</td>\n",
       "      <td>4.000000</td>\n",
       "      <td>75.000000</td>\n",
       "      <td>4.000000</td>\n",
       "      <td>2.000000</td>\n",
       "    </tr>\n",
       "  </tbody>\n",
       "</table>\n",
       "</div>"
      ],
      "text/plain": [
       "         duration  credit_amount  installment_commitment  residence_since  \\\n",
       "count  800.000000     800.000000              800.000000       800.000000   \n",
       "mean    21.042500    3297.265000                2.968750         2.847500   \n",
       "std     12.108115    2817.713676                1.127769         1.103751   \n",
       "min      4.000000     250.000000                1.000000         1.000000   \n",
       "25%     12.000000    1374.000000                2.000000         2.000000   \n",
       "50%     18.000000    2324.000000                3.000000         3.000000   \n",
       "75%     24.000000    4119.500000                4.000000         4.000000   \n",
       "max     72.000000   18424.000000                4.000000         4.000000   \n",
       "\n",
       "              age  existing_credits  num_dependents  \n",
       "count  800.000000        800.000000      800.000000  \n",
       "mean    35.443750          1.406250        1.156250  \n",
       "std     11.464778          0.582353        0.363319  \n",
       "min     19.000000          1.000000        1.000000  \n",
       "25%     27.000000          1.000000        1.000000  \n",
       "50%     33.000000          1.000000        1.000000  \n",
       "75%     42.000000          2.000000        1.000000  \n",
       "max     75.000000          4.000000        2.000000  "
      ]
     },
     "execution_count": 26,
     "metadata": {},
     "output_type": "execute_result"
    }
   ],
   "source": [
    "df_full_train[numerical].describe()"
   ]
  },
  {
   "cell_type": "code",
   "execution_count": 40,
   "id": "0d86fa18",
   "metadata": {},
   "outputs": [
    {
     "data": {
      "text/plain": [
       "duration                  0.188880\n",
       "credit_amount             0.128087\n",
       "installment_commitment    0.068990\n",
       "residence_since          -0.016620\n",
       "age                      -0.073887\n",
       "existing_credits         -0.026721\n",
       "num_dependents           -0.008943\n",
       "dtype: float64"
      ]
     },
     "execution_count": 40,
     "metadata": {},
     "output_type": "execute_result"
    }
   ],
   "source": [
    "df_full_train[numerical].corrwith((df_full_train['class']=='bad').astype(int))"
   ]
  },
  {
   "cell_type": "markdown",
   "id": "66cefbd3",
   "metadata": {},
   "source": [
    "## Modeling Using Autosklearn"
   ]
  },
  {
   "cell_type": "code",
   "execution_count": 28,
   "id": "e6d566e3",
   "metadata": {},
   "outputs": [],
   "source": [
    "import autosklearn"
   ]
  },
  {
   "cell_type": "code",
   "execution_count": 29,
   "id": "3a48e531",
   "metadata": {
    "scrolled": true
   },
   "outputs": [
    {
     "name": "stdout",
     "output_type": "stream",
     "text": [
      "autosklearn: 0.14.0\n"
     ]
    }
   ],
   "source": [
    "print('autosklearn: %s' % autosklearn.__version__)"
   ]
  },
  {
   "cell_type": "code",
   "execution_count": 30,
   "id": "e3b7d389",
   "metadata": {},
   "outputs": [],
   "source": [
    "## define search\n",
    "from sklearn.metrics import accuracy_score\n",
    "from autosklearn.classification import AutoSklearnClassifier\n",
    "\n",
    "model = AutoSklearnClassifier(time_left_for_this_task=2*60, per_run_time_limit=30, n_jobs=-1, memory_limit=None)"
   ]
  },
  {
   "cell_type": "code",
   "execution_count": 31,
   "id": "4b407e7b",
   "metadata": {},
   "outputs": [
    {
     "data": {
      "text/plain": [
       "AutoSklearnClassifier(memory_limit=None, n_jobs=-1, per_run_time_limit=30,\n",
       "                      time_left_for_this_task=120)"
      ]
     },
     "execution_count": 31,
     "metadata": {},
     "output_type": "execute_result"
    }
   ],
   "source": [
    "# perform the search\n",
    "model.fit(X_train, y_train)"
   ]
  },
  {
   "cell_type": "code",
   "execution_count": 32,
   "id": "4d65c2d1",
   "metadata": {},
   "outputs": [
    {
     "name": "stdout",
     "output_type": "stream",
     "text": [
      "auto-sklearn results:\n",
      "  Dataset name: d03b3be4-3a3d-11ec-8807-acde48001122\n",
      "  Metric: accuracy\n",
      "  Best validation score: 0.717172\n",
      "  Number of target algorithm runs: 27\n",
      "  Number of successful target algorithm runs: 26\n",
      "  Number of crashed target algorithm runs: 0\n",
      "  Number of target algorithms that exceeded the time limit: 1\n",
      "  Number of target algorithms that exceeded the memory limit: 0\n",
      "\n"
     ]
    }
   ],
   "source": [
    "# summarize\n",
    "print(model.sprint_statistics())"
   ]
  },
  {
   "cell_type": "code",
   "execution_count": 33,
   "id": "e21630dd",
   "metadata": {},
   "outputs": [],
   "source": [
    "# evaluate best model\n",
    "\n",
    "test_dicts = df_test.to_dict(orient = 'records')\n",
    "dv = DictVectorizer(sparse=False)\n",
    "X_val = dv.fit_transform(test_dicts)"
   ]
  },
  {
   "cell_type": "code",
   "execution_count": 34,
   "id": "da21799f",
   "metadata": {
    "scrolled": true
   },
   "outputs": [
    {
     "data": {
      "text/plain": [
       "['age',\n",
       " \"checking_status='0<=X<200'\",\n",
       " \"checking_status='<0'\",\n",
       " \"checking_status='>=200'\",\n",
       " \"checking_status='no checking'\",\n",
       " 'credit_amount',\n",
       " \"credit_history='all paid'\",\n",
       " \"credit_history='critical/other existing credit'\",\n",
       " \"credit_history='delayed previously'\",\n",
       " \"credit_history='existing paid'\",\n",
       " \"credit_history='no credits/all paid'\",\n",
       " 'duration',\n",
       " \"employment='1<=X<4'\",\n",
       " \"employment='4<=X<7'\",\n",
       " \"employment='<1'\",\n",
       " \"employment='>=7'\",\n",
       " 'employment=unemployed',\n",
       " 'existing_credits',\n",
       " 'foreign_worker=no',\n",
       " 'foreign_worker=yes',\n",
       " \"housing='for free'\",\n",
       " 'housing=own',\n",
       " 'housing=rent',\n",
       " 'installment_commitment',\n",
       " \"job='high qualif/self emp/mgmt'\",\n",
       " \"job='unemp/unskilled non res'\",\n",
       " \"job='unskilled resident'\",\n",
       " 'job=skilled',\n",
       " 'num_dependents',\n",
       " \"other_parties='co applicant'\",\n",
       " 'other_parties=guarantor',\n",
       " 'other_parties=none',\n",
       " 'other_payment_plans=bank',\n",
       " 'other_payment_plans=none',\n",
       " 'other_payment_plans=stores',\n",
       " 'own_telephone=none',\n",
       " 'own_telephone=yes',\n",
       " \"personal_status='female div/dep/mar'\",\n",
       " \"personal_status='male div/sep'\",\n",
       " \"personal_status='male mar/wid'\",\n",
       " \"personal_status='male single'\",\n",
       " \"property_magnitude='life insurance'\",\n",
       " \"property_magnitude='no known property'\",\n",
       " \"property_magnitude='real estate'\",\n",
       " 'property_magnitude=car',\n",
       " \"purpose='domestic appliance'\",\n",
       " \"purpose='new car'\",\n",
       " \"purpose='used car'\",\n",
       " 'purpose=business',\n",
       " 'purpose=education',\n",
       " 'purpose=furniture/equipment',\n",
       " 'purpose=other',\n",
       " 'purpose=radio/tv',\n",
       " 'purpose=repairs',\n",
       " 'purpose=retraining',\n",
       " 'residence_since',\n",
       " \"savings_status='100<=X<500'\",\n",
       " \"savings_status='500<=X<1000'\",\n",
       " \"savings_status='<100'\",\n",
       " \"savings_status='>=1000'\",\n",
       " \"savings_status='no known savings'\"]"
      ]
     },
     "execution_count": 34,
     "metadata": {},
     "output_type": "execute_result"
    }
   ],
   "source": [
    "dv.get_feature_names()"
   ]
  },
  {
   "cell_type": "code",
   "execution_count": 35,
   "id": "ebfc10a6",
   "metadata": {},
   "outputs": [
    {
     "data": {
      "text/plain": [
       "array([[28.,  0.,  0., ...,  1.,  0.,  0.],\n",
       "       [49.,  0.,  0., ...,  0.,  0.,  1.],\n",
       "       [61.,  0.,  0., ...,  1.,  0.,  0.],\n",
       "       ...,\n",
       "       [46.,  1.,  0., ...,  1.,  0.,  0.],\n",
       "       [30.,  0.,  0., ...,  0.,  0.,  1.],\n",
       "       [44.,  0.,  0., ...,  1.,  0.,  0.]])"
      ]
     },
     "execution_count": 35,
     "metadata": {},
     "output_type": "execute_result"
    }
   ],
   "source": [
    "X_val"
   ]
  },
  {
   "cell_type": "code",
   "execution_count": 36,
   "id": "01e19bb6",
   "metadata": {},
   "outputs": [],
   "source": [
    "y_pred = model.predict(X_val)"
   ]
  },
  {
   "cell_type": "code",
   "execution_count": 37,
   "id": "4cfc66cd",
   "metadata": {},
   "outputs": [
    {
     "name": "stdout",
     "output_type": "stream",
     "text": [
      "accuracy: 0.750\n"
     ]
    }
   ],
   "source": [
    "acc = accuracy_score(y_test, y_pred)\n",
    "print('accuracy: %.3f' %acc)"
   ]
  },
  {
   "cell_type": "markdown",
   "id": "81c2d300",
   "metadata": {},
   "source": [
    "## Modeling Using Decision Tree"
   ]
  },
  {
   "cell_type": "code",
   "execution_count": 89,
   "id": "1c2fa8b0",
   "metadata": {},
   "outputs": [],
   "source": [
    "from sklearn.tree import DecisionTreeClassifier\n",
    "from sklearn.feature_extraction import DictVectorizer\n",
    "from sklearn.metrics import roc_auc_score"
   ]
  },
  {
   "cell_type": "code",
   "execution_count": 90,
   "id": "d9a5d96f",
   "metadata": {},
   "outputs": [
    {
     "data": {
      "text/html": [
       "<div>\n",
       "<style scoped>\n",
       "    .dataframe tbody tr th:only-of-type {\n",
       "        vertical-align: middle;\n",
       "    }\n",
       "\n",
       "    .dataframe tbody tr th {\n",
       "        vertical-align: top;\n",
       "    }\n",
       "\n",
       "    .dataframe thead th {\n",
       "        text-align: right;\n",
       "    }\n",
       "</style>\n",
       "<table border=\"1\" class=\"dataframe\">\n",
       "  <thead>\n",
       "    <tr style=\"text-align: right;\">\n",
       "      <th></th>\n",
       "      <th>checking_status</th>\n",
       "      <th>duration</th>\n",
       "      <th>credit_history</th>\n",
       "      <th>purpose</th>\n",
       "      <th>credit_amount</th>\n",
       "      <th>savings_status</th>\n",
       "      <th>employment</th>\n",
       "      <th>installment_commitment</th>\n",
       "      <th>personal_status</th>\n",
       "      <th>other_parties</th>\n",
       "      <th>residence_since</th>\n",
       "      <th>property_magnitude</th>\n",
       "      <th>age</th>\n",
       "      <th>other_payment_plans</th>\n",
       "      <th>housing</th>\n",
       "      <th>existing_credits</th>\n",
       "      <th>job</th>\n",
       "      <th>num_dependents</th>\n",
       "      <th>own_telephone</th>\n",
       "      <th>foreign_worker</th>\n",
       "    </tr>\n",
       "  </thead>\n",
       "  <tbody>\n",
       "    <tr>\n",
       "      <th>0</th>\n",
       "      <td>'&lt;0'</td>\n",
       "      <td>36</td>\n",
       "      <td>'critical/other existing credit'</td>\n",
       "      <td>education</td>\n",
       "      <td>8065</td>\n",
       "      <td>'&lt;100'</td>\n",
       "      <td>'1&lt;=X&lt;4'</td>\n",
       "      <td>3</td>\n",
       "      <td>'female div/dep/mar'</td>\n",
       "      <td>none</td>\n",
       "      <td>2</td>\n",
       "      <td>'no known property'</td>\n",
       "      <td>25</td>\n",
       "      <td>none</td>\n",
       "      <td>own</td>\n",
       "      <td>2</td>\n",
       "      <td>'high qualif/self emp/mgmt'</td>\n",
       "      <td>1</td>\n",
       "      <td>yes</td>\n",
       "      <td>yes</td>\n",
       "    </tr>\n",
       "    <tr>\n",
       "      <th>1</th>\n",
       "      <td>'no checking'</td>\n",
       "      <td>24</td>\n",
       "      <td>'existing paid'</td>\n",
       "      <td>radio/tv</td>\n",
       "      <td>1413</td>\n",
       "      <td>'&lt;100'</td>\n",
       "      <td>'1&lt;=X&lt;4'</td>\n",
       "      <td>4</td>\n",
       "      <td>'male mar/wid'</td>\n",
       "      <td>none</td>\n",
       "      <td>2</td>\n",
       "      <td>'life insurance'</td>\n",
       "      <td>28</td>\n",
       "      <td>none</td>\n",
       "      <td>own</td>\n",
       "      <td>1</td>\n",
       "      <td>skilled</td>\n",
       "      <td>1</td>\n",
       "      <td>none</td>\n",
       "      <td>yes</td>\n",
       "    </tr>\n",
       "    <tr>\n",
       "      <th>2</th>\n",
       "      <td>'0&lt;=X&lt;200'</td>\n",
       "      <td>9</td>\n",
       "      <td>'existing paid'</td>\n",
       "      <td>'new car'</td>\n",
       "      <td>3195</td>\n",
       "      <td>'no known savings'</td>\n",
       "      <td>'1&lt;=X&lt;4'</td>\n",
       "      <td>1</td>\n",
       "      <td>'female div/dep/mar'</td>\n",
       "      <td>none</td>\n",
       "      <td>2</td>\n",
       "      <td>'real estate'</td>\n",
       "      <td>33</td>\n",
       "      <td>none</td>\n",
       "      <td>own</td>\n",
       "      <td>1</td>\n",
       "      <td>'unskilled resident'</td>\n",
       "      <td>1</td>\n",
       "      <td>none</td>\n",
       "      <td>yes</td>\n",
       "    </tr>\n",
       "    <tr>\n",
       "      <th>3</th>\n",
       "      <td>'0&lt;=X&lt;200'</td>\n",
       "      <td>36</td>\n",
       "      <td>'delayed previously'</td>\n",
       "      <td>'new car'</td>\n",
       "      <td>2862</td>\n",
       "      <td>'100&lt;=X&lt;500'</td>\n",
       "      <td>'&gt;=7'</td>\n",
       "      <td>4</td>\n",
       "      <td>'male single'</td>\n",
       "      <td>none</td>\n",
       "      <td>3</td>\n",
       "      <td>'no known property'</td>\n",
       "      <td>30</td>\n",
       "      <td>none</td>\n",
       "      <td>'for free'</td>\n",
       "      <td>1</td>\n",
       "      <td>skilled</td>\n",
       "      <td>1</td>\n",
       "      <td>none</td>\n",
       "      <td>yes</td>\n",
       "    </tr>\n",
       "    <tr>\n",
       "      <th>4</th>\n",
       "      <td>'0&lt;=X&lt;200'</td>\n",
       "      <td>48</td>\n",
       "      <td>'no credits/all paid'</td>\n",
       "      <td>business</td>\n",
       "      <td>12204</td>\n",
       "      <td>'no known savings'</td>\n",
       "      <td>'1&lt;=X&lt;4'</td>\n",
       "      <td>2</td>\n",
       "      <td>'male single'</td>\n",
       "      <td>none</td>\n",
       "      <td>2</td>\n",
       "      <td>car</td>\n",
       "      <td>48</td>\n",
       "      <td>bank</td>\n",
       "      <td>own</td>\n",
       "      <td>1</td>\n",
       "      <td>'high qualif/self emp/mgmt'</td>\n",
       "      <td>1</td>\n",
       "      <td>yes</td>\n",
       "      <td>yes</td>\n",
       "    </tr>\n",
       "  </tbody>\n",
       "</table>\n",
       "</div>"
      ],
      "text/plain": [
       "  checking_status  duration                    credit_history    purpose  \\\n",
       "0            '<0'        36  'critical/other existing credit'  education   \n",
       "1   'no checking'        24                   'existing paid'   radio/tv   \n",
       "2      '0<=X<200'         9                   'existing paid'  'new car'   \n",
       "3      '0<=X<200'        36              'delayed previously'  'new car'   \n",
       "4      '0<=X<200'        48             'no credits/all paid'   business   \n",
       "\n",
       "   credit_amount      savings_status employment  installment_commitment  \\\n",
       "0           8065              '<100'   '1<=X<4'                       3   \n",
       "1           1413              '<100'   '1<=X<4'                       4   \n",
       "2           3195  'no known savings'   '1<=X<4'                       1   \n",
       "3           2862        '100<=X<500'      '>=7'                       4   \n",
       "4          12204  'no known savings'   '1<=X<4'                       2   \n",
       "\n",
       "        personal_status other_parties  residence_since   property_magnitude  \\\n",
       "0  'female div/dep/mar'          none                2  'no known property'   \n",
       "1        'male mar/wid'          none                2     'life insurance'   \n",
       "2  'female div/dep/mar'          none                2        'real estate'   \n",
       "3         'male single'          none                3  'no known property'   \n",
       "4         'male single'          none                2                  car   \n",
       "\n",
       "   age other_payment_plans     housing  existing_credits  \\\n",
       "0   25                none         own                 2   \n",
       "1   28                none         own                 1   \n",
       "2   33                none         own                 1   \n",
       "3   30                none  'for free'                 1   \n",
       "4   48                bank         own                 1   \n",
       "\n",
       "                           job  num_dependents own_telephone foreign_worker  \n",
       "0  'high qualif/self emp/mgmt'               1           yes            yes  \n",
       "1                      skilled               1          none            yes  \n",
       "2         'unskilled resident'               1          none            yes  \n",
       "3                      skilled               1          none            yes  \n",
       "4  'high qualif/self emp/mgmt'               1           yes            yes  "
      ]
     },
     "execution_count": 90,
     "metadata": {},
     "output_type": "execute_result"
    }
   ],
   "source": [
    "df_train.head()"
   ]
  },
  {
   "cell_type": "code",
   "execution_count": 91,
   "id": "fc34f7e8",
   "metadata": {},
   "outputs": [],
   "source": [
    "train_dicts = df_train.to_dict(orient='records')"
   ]
  },
  {
   "cell_type": "code",
   "execution_count": 92,
   "id": "d07d94ee",
   "metadata": {
    "scrolled": true
   },
   "outputs": [
    {
     "data": {
      "text/plain": [
       "[{'checking_status': \"'<0'\",\n",
       "  'duration': 36,\n",
       "  'credit_history': \"'critical/other existing credit'\",\n",
       "  'purpose': 'education',\n",
       "  'credit_amount': 8065,\n",
       "  'savings_status': \"'<100'\",\n",
       "  'employment': \"'1<=X<4'\",\n",
       "  'installment_commitment': 3,\n",
       "  'personal_status': \"'female div/dep/mar'\",\n",
       "  'other_parties': 'none',\n",
       "  'residence_since': 2,\n",
       "  'property_magnitude': \"'no known property'\",\n",
       "  'age': 25,\n",
       "  'other_payment_plans': 'none',\n",
       "  'housing': 'own',\n",
       "  'existing_credits': 2,\n",
       "  'job': \"'high qualif/self emp/mgmt'\",\n",
       "  'num_dependents': 1,\n",
       "  'own_telephone': 'yes',\n",
       "  'foreign_worker': 'yes'},\n",
       " {'checking_status': \"'no checking'\",\n",
       "  'duration': 24,\n",
       "  'credit_history': \"'existing paid'\",\n",
       "  'purpose': 'radio/tv',\n",
       "  'credit_amount': 1413,\n",
       "  'savings_status': \"'<100'\",\n",
       "  'employment': \"'1<=X<4'\",\n",
       "  'installment_commitment': 4,\n",
       "  'personal_status': \"'male mar/wid'\",\n",
       "  'other_parties': 'none',\n",
       "  'residence_since': 2,\n",
       "  'property_magnitude': \"'life insurance'\",\n",
       "  'age': 28,\n",
       "  'other_payment_plans': 'none',\n",
       "  'housing': 'own',\n",
       "  'existing_credits': 1,\n",
       "  'job': 'skilled',\n",
       "  'num_dependents': 1,\n",
       "  'own_telephone': 'none',\n",
       "  'foreign_worker': 'yes'},\n",
       " {'checking_status': \"'0<=X<200'\",\n",
       "  'duration': 9,\n",
       "  'credit_history': \"'existing paid'\",\n",
       "  'purpose': \"'new car'\",\n",
       "  'credit_amount': 3195,\n",
       "  'savings_status': \"'no known savings'\",\n",
       "  'employment': \"'1<=X<4'\",\n",
       "  'installment_commitment': 1,\n",
       "  'personal_status': \"'female div/dep/mar'\",\n",
       "  'other_parties': 'none',\n",
       "  'residence_since': 2,\n",
       "  'property_magnitude': \"'real estate'\",\n",
       "  'age': 33,\n",
       "  'other_payment_plans': 'none',\n",
       "  'housing': 'own',\n",
       "  'existing_credits': 1,\n",
       "  'job': \"'unskilled resident'\",\n",
       "  'num_dependents': 1,\n",
       "  'own_telephone': 'none',\n",
       "  'foreign_worker': 'yes'},\n",
       " {'checking_status': \"'0<=X<200'\",\n",
       "  'duration': 36,\n",
       "  'credit_history': \"'delayed previously'\",\n",
       "  'purpose': \"'new car'\",\n",
       "  'credit_amount': 2862,\n",
       "  'savings_status': \"'100<=X<500'\",\n",
       "  'employment': \"'>=7'\",\n",
       "  'installment_commitment': 4,\n",
       "  'personal_status': \"'male single'\",\n",
       "  'other_parties': 'none',\n",
       "  'residence_since': 3,\n",
       "  'property_magnitude': \"'no known property'\",\n",
       "  'age': 30,\n",
       "  'other_payment_plans': 'none',\n",
       "  'housing': \"'for free'\",\n",
       "  'existing_credits': 1,\n",
       "  'job': 'skilled',\n",
       "  'num_dependents': 1,\n",
       "  'own_telephone': 'none',\n",
       "  'foreign_worker': 'yes'},\n",
       " {'checking_status': \"'0<=X<200'\",\n",
       "  'duration': 48,\n",
       "  'credit_history': \"'no credits/all paid'\",\n",
       "  'purpose': 'business',\n",
       "  'credit_amount': 12204,\n",
       "  'savings_status': \"'no known savings'\",\n",
       "  'employment': \"'1<=X<4'\",\n",
       "  'installment_commitment': 2,\n",
       "  'personal_status': \"'male single'\",\n",
       "  'other_parties': 'none',\n",
       "  'residence_since': 2,\n",
       "  'property_magnitude': 'car',\n",
       "  'age': 48,\n",
       "  'other_payment_plans': 'bank',\n",
       "  'housing': 'own',\n",
       "  'existing_credits': 1,\n",
       "  'job': \"'high qualif/self emp/mgmt'\",\n",
       "  'num_dependents': 1,\n",
       "  'own_telephone': 'yes',\n",
       "  'foreign_worker': 'yes'}]"
      ]
     },
     "execution_count": 92,
     "metadata": {},
     "output_type": "execute_result"
    }
   ],
   "source": [
    "train_dicts[:5]"
   ]
  },
  {
   "cell_type": "code",
   "execution_count": 93,
   "id": "21d60126",
   "metadata": {},
   "outputs": [],
   "source": [
    "dv = DictVectorizer(sparse=False)\n",
    "X_train = dv.fit_transform(train_dicts)"
   ]
  },
  {
   "cell_type": "code",
   "execution_count": 94,
   "id": "1266a653",
   "metadata": {},
   "outputs": [
    {
     "data": {
      "text/plain": [
       "array([[25.,  0.,  1., ...,  1.,  0.,  0.],\n",
       "       [28.,  0.,  0., ...,  1.,  0.,  0.],\n",
       "       [33.,  1.,  0., ...,  0.,  0.,  1.],\n",
       "       ...,\n",
       "       [33.,  1.,  0., ...,  1.,  0.,  0.],\n",
       "       [32.,  0.,  0., ...,  1.,  0.,  0.],\n",
       "       [21.,  0.,  1., ...,  1.,  0.,  0.]])"
      ]
     },
     "execution_count": 94,
     "metadata": {},
     "output_type": "execute_result"
    }
   ],
   "source": [
    "X_train"
   ]
  },
  {
   "cell_type": "code",
   "execution_count": 95,
   "id": "07f38152",
   "metadata": {},
   "outputs": [
    {
     "data": {
      "text/plain": [
       "['age',\n",
       " \"checking_status='0<=X<200'\",\n",
       " \"checking_status='<0'\",\n",
       " \"checking_status='>=200'\",\n",
       " \"checking_status='no checking'\",\n",
       " 'credit_amount',\n",
       " \"credit_history='all paid'\",\n",
       " \"credit_history='critical/other existing credit'\",\n",
       " \"credit_history='delayed previously'\",\n",
       " \"credit_history='existing paid'\",\n",
       " \"credit_history='no credits/all paid'\",\n",
       " 'duration',\n",
       " \"employment='1<=X<4'\",\n",
       " \"employment='4<=X<7'\",\n",
       " \"employment='<1'\",\n",
       " \"employment='>=7'\",\n",
       " 'employment=unemployed',\n",
       " 'existing_credits',\n",
       " 'foreign_worker=no',\n",
       " 'foreign_worker=yes',\n",
       " \"housing='for free'\",\n",
       " 'housing=own',\n",
       " 'housing=rent',\n",
       " 'installment_commitment',\n",
       " \"job='high qualif/self emp/mgmt'\",\n",
       " \"job='unemp/unskilled non res'\",\n",
       " \"job='unskilled resident'\",\n",
       " 'job=skilled',\n",
       " 'num_dependents',\n",
       " \"other_parties='co applicant'\",\n",
       " 'other_parties=guarantor',\n",
       " 'other_parties=none',\n",
       " 'other_payment_plans=bank',\n",
       " 'other_payment_plans=none',\n",
       " 'other_payment_plans=stores',\n",
       " 'own_telephone=none',\n",
       " 'own_telephone=yes',\n",
       " \"personal_status='female div/dep/mar'\",\n",
       " \"personal_status='male div/sep'\",\n",
       " \"personal_status='male mar/wid'\",\n",
       " \"personal_status='male single'\",\n",
       " \"property_magnitude='life insurance'\",\n",
       " \"property_magnitude='no known property'\",\n",
       " \"property_magnitude='real estate'\",\n",
       " 'property_magnitude=car',\n",
       " \"purpose='domestic appliance'\",\n",
       " \"purpose='new car'\",\n",
       " \"purpose='used car'\",\n",
       " 'purpose=business',\n",
       " 'purpose=education',\n",
       " 'purpose=furniture/equipment',\n",
       " 'purpose=other',\n",
       " 'purpose=radio/tv',\n",
       " 'purpose=repairs',\n",
       " 'purpose=retraining',\n",
       " 'residence_since',\n",
       " \"savings_status='100<=X<500'\",\n",
       " \"savings_status='500<=X<1000'\",\n",
       " \"savings_status='<100'\",\n",
       " \"savings_status='>=1000'\",\n",
       " \"savings_status='no known savings'\"]"
      ]
     },
     "execution_count": 95,
     "metadata": {},
     "output_type": "execute_result"
    }
   ],
   "source": [
    "dv.get_feature_names()"
   ]
  },
  {
   "cell_type": "code",
   "execution_count": 96,
   "id": "3e4a1d5b",
   "metadata": {},
   "outputs": [
    {
     "data": {
      "text/plain": [
       "DecisionTreeClassifier()"
      ]
     },
     "execution_count": 96,
     "metadata": {},
     "output_type": "execute_result"
    }
   ],
   "source": [
    "dt = DecisionTreeClassifier()\n",
    "dt.fit(X_train, y_train)"
   ]
  },
  {
   "cell_type": "code",
   "execution_count": 97,
   "id": "feb2a218",
   "metadata": {},
   "outputs": [],
   "source": [
    "val_dicts = df_val.to_dict(orient='records')\n",
    "X_val = dv.transform(val_dicts)"
   ]
  },
  {
   "cell_type": "code",
   "execution_count": 98,
   "id": "4942c07f",
   "metadata": {
    "scrolled": true
   },
   "outputs": [
    {
     "data": {
      "text/plain": [
       "array([1., 0., 1., 0., 0., 0., 0., 1., 0., 0., 0., 0., 1., 1., 0., 1., 0.,\n",
       "       0., 1., 0., 0., 1., 0., 0., 1., 1., 0., 0., 0., 0., 0., 0., 0., 0.,\n",
       "       1., 1., 0., 0., 0., 1., 0., 0., 1., 1., 1., 0., 0., 0., 0., 0., 0.,\n",
       "       1., 1., 1., 1., 0., 0., 1., 0., 1., 0., 0., 1., 0., 1., 1., 1., 1.,\n",
       "       0., 0., 1., 0., 0., 0., 1., 1., 0., 0., 1., 1., 0., 1., 0., 0., 1.,\n",
       "       0., 0., 1., 1., 1., 0., 0., 0., 1., 0., 0., 0., 1., 0., 0., 1., 1.,\n",
       "       0., 0., 0., 0., 0., 0., 0., 0., 0., 0., 0., 0., 0., 0., 1., 0., 0.,\n",
       "       0., 1., 0., 0., 1., 0., 0., 0., 0., 1., 0., 0., 0., 0., 1., 1., 0.,\n",
       "       1., 0., 0., 0., 1., 1., 1., 0., 0., 1., 0., 0., 0., 0., 0., 1., 0.,\n",
       "       0., 1., 0., 1., 0., 1., 1., 0., 0., 1., 1., 1., 0., 0., 0., 0., 0.,\n",
       "       0., 1., 0., 0., 0., 0., 0., 1., 0., 0., 0., 0., 0., 0., 0., 0., 0.,\n",
       "       0., 0., 0., 1., 1., 0., 0., 0., 0., 0., 0., 0., 0.])"
      ]
     },
     "execution_count": 98,
     "metadata": {},
     "output_type": "execute_result"
    }
   ],
   "source": [
    "y_pred = dt.predict_proba(X_val)[:, 1]\n",
    "y_pred"
   ]
  },
  {
   "cell_type": "code",
   "execution_count": 99,
   "id": "026d556b",
   "metadata": {},
   "outputs": [
    {
     "data": {
      "text/plain": [
       "0.6476091476091477"
      ]
     },
     "execution_count": 99,
     "metadata": {},
     "output_type": "execute_result"
    }
   ],
   "source": [
    "roc_auc_score(y_val, y_pred)"
   ]
  },
  {
   "cell_type": "code",
   "execution_count": 116,
   "id": "5edcb914",
   "metadata": {
    "scrolled": true
   },
   "outputs": [
    {
     "data": {
      "text/plain": [
       "{'checking_status': \"'<0'\",\n",
       " 'duration': 36,\n",
       " 'credit_history': \"'critical/other existing credit'\",\n",
       " 'purpose': 'education',\n",
       " 'credit_amount': 8065,\n",
       " 'savings_status': \"'<100'\",\n",
       " 'employment': \"'1<=X<4'\",\n",
       " 'installment_commitment': 3,\n",
       " 'personal_status': \"'female div/dep/mar'\",\n",
       " 'other_parties': 'none',\n",
       " 'residence_since': 2,\n",
       " 'property_magnitude': \"'no known property'\",\n",
       " 'age': 25,\n",
       " 'other_payment_plans': 'none',\n",
       " 'housing': 'own',\n",
       " 'existing_credits': 2,\n",
       " 'job': \"'high qualif/self emp/mgmt'\",\n",
       " 'num_dependents': 1,\n",
       " 'own_telephone': 'yes',\n",
       " 'foreign_worker': 'yes'}"
      ]
     },
     "execution_count": 116,
     "metadata": {},
     "output_type": "execute_result"
    }
   ],
   "source": [
    "xi = df_train.iloc[0].to_dict()\n",
    "xi"
   ]
  },
  {
   "cell_type": "code",
   "execution_count": 101,
   "id": "c35fedb3",
   "metadata": {},
   "outputs": [
    {
     "data": {
      "text/plain": [
       "1"
      ]
     },
     "execution_count": 101,
     "metadata": {},
     "output_type": "execute_result"
    }
   ],
   "source": [
    "y_train[0]"
   ]
  },
  {
   "cell_type": "code",
   "execution_count": 102,
   "id": "5f893a88",
   "metadata": {},
   "outputs": [
    {
     "data": {
      "text/plain": [
       "1.0"
      ]
     },
     "execution_count": 102,
     "metadata": {},
     "output_type": "execute_result"
    }
   ],
   "source": [
    "y_pred = dt.predict_proba(X_train)[:, 1]\n",
    "roc_auc_score(y_train, y_pred)"
   ]
  },
  {
   "cell_type": "code",
   "execution_count": 103,
   "id": "20f9f2f8",
   "metadata": {},
   "outputs": [
    {
     "data": {
      "text/plain": [
       "DecisionTreeClassifier(max_depth=2)"
      ]
     },
     "execution_count": 103,
     "metadata": {},
     "output_type": "execute_result"
    }
   ],
   "source": [
    "dt = DecisionTreeClassifier(max_depth=2)\n",
    "dt.fit(X_train, y_train)"
   ]
  },
  {
   "cell_type": "code",
   "execution_count": 104,
   "id": "3f66f93a",
   "metadata": {},
   "outputs": [
    {
     "name": "stdout",
     "output_type": "stream",
     "text": [
      "train: 0.7109241078385539\n",
      "val: 0.7487655925155925\n"
     ]
    }
   ],
   "source": [
    "y_pred = dt.predict_proba(X_train)[:, 1]\n",
    "auc = roc_auc_score(y_train, y_pred)\n",
    "print('train:', auc)\n",
    "\n",
    "y_pred = dt.predict_proba(X_val)[:, 1]\n",
    "auc = roc_auc_score(y_val, y_pred)\n",
    "print('val:' , auc)"
   ]
  },
  {
   "cell_type": "code",
   "execution_count": 105,
   "id": "8e8374ff",
   "metadata": {},
   "outputs": [],
   "source": [
    "from sklearn.tree import export_text"
   ]
  },
  {
   "cell_type": "code",
   "execution_count": 106,
   "id": "8db41ce2",
   "metadata": {},
   "outputs": [
    {
     "name": "stdout",
     "output_type": "stream",
     "text": [
      "|--- checking_status='no checking' <= 0.50\n",
      "|   |--- duration <= 11.50\n",
      "|   |   |--- class: 0\n",
      "|   |--- duration >  11.50\n",
      "|   |   |--- class: 0\n",
      "|--- checking_status='no checking' >  0.50\n",
      "|   |--- credit_amount <= 3615.00\n",
      "|   |   |--- class: 0\n",
      "|   |--- credit_amount >  3615.00\n",
      "|   |   |--- class: 0\n",
      "\n"
     ]
    }
   ],
   "source": [
    "print(export_text(dt, feature_names=dv.get_feature_names()))"
   ]
  },
  {
   "cell_type": "markdown",
   "id": "e68bc356",
   "metadata": {},
   "source": [
    "## Decision Trees Parameter Tuning"
   ]
  },
  {
   "cell_type": "code",
   "execution_count": 107,
   "id": "a4784506",
   "metadata": {},
   "outputs": [
    {
     "name": "stdout",
     "output_type": "stream",
     "text": [
      "   1 -> 0.709\n",
      "   2 -> 0.749\n",
      "   3 -> 0.785\n",
      "   4 -> 0.782\n",
      "   5 -> 0.774\n",
      "   6 -> 0.763\n",
      "  10 -> 0.693\n",
      "  15 -> 0.653\n",
      "  20 -> 0.654\n",
      "None -> 0.635\n"
     ]
    }
   ],
   "source": [
    "for d in [1, 2, 3, 4, 5, 6, 10, 15, 20, None]:\n",
    "    dt = DecisionTreeClassifier(max_depth = d)\n",
    "    dt.fit(X_train, y_train)\n",
    "    \n",
    "    y_pred = dt.predict_proba(X_val)[:, 1]\n",
    "    auc = roc_auc_score(y_val, y_pred)\n",
    "    \n",
    "    print('%4s -> %.3f' % (d, auc))"
   ]
  },
  {
   "cell_type": "code",
   "execution_count": 108,
   "id": "2f4b6431",
   "metadata": {},
   "outputs": [],
   "source": [
    "scores = []\n",
    "\n",
    "for d in [4, 5, 6, 7, 10, 15, 20, None]:\n",
    "    for s in [1, 2, 5, 10, 15, 20, 100, 200, 500]:\n",
    "        dt = DecisionTreeClassifier(max_depth = d, min_samples_leaf = s)\n",
    "        dt.fit(X_train, y_train)\n",
    "\n",
    "        y_pred = dt.predict_proba(X_val)[:, 1]\n",
    "            auc = roc_auc_score(y_val, y_pred)\n",
    "\n",
    "        scores.append((d, s, auc))"
   ]
  },
  {
   "cell_type": "code",
   "execution_count": 109,
   "id": "4cf1c116",
   "metadata": {},
   "outputs": [
    {
     "data": {
      "text/html": [
       "<div>\n",
       "<style scoped>\n",
       "    .dataframe tbody tr th:only-of-type {\n",
       "        vertical-align: middle;\n",
       "    }\n",
       "\n",
       "    .dataframe tbody tr th {\n",
       "        vertical-align: top;\n",
       "    }\n",
       "\n",
       "    .dataframe thead th {\n",
       "        text-align: right;\n",
       "    }\n",
       "</style>\n",
       "<table border=\"1\" class=\"dataframe\">\n",
       "  <thead>\n",
       "    <tr style=\"text-align: right;\">\n",
       "      <th></th>\n",
       "      <th>max_depth</th>\n",
       "      <th>min_samples_leaf</th>\n",
       "      <th>auc</th>\n",
       "    </tr>\n",
       "  </thead>\n",
       "  <tbody>\n",
       "    <tr>\n",
       "      <th>0</th>\n",
       "      <td>4.0</td>\n",
       "      <td>1</td>\n",
       "      <td>0.782030</td>\n",
       "    </tr>\n",
       "    <tr>\n",
       "      <th>1</th>\n",
       "      <td>4.0</td>\n",
       "      <td>2</td>\n",
       "      <td>0.782030</td>\n",
       "    </tr>\n",
       "    <tr>\n",
       "      <th>2</th>\n",
       "      <td>4.0</td>\n",
       "      <td>5</td>\n",
       "      <td>0.766827</td>\n",
       "    </tr>\n",
       "    <tr>\n",
       "      <th>3</th>\n",
       "      <td>4.0</td>\n",
       "      <td>10</td>\n",
       "      <td>0.778456</td>\n",
       "    </tr>\n",
       "    <tr>\n",
       "      <th>4</th>\n",
       "      <td>4.0</td>\n",
       "      <td>15</td>\n",
       "      <td>0.774688</td>\n",
       "    </tr>\n",
       "  </tbody>\n",
       "</table>\n",
       "</div>"
      ],
      "text/plain": [
       "   max_depth  min_samples_leaf       auc\n",
       "0        4.0                 1  0.782030\n",
       "1        4.0                 2  0.782030\n",
       "2        4.0                 5  0.766827\n",
       "3        4.0                10  0.778456\n",
       "4        4.0                15  0.774688"
      ]
     },
     "execution_count": 109,
     "metadata": {},
     "output_type": "execute_result"
    }
   ],
   "source": [
    "columns = ['max_depth', 'min_samples_leaf', 'auc']\n",
    "df_scores = pd.DataFrame(scores, columns = columns)\n",
    "df_scores.head()"
   ]
  },
  {
   "cell_type": "code",
   "execution_count": 110,
   "id": "f54ed66f",
   "metadata": {
    "scrolled": true
   },
   "outputs": [
    {
     "data": {
      "text/html": [
       "<div>\n",
       "<style scoped>\n",
       "    .dataframe tbody tr th:only-of-type {\n",
       "        vertical-align: middle;\n",
       "    }\n",
       "\n",
       "    .dataframe tbody tr th {\n",
       "        vertical-align: top;\n",
       "    }\n",
       "\n",
       "    .dataframe thead th {\n",
       "        text-align: right;\n",
       "    }\n",
       "</style>\n",
       "<table border=\"1\" class=\"dataframe\">\n",
       "  <thead>\n",
       "    <tr style=\"text-align: right;\">\n",
       "      <th></th>\n",
       "      <th>max_depth</th>\n",
       "      <th>min_samples_leaf</th>\n",
       "      <th>auc</th>\n",
       "    </tr>\n",
       "  </thead>\n",
       "  <tbody>\n",
       "    <tr>\n",
       "      <th>39</th>\n",
       "      <td>10.0</td>\n",
       "      <td>10</td>\n",
       "      <td>0.816528</td>\n",
       "    </tr>\n",
       "    <tr>\n",
       "      <th>56</th>\n",
       "      <td>20.0</td>\n",
       "      <td>5</td>\n",
       "      <td>0.815683</td>\n",
       "    </tr>\n",
       "    <tr>\n",
       "      <th>57</th>\n",
       "      <td>20.0</td>\n",
       "      <td>10</td>\n",
       "      <td>0.813734</td>\n",
       "    </tr>\n",
       "    <tr>\n",
       "      <th>66</th>\n",
       "      <td>NaN</td>\n",
       "      <td>10</td>\n",
       "      <td>0.811915</td>\n",
       "    </tr>\n",
       "    <tr>\n",
       "      <th>12</th>\n",
       "      <td>5.0</td>\n",
       "      <td>10</td>\n",
       "      <td>0.810291</td>\n",
       "    </tr>\n",
       "  </tbody>\n",
       "</table>\n",
       "</div>"
      ],
      "text/plain": [
       "    max_depth  min_samples_leaf       auc\n",
       "39       10.0                10  0.816528\n",
       "56       20.0                 5  0.815683\n",
       "57       20.0                10  0.813734\n",
       "66        NaN                10  0.811915\n",
       "12        5.0                10  0.810291"
      ]
     },
     "execution_count": 110,
     "metadata": {},
     "output_type": "execute_result"
    }
   ],
   "source": [
    "df_scores.sort_values(by='auc', ascending=False).head()"
   ]
  },
  {
   "cell_type": "code",
   "execution_count": 111,
   "id": "47a21e19",
   "metadata": {},
   "outputs": [
    {
     "data": {
      "text/html": [
       "<div>\n",
       "<style scoped>\n",
       "    .dataframe tbody tr th:only-of-type {\n",
       "        vertical-align: middle;\n",
       "    }\n",
       "\n",
       "    .dataframe tbody tr th {\n",
       "        vertical-align: top;\n",
       "    }\n",
       "\n",
       "    .dataframe thead tr th {\n",
       "        text-align: left;\n",
       "    }\n",
       "\n",
       "    .dataframe thead tr:last-of-type th {\n",
       "        text-align: right;\n",
       "    }\n",
       "</style>\n",
       "<table border=\"1\" class=\"dataframe\">\n",
       "  <thead>\n",
       "    <tr>\n",
       "      <th></th>\n",
       "      <th colspan=\"8\" halign=\"left\">auc</th>\n",
       "    </tr>\n",
       "    <tr>\n",
       "      <th>max_depth</th>\n",
       "      <th>NaN</th>\n",
       "      <th>4.0</th>\n",
       "      <th>5.0</th>\n",
       "      <th>6.0</th>\n",
       "      <th>7.0</th>\n",
       "      <th>10.0</th>\n",
       "      <th>15.0</th>\n",
       "      <th>20.0</th>\n",
       "    </tr>\n",
       "    <tr>\n",
       "      <th>min_samples_leaf</th>\n",
       "      <th></th>\n",
       "      <th></th>\n",
       "      <th></th>\n",
       "      <th></th>\n",
       "      <th></th>\n",
       "      <th></th>\n",
       "      <th></th>\n",
       "      <th></th>\n",
       "    </tr>\n",
       "  </thead>\n",
       "  <tbody>\n",
       "    <tr>\n",
       "      <th>1</th>\n",
       "      <td>0.642</td>\n",
       "      <td>0.782</td>\n",
       "      <td>0.762</td>\n",
       "      <td>0.770</td>\n",
       "      <td>0.730</td>\n",
       "      <td>0.689</td>\n",
       "      <td>0.676</td>\n",
       "      <td>0.684</td>\n",
       "    </tr>\n",
       "    <tr>\n",
       "      <th>2</th>\n",
       "      <td>0.674</td>\n",
       "      <td>0.782</td>\n",
       "      <td>0.767</td>\n",
       "      <td>0.757</td>\n",
       "      <td>0.722</td>\n",
       "      <td>0.675</td>\n",
       "      <td>0.656</td>\n",
       "      <td>0.646</td>\n",
       "    </tr>\n",
       "    <tr>\n",
       "      <th>5</th>\n",
       "      <td>0.761</td>\n",
       "      <td>0.767</td>\n",
       "      <td>0.773</td>\n",
       "      <td>0.790</td>\n",
       "      <td>0.780</td>\n",
       "      <td>0.782</td>\n",
       "      <td>0.792</td>\n",
       "      <td>0.816</td>\n",
       "    </tr>\n",
       "    <tr>\n",
       "      <th>10</th>\n",
       "      <td>0.812</td>\n",
       "      <td>0.778</td>\n",
       "      <td>0.810</td>\n",
       "      <td>0.797</td>\n",
       "      <td>0.804</td>\n",
       "      <td>0.817</td>\n",
       "      <td>0.808</td>\n",
       "      <td>0.814</td>\n",
       "    </tr>\n",
       "    <tr>\n",
       "      <th>15</th>\n",
       "      <td>0.787</td>\n",
       "      <td>0.775</td>\n",
       "      <td>0.798</td>\n",
       "      <td>0.766</td>\n",
       "      <td>0.781</td>\n",
       "      <td>0.789</td>\n",
       "      <td>0.785</td>\n",
       "      <td>0.802</td>\n",
       "    </tr>\n",
       "    <tr>\n",
       "      <th>20</th>\n",
       "      <td>0.778</td>\n",
       "      <td>0.775</td>\n",
       "      <td>0.760</td>\n",
       "      <td>0.783</td>\n",
       "      <td>0.778</td>\n",
       "      <td>0.778</td>\n",
       "      <td>0.778</td>\n",
       "      <td>0.778</td>\n",
       "    </tr>\n",
       "    <tr>\n",
       "      <th>100</th>\n",
       "      <td>0.784</td>\n",
       "      <td>0.784</td>\n",
       "      <td>0.784</td>\n",
       "      <td>0.784</td>\n",
       "      <td>0.784</td>\n",
       "      <td>0.784</td>\n",
       "      <td>0.784</td>\n",
       "      <td>0.784</td>\n",
       "    </tr>\n",
       "    <tr>\n",
       "      <th>200</th>\n",
       "      <td>0.709</td>\n",
       "      <td>0.709</td>\n",
       "      <td>0.709</td>\n",
       "      <td>0.709</td>\n",
       "      <td>0.709</td>\n",
       "      <td>0.709</td>\n",
       "      <td>0.709</td>\n",
       "      <td>0.709</td>\n",
       "    </tr>\n",
       "    <tr>\n",
       "      <th>500</th>\n",
       "      <td>0.500</td>\n",
       "      <td>0.500</td>\n",
       "      <td>0.500</td>\n",
       "      <td>0.500</td>\n",
       "      <td>0.500</td>\n",
       "      <td>0.500</td>\n",
       "      <td>0.500</td>\n",
       "      <td>0.500</td>\n",
       "    </tr>\n",
       "  </tbody>\n",
       "</table>\n",
       "</div>"
      ],
      "text/plain": [
       "                    auc                                                 \n",
       "max_depth           NaN   4.0    5.0    6.0    7.0    10.0   15.0   20.0\n",
       "min_samples_leaf                                                        \n",
       "1                 0.642  0.782  0.762  0.770  0.730  0.689  0.676  0.684\n",
       "2                 0.674  0.782  0.767  0.757  0.722  0.675  0.656  0.646\n",
       "5                 0.761  0.767  0.773  0.790  0.780  0.782  0.792  0.816\n",
       "10                0.812  0.778  0.810  0.797  0.804  0.817  0.808  0.814\n",
       "15                0.787  0.775  0.798  0.766  0.781  0.789  0.785  0.802\n",
       "20                0.778  0.775  0.760  0.783  0.778  0.778  0.778  0.778\n",
       "100               0.784  0.784  0.784  0.784  0.784  0.784  0.784  0.784\n",
       "200               0.709  0.709  0.709  0.709  0.709  0.709  0.709  0.709\n",
       "500               0.500  0.500  0.500  0.500  0.500  0.500  0.500  0.500"
      ]
     },
     "execution_count": 111,
     "metadata": {},
     "output_type": "execute_result"
    }
   ],
   "source": [
    "df_scores_pivot = df_scores.pivot(index='min_samples_leaf', columns=['max_depth'], values=['auc'])\n",
    "df_scores_pivot.round(3)"
   ]
  },
  {
   "cell_type": "code",
   "execution_count": 112,
   "id": "d865f293",
   "metadata": {
    "scrolled": true
   },
   "outputs": [
    {
     "data": {
      "text/plain": [
       "<AxesSubplot:xlabel='None-max_depth', ylabel='min_samples_leaf'>"
      ]
     },
     "execution_count": 112,
     "metadata": {},
     "output_type": "execute_result"
    },
    {
     "data": {
      "image/png": "[encoded data removed]",
      "text/plain": [
       "<Figure size 432x288 with 2 Axes>"
      ]
     },
     "metadata": {
      "needs_background": "light"
     },
     "output_type": "display_data"
    }
   ],
   "source": [
    "sns.heatmap(df_scores_pivot, annot=True, fmt = '.3f')"
   ]
  },
  {
   "cell_type": "code",
   "execution_count": 113,
   "id": "58d366ca",
   "metadata": {},
   "outputs": [
    {
     "data": {
      "text/plain": [
       "DecisionTreeClassifier(max_depth=10, min_samples_leaf=10)"
      ]
     },
     "execution_count": 113,
     "metadata": {},
     "output_type": "execute_result"
    }
   ],
   "source": [
    "dt = DecisionTreeClassifier(max_depth=10, min_samples_leaf=10)\n",
    "dt.fit(X_train, y_train)"
   ]
  },
  {
   "cell_type": "code",
   "execution_count": 122,
   "id": "84a83593",
   "metadata": {},
   "outputs": [],
   "source": [
    "import pickle \n",
    "\n",
    "with open('predict-model.bin', 'wb') as f_out:\n",
    "    pickle.dump(dt, f_out)\n",
    "    \n",
    "with open('dv.bin', 'wb') as f_out:\n",
    "    pickle.dump(dv, f_out)"
   ]
  },
  {
   "cell_type": "code",
   "execution_count": 118,
   "id": "e85ec486",
   "metadata": {},
   "outputs": [],
   "source": [
    "customer = {\n",
    "'checking_status': \"'<0'\",\n",
    " 'duration': 36,\n",
    " 'credit_history': \"'critical/other existing credit'\",\n",
    " 'purpose': 'education',\n",
    " 'credit_amount': 8065,\n",
    " 'savings_status': \"'<100'\",\n",
    " 'employment': \"'1<=X<4'\",\n",
    " 'installment_commitment': 3,\n",
    " 'personal_status': \"'female div/dep/mar'\",\n",
    " 'other_parties': 'none',\n",
    " 'residence_since': 2,\n",
    " 'property_magnitude': \"'no known property'\",\n",
    " 'age': 25,\n",
    " 'other_payment_plans': 'none',\n",
    " 'housing': 'own',\n",
    " 'existing_credits': 2,\n",
    " 'job': \"'high qualif/self emp/mgmt'\",\n",
    " 'num_dependents': 1,\n",
    " 'own_telephone': 'yes',\n",
    " 'foreign_worker': 'yes'\n",
    "}"
   ]
  },
  {
   "cell_type": "code",
   "execution_count": 125,
   "id": "d2462e79",
   "metadata": {},
   "outputs": [
    {
     "data": {
      "text/plain": [
       "{'bad': True, 'bad_probability': 0.9411764705882353}"
      ]
     },
     "execution_count": 125,
     "metadata": {},
     "output_type": "execute_result"
    }
   ],
   "source": [
    "import requests\n",
    "url = 'http://localhost:9698/predict'\n",
    "response = requests.post(url, json=customer)\n",
    "result = response.json()\n",
    "result"
   ]
  },
  {
   "cell_type": "code",
   "execution_count": null,
   "id": "e017190f",
   "metadata": {},
   "outputs": [],
   "source": []
  }
 ],
 "metadata": {
  "kernelspec": {
   "display_name": "Python 3",
   "language": "python",
   "name": "python3"
  },
  "language_info": {
   "codemirror_mode": {
    "name": "ipython",
    "version": 3
   },
   "file_extension": ".py",
   "mimetype": "text/x-python",
   "name": "python",
   "nbconvert_exporter": "python",
   "pygments_lexer": "ipython3",
   "version": "3.8.8"
  }
 },
 "nbformat": 4,
 "nbformat_minor": 5
}
